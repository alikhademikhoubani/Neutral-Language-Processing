{
 "cells": [
  {
   "cell_type": "code",
   "execution_count": 19,
   "id": "70a5865b",
   "metadata": {},
   "outputs": [],
   "source": [
    "from langchain_groq import ChatGroq\n",
    "from typing import TypedDict\n",
    "from typing_extensions import Annotated\n",
    "from langgraph.graph.message import AnyMessage, add_messages\n",
    "from langgraph.checkpoint.memory import MemorySaver\n",
    "from langgraph.graph import StateGraph, START, END"
   ]
  },
  {
   "cell_type": "code",
   "execution_count": 5,
   "id": "e5fb4370",
   "metadata": {},
   "outputs": [],
   "source": [
    "llm = ChatGroq(model = \"llama-3.3-70b-versatile\", groq_api_key = \"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\")"
   ]
  },
  {
   "cell_type": "code",
   "execution_count": 14,
   "id": "cdd6c084",
   "metadata": {},
   "outputs": [],
   "source": [
    "class State(TypedDict):\n",
    "    messages: Annotated[list[AnyMessage], add_messages]"
   ]
  },
  {
   "cell_type": "code",
   "execution_count": 15,
   "id": "bda897ca",
   "metadata": {},
   "outputs": [],
   "source": [
    "def superbot(state: State):\n",
    "    return {\"messages\": [llm.invoke(state[\"messages\"])]}"
   ]
  },
  {
   "cell_type": "code",
   "execution_count": 18,
   "id": "5a4687b7",
   "metadata": {},
   "outputs": [],
   "source": [
    "memory = MemorySaver()"
   ]
  },
  {
   "cell_type": "code",
   "execution_count": 21,
   "id": "efe34081",
   "metadata": {},
   "outputs": [],
   "source": [
    "builder = StateGraph(State)\n",
    "\n",
    "builder.add_node(\"SuperBot\", superbot)\n",
    "\n",
    "builder.add_edge(START, \"SuperBot\")\n",
    "builder.add_edge(\"SuperBot\", END)\n",
    "\n",
    "graph = builder.compile(checkpointer = memory)"
   ]
  },
  {
   "cell_type": "code",
   "execution_count": 31,
   "id": "1ad861e0",
   "metadata": {},
   "outputs": [],
   "source": [
    "config = {\"configurable\": {\"thread_id\": \"11\"}}\n",
    "\n",
    "def get_response(query):\n",
    "    response = graph.invoke({\"messages\": query}, config = config)\n",
    "    return response[\"messages\"][-1].content"
   ]
  },
  {
   "cell_type": "code",
   "execution_count": 32,
   "id": "74a6515d",
   "metadata": {},
   "outputs": [
    {
     "name": "stdout",
     "output_type": "stream",
     "text": [
      "Hi Ali, nice to meet you! Soccer is an amazing sport, isn't it? What's your favorite team or player? Do you play soccer yourself or just enjoy watching it?\n"
     ]
    }
   ],
   "source": [
    "print(get_response(\"Hi, my name is ali and i like soccer\"))"
   ]
  },
  {
   "cell_type": "code",
   "execution_count": 33,
   "id": "f6ab7251",
   "metadata": {},
   "outputs": [
    {
     "name": "stdout",
     "output_type": "stream",
     "text": [
      "{'SuperBot': {'messages': [AIMessage(content=\"Hi Ali, nice to meet you. Soccer is an amazing sport, isn't it? What's your favorite team or player? Do you play soccer yourself or just enjoy watching it?\", additional_kwargs={}, response_metadata={'token_usage': {'completion_tokens': 38, 'prompt_tokens': 45, 'total_tokens': 83, 'completion_time': 0.092503259, 'prompt_time': 0.002553567, 'queue_time': 0.090964766, 'total_time': 0.095056826}, 'model_name': 'llama-3.3-70b-versatile', 'system_fingerprint': 'fp_155ab82e98', 'service_tier': 'on_demand', 'finish_reason': 'stop', 'logprobs': None}, id='run--89b09cf1-8fc7-45f1-9276-dd42fe241e47-0', usage_metadata={'input_tokens': 45, 'output_tokens': 38, 'total_tokens': 83})]}}\n"
     ]
    }
   ],
   "source": [
    "config = {\"configurable\": {\"thread_id\": \"12\"}}\n",
    "\n",
    "for chunk in graph.stream({\"messages\": \"Hi, my name is ali and i like soccer\"}, config, stream_mode = \"updates\"):\n",
    "    print(chunk)"
   ]
  },
  {
   "cell_type": "code",
   "execution_count": 34,
   "id": "3627673e",
   "metadata": {},
   "outputs": [
    {
     "name": "stdout",
     "output_type": "stream",
     "text": [
      "{'messages': [HumanMessage(content='Hi, my name is ali and i like soccer', additional_kwargs={}, response_metadata={}, id='a6cd3aff-a673-4314-b16e-a11c81c7a5b1'), AIMessage(content=\"Hi Ali, nice to meet you. Soccer is an amazing sport, isn't it? What's your favorite team or player? Do you play soccer yourself or just enjoy watching it?\", additional_kwargs={}, response_metadata={'token_usage': {'completion_tokens': 38, 'prompt_tokens': 45, 'total_tokens': 83, 'completion_time': 0.092503259, 'prompt_time': 0.002553567, 'queue_time': 0.090964766, 'total_time': 0.095056826}, 'model_name': 'llama-3.3-70b-versatile', 'system_fingerprint': 'fp_155ab82e98', 'service_tier': 'on_demand', 'finish_reason': 'stop', 'logprobs': None}, id='run--89b09cf1-8fc7-45f1-9276-dd42fe241e47-0', usage_metadata={'input_tokens': 45, 'output_tokens': 38, 'total_tokens': 83}), HumanMessage(content='Hi, my name is ali and i like soccer', additional_kwargs={}, response_metadata={}, id='e0988794-5306-43a7-a14f-b833fb42b123')]}\n",
      "{'messages': [HumanMessage(content='Hi, my name is ali and i like soccer', additional_kwargs={}, response_metadata={}, id='a6cd3aff-a673-4314-b16e-a11c81c7a5b1'), AIMessage(content=\"Hi Ali, nice to meet you. Soccer is an amazing sport, isn't it? What's your favorite team or player? Do you play soccer yourself or just enjoy watching it?\", additional_kwargs={}, response_metadata={'token_usage': {'completion_tokens': 38, 'prompt_tokens': 45, 'total_tokens': 83, 'completion_time': 0.092503259, 'prompt_time': 0.002553567, 'queue_time': 0.090964766, 'total_time': 0.095056826}, 'model_name': 'llama-3.3-70b-versatile', 'system_fingerprint': 'fp_155ab82e98', 'service_tier': 'on_demand', 'finish_reason': 'stop', 'logprobs': None}, id='run--89b09cf1-8fc7-45f1-9276-dd42fe241e47-0', usage_metadata={'input_tokens': 45, 'output_tokens': 38, 'total_tokens': 83}), HumanMessage(content='Hi, my name is ali and i like soccer', additional_kwargs={}, response_metadata={}, id='e0988794-5306-43a7-a14f-b833fb42b123'), AIMessage(content='Hi again Ali, we already met. You mentioned you like soccer. What do you like most about the sport? Is it the strategy, the skill, or the excitement of the game?', additional_kwargs={}, response_metadata={'token_usage': {'completion_tokens': 39, 'prompt_tokens': 102, 'total_tokens': 141, 'completion_time': 0.120847382, 'prompt_time': 0.005468777, 'queue_time': 0.094959389, 'total_time': 0.126316159}, 'model_name': 'llama-3.3-70b-versatile', 'system_fingerprint': 'fp_155ab82e98', 'service_tier': 'on_demand', 'finish_reason': 'stop', 'logprobs': None}, id='run--11a52264-d320-482c-bd3f-e676905f2de0-0', usage_metadata={'input_tokens': 102, 'output_tokens': 39, 'total_tokens': 141})]}\n"
     ]
    }
   ],
   "source": [
    "for chunk in graph.stream({\"messages\": \"Hi, my name is ali and i like soccer\"}, config, stream_mode = \"values\"):\n",
    "    print(chunk)"
   ]
  },
  {
   "cell_type": "code",
   "execution_count": 35,
   "id": "9e6dbb12",
   "metadata": {},
   "outputs": [
    {
     "name": "stdout",
     "output_type": "stream",
     "text": [
      "{'messages': [HumanMessage(content='Hi, my name is ali and i like soccer', additional_kwargs={}, response_metadata={}, id='a6cd3aff-a673-4314-b16e-a11c81c7a5b1'), AIMessage(content=\"Hi Ali, nice to meet you. Soccer is an amazing sport, isn't it? What's your favorite team or player? Do you play soccer yourself or just enjoy watching it?\", additional_kwargs={}, response_metadata={'token_usage': {'completion_tokens': 38, 'prompt_tokens': 45, 'total_tokens': 83, 'completion_time': 0.092503259, 'prompt_time': 0.002553567, 'queue_time': 0.090964766, 'total_time': 0.095056826}, 'model_name': 'llama-3.3-70b-versatile', 'system_fingerprint': 'fp_155ab82e98', 'service_tier': 'on_demand', 'finish_reason': 'stop', 'logprobs': None}, id='run--89b09cf1-8fc7-45f1-9276-dd42fe241e47-0', usage_metadata={'input_tokens': 45, 'output_tokens': 38, 'total_tokens': 83}), HumanMessage(content='Hi, my name is ali and i like soccer', additional_kwargs={}, response_metadata={}, id='e0988794-5306-43a7-a14f-b833fb42b123'), AIMessage(content='Hi again Ali, we already met. You mentioned you like soccer. What do you like most about the sport? Is it the strategy, the skill, or the excitement of the game?', additional_kwargs={}, response_metadata={'token_usage': {'completion_tokens': 39, 'prompt_tokens': 102, 'total_tokens': 141, 'completion_time': 0.120847382, 'prompt_time': 0.005468777, 'queue_time': 0.094959389, 'total_time': 0.126316159}, 'model_name': 'llama-3.3-70b-versatile', 'system_fingerprint': 'fp_155ab82e98', 'service_tier': 'on_demand', 'finish_reason': 'stop', 'logprobs': None}, id='run--11a52264-d320-482c-bd3f-e676905f2de0-0', usage_metadata={'input_tokens': 102, 'output_tokens': 39, 'total_tokens': 141})]}\n"
     ]
    }
   ],
   "source": [
    "config = {\"configurable\": {\"thread_id\": \"13\"}}\n",
    "for chunks in graph.stream({\"messages\": \"Hi, my name is ali and i like soccer\"}, config, stream_mode = \"updates\"):\n",
    "    print(chunk)"
   ]
  },
  {
   "cell_type": "code",
   "execution_count": 36,
   "id": "06cdc806",
   "metadata": {},
   "outputs": [
    {
     "name": "stdout",
     "output_type": "stream",
     "text": [
      "{'messages': [HumanMessage(content='Hi, my name is ali and i like soccer', additional_kwargs={}, response_metadata={}, id='2295f946-59cd-4b39-aaf4-42eb338ca091'), AIMessage(content=\"Hi Ali, nice to meet you. Soccer is an amazing sport, isn't it? What's your favorite team or player? Do you play soccer yourself or just enjoy watching it?\", additional_kwargs={}, response_metadata={'token_usage': {'completion_tokens': 38, 'prompt_tokens': 45, 'total_tokens': 83, 'completion_time': 0.092369551, 'prompt_time': 0.002576491, 'queue_time': 0.096335657, 'total_time': 0.094946042}, 'model_name': 'llama-3.3-70b-versatile', 'system_fingerprint': 'fp_9e1e8f8435', 'service_tier': 'on_demand', 'finish_reason': 'stop', 'logprobs': None}, id='run--f00b759f-d0df-4289-baff-ef25a4cfaff3-0', usage_metadata={'input_tokens': 45, 'output_tokens': 38, 'total_tokens': 83}), HumanMessage(content='i also like voleyball', additional_kwargs={}, response_metadata={}, id='32fc2f07-1edc-4c76-8b5a-9309738c08c7')]}\n",
      "{'messages': [HumanMessage(content='Hi, my name is ali and i like soccer', additional_kwargs={}, response_metadata={}, id='2295f946-59cd-4b39-aaf4-42eb338ca091'), AIMessage(content=\"Hi Ali, nice to meet you. Soccer is an amazing sport, isn't it? What's your favorite team or player? Do you play soccer yourself or just enjoy watching it?\", additional_kwargs={}, response_metadata={'token_usage': {'completion_tokens': 38, 'prompt_tokens': 45, 'total_tokens': 83, 'completion_time': 0.092369551, 'prompt_time': 0.002576491, 'queue_time': 0.096335657, 'total_time': 0.094946042}, 'model_name': 'llama-3.3-70b-versatile', 'system_fingerprint': 'fp_9e1e8f8435', 'service_tier': 'on_demand', 'finish_reason': 'stop', 'logprobs': None}, id='run--f00b759f-d0df-4289-baff-ef25a4cfaff3-0', usage_metadata={'input_tokens': 45, 'output_tokens': 38, 'total_tokens': 83}), HumanMessage(content='i also like voleyball', additional_kwargs={}, response_metadata={}, id='32fc2f07-1edc-4c76-8b5a-9309738c08c7'), AIMessage(content=\"That's great, Ali! Volleyball is another exciting sport. It requires a lot of skill, strategy, and teamwork. Do you have a favorite volleyball team or player, or is there a particular aspect of the game that you enjoy the most, such as the spikes or the blocks?\\n\\nBy the way, do you play both soccer and volleyball, or do you focus on one of them?\", additional_kwargs={}, response_metadata={'token_usage': {'completion_tokens': 80, 'prompt_tokens': 98, 'total_tokens': 178, 'completion_time': 0.21461679, 'prompt_time': 0.005219161, 'queue_time': 0.103187249, 'total_time': 0.219835951}, 'model_name': 'llama-3.3-70b-versatile', 'system_fingerprint': 'fp_9e1e8f8435', 'service_tier': 'on_demand', 'finish_reason': 'stop', 'logprobs': None}, id='run--7c7986fc-605f-4e8c-ac34-9cd6e72ddf8e-0', usage_metadata={'input_tokens': 98, 'output_tokens': 80, 'total_tokens': 178})]}\n"
     ]
    }
   ],
   "source": [
    "for chunk in graph.stream({\"messages\": \"i also like voleyball\"}, config, stream_mode = \"values\"):\n",
    "    print(chunk)"
   ]
  },
  {
   "cell_type": "code",
   "execution_count": 38,
   "id": "890e1049",
   "metadata": {},
   "outputs": [
    {
     "name": "stdout",
     "output_type": "stream",
     "text": [
      "{'event': 'on_chain_start', 'data': {'input': {'messages': ['Hi, my name is ali and i like soccer']}}, 'name': 'LangGraph', 'tags': [], 'run_id': 'e488112f-f766-4f91-a284-a274bfff0993', 'metadata': {'thread_id': '14'}, 'parent_ids': []}\n",
      "{'event': 'on_chain_start', 'data': {'input': {'messages': [HumanMessage(content='Hi, my name is ali and i like soccer', additional_kwargs={}, response_metadata={}, id='ee97afc4-e30d-4679-ac6f-4413c6ed842a')]}}, 'name': 'SuperBot', 'tags': ['graph:step:1'], 'run_id': 'ecb6c873-c133-4e14-bad7-1b8026a6c60f', 'metadata': {'thread_id': '14', 'langgraph_step': 1, 'langgraph_node': 'SuperBot', 'langgraph_triggers': ('branch:to:SuperBot',), 'langgraph_path': ('__pregel_pull', 'SuperBot'), 'langgraph_checkpoint_ns': 'SuperBot:5d01f172-e030-af72-739b-82605aa347b0'}, 'parent_ids': ['e488112f-f766-4f91-a284-a274bfff0993']}\n",
      "{'event': 'on_chain_stream', 'run_id': 'ecb6c873-c133-4e14-bad7-1b8026a6c60f', 'name': 'SuperBot', 'tags': ['graph:step:1'], 'metadata': {'thread_id': '14', 'langgraph_step': 1, 'langgraph_node': 'SuperBot', 'langgraph_triggers': ('branch:to:SuperBot',), 'langgraph_path': ('__pregel_pull', 'SuperBot'), 'langgraph_checkpoint_ns': 'SuperBot:5d01f172-e030-af72-739b-82605aa347b0'}, 'data': {'chunk': {'messages': [AIMessage(content=\"Nice to meet you, Ali. Soccer is an amazing sport, isn't it? What do you like most about it? Are you a fan of a particular team or player? Do you play soccer yourself, or do you enjoy watching it?\", additional_kwargs={}, response_metadata={'token_usage': {'completion_tokens': 50, 'prompt_tokens': 45, 'total_tokens': 95, 'completion_time': 0.118998392, 'prompt_time': 0.002241704, 'queue_time': 0.093863638, 'total_time': 0.121240096}, 'model_name': 'llama-3.3-70b-versatile', 'system_fingerprint': 'fp_155ab82e98', 'service_tier': 'on_demand', 'finish_reason': 'stop', 'logprobs': None}, id='run--c36bd36f-957b-4114-a5c7-e7350fcc12a1-0', usage_metadata={'input_tokens': 45, 'output_tokens': 50, 'total_tokens': 95})]}}, 'parent_ids': ['e488112f-f766-4f91-a284-a274bfff0993']}\n",
      "{'event': 'on_chain_end', 'data': {'output': {'messages': [AIMessage(content=\"Nice to meet you, Ali. Soccer is an amazing sport, isn't it? What do you like most about it? Are you a fan of a particular team or player? Do you play soccer yourself, or do you enjoy watching it?\", additional_kwargs={}, response_metadata={'token_usage': {'completion_tokens': 50, 'prompt_tokens': 45, 'total_tokens': 95, 'completion_time': 0.118998392, 'prompt_time': 0.002241704, 'queue_time': 0.093863638, 'total_time': 0.121240096}, 'model_name': 'llama-3.3-70b-versatile', 'system_fingerprint': 'fp_155ab82e98', 'service_tier': 'on_demand', 'finish_reason': 'stop', 'logprobs': None}, id='run--c36bd36f-957b-4114-a5c7-e7350fcc12a1-0', usage_metadata={'input_tokens': 45, 'output_tokens': 50, 'total_tokens': 95})]}, 'input': {'messages': [HumanMessage(content='Hi, my name is ali and i like soccer', additional_kwargs={}, response_metadata={}, id='ee97afc4-e30d-4679-ac6f-4413c6ed842a')]}}, 'run_id': 'ecb6c873-c133-4e14-bad7-1b8026a6c60f', 'name': 'SuperBot', 'tags': ['graph:step:1'], 'metadata': {'thread_id': '14', 'langgraph_step': 1, 'langgraph_node': 'SuperBot', 'langgraph_triggers': ('branch:to:SuperBot',), 'langgraph_path': ('__pregel_pull', 'SuperBot'), 'langgraph_checkpoint_ns': 'SuperBot:5d01f172-e030-af72-739b-82605aa347b0'}, 'parent_ids': ['e488112f-f766-4f91-a284-a274bfff0993']}\n",
      "{'event': 'on_chain_stream', 'run_id': 'e488112f-f766-4f91-a284-a274bfff0993', 'name': 'LangGraph', 'tags': [], 'metadata': {'thread_id': '14'}, 'data': {'chunk': {'SuperBot': {'messages': [AIMessage(content=\"Nice to meet you, Ali. Soccer is an amazing sport, isn't it? What do you like most about it? Are you a fan of a particular team or player? Do you play soccer yourself, or do you enjoy watching it?\", additional_kwargs={}, response_metadata={'token_usage': {'completion_tokens': 50, 'prompt_tokens': 45, 'total_tokens': 95, 'completion_time': 0.118998392, 'prompt_time': 0.002241704, 'queue_time': 0.093863638, 'total_time': 0.121240096}, 'model_name': 'llama-3.3-70b-versatile', 'system_fingerprint': 'fp_155ab82e98', 'service_tier': 'on_demand', 'finish_reason': 'stop', 'logprobs': None}, id='run--c36bd36f-957b-4114-a5c7-e7350fcc12a1-0', usage_metadata={'input_tokens': 45, 'output_tokens': 50, 'total_tokens': 95})]}}}, 'parent_ids': []}\n",
      "{'event': 'on_chain_end', 'data': {'output': {'messages': [HumanMessage(content='Hi, my name is ali and i like soccer', additional_kwargs={}, response_metadata={}, id='ee97afc4-e30d-4679-ac6f-4413c6ed842a'), AIMessage(content=\"Nice to meet you, Ali. Soccer is an amazing sport, isn't it? What do you like most about it? Are you a fan of a particular team or player? Do you play soccer yourself, or do you enjoy watching it?\", additional_kwargs={}, response_metadata={'token_usage': {'completion_tokens': 50, 'prompt_tokens': 45, 'total_tokens': 95, 'completion_time': 0.118998392, 'prompt_time': 0.002241704, 'queue_time': 0.093863638, 'total_time': 0.121240096}, 'model_name': 'llama-3.3-70b-versatile', 'system_fingerprint': 'fp_155ab82e98', 'service_tier': 'on_demand', 'finish_reason': 'stop', 'logprobs': None}, id='run--c36bd36f-957b-4114-a5c7-e7350fcc12a1-0', usage_metadata={'input_tokens': 45, 'output_tokens': 50, 'total_tokens': 95})]}}, 'run_id': 'e488112f-f766-4f91-a284-a274bfff0993', 'name': 'LangGraph', 'tags': [], 'metadata': {'thread_id': '14'}, 'parent_ids': []}\n"
     ]
    }
   ],
   "source": [
    "config = {\"configurable\": {\"thread_id\": \"14\"}}\n",
    "\n",
    "async for event in graph.astream_events({\"messages\": [\"Hi, my name is ali and i like soccer\"]}, config, version = \"v2\"):\n",
    "    print(event)"
   ]
  }
 ],
 "metadata": {
  "kernelspec": {
   "display_name": "Python (myenv)",
   "language": "python",
   "name": "myenv"
  },
  "language_info": {
   "codemirror_mode": {
    "name": "ipython",
    "version": 3
   },
   "file_extension": ".py",
   "mimetype": "text/x-python",
   "name": "python",
   "nbconvert_exporter": "python",
   "pygments_lexer": "ipython3",
   "version": "3.9.23"
  }
 },
 "nbformat": 4,
 "nbformat_minor": 5
}
