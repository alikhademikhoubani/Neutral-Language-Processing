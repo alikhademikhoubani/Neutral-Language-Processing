{
 "cells": [
  {
   "cell_type": "code",
   "execution_count": 1,
   "id": "d4f1d7d8-217b-4da2-9e40-d3e23e223be5",
   "metadata": {},
   "outputs": [],
   "source": [
    "import numpy as np\n",
    "from tensorflow.keras.preprocessing.text import one_hot\n",
    "from tensorflow.keras.preprocessing.sequence import pad_sequences\n",
    "from tensorflow.keras.models import Sequential\n",
    "from tensorflow.keras.layers import Dense\n",
    "from tensorflow.keras.layers import Flatten\n",
    "from tensorflow.keras.layers import Embedding"
   ]
  },
  {
   "cell_type": "code",
   "execution_count": 2,
   "id": "0f026c5d-523b-40be-9166-ec093a676025",
   "metadata": {},
   "outputs": [],
   "source": [
    "reviews=['nice food',\n",
    "         'amazing restaurant',\n",
    "         'too good',\n",
    "         'just loved it',\n",
    "         'will go again',\n",
    "         'horrible food',\n",
    "         'never go there',\n",
    "         'poor service',\n",
    "         'poor quality',\n",
    "         'needs improvement']\n",
    "\n",
    "sentiment=np.array([1,1,1,1,1,0,0,0,0,0])"
   ]
  },
  {
   "cell_type": "code",
   "execution_count": 3,
   "id": "f97b4142-b265-4952-8d96-60815dd2f2ae",
   "metadata": {},
   "outputs": [
    {
     "data": {
      "text/plain": [
       "[8, 14]"
      ]
     },
     "execution_count": 3,
     "metadata": {},
     "output_type": "execute_result"
    }
   ],
   "source": [
    "one_hot('amazing restaurant',30)"
   ]
  },
  {
   "cell_type": "code",
   "execution_count": 4,
   "id": "e25cc455-6814-4ee2-be39-8a881d1dc3a8",
   "metadata": {},
   "outputs": [
    {
     "data": {
      "text/plain": [
       "[[5, 20],\n",
       " [8, 14],\n",
       " [22, 6],\n",
       " [26, 6, 23],\n",
       " [15, 11, 29],\n",
       " [23, 20],\n",
       " [5, 11, 4],\n",
       " [17, 17],\n",
       " [17, 11],\n",
       " [19, 28]]"
      ]
     },
     "execution_count": 4,
     "metadata": {},
     "output_type": "execute_result"
    }
   ],
   "source": [
    "vocab_size=30\n",
    "encoded_reviews=[one_hot(d,vocab_size) for d in reviews]\n",
    "encoded_reviews"
   ]
  },
  {
   "cell_type": "code",
   "execution_count": 5,
   "id": "94f12018-b035-494b-8e2b-7cdac70a7fdd",
   "metadata": {},
   "outputs": [
    {
     "data": {
      "text/plain": [
       "array([[ 5, 20,  0],\n",
       "       [ 8, 14,  0],\n",
       "       [22,  6,  0],\n",
       "       [26,  6, 23],\n",
       "       [15, 11, 29],\n",
       "       [23, 20,  0],\n",
       "       [ 5, 11,  4],\n",
       "       [17, 17,  0],\n",
       "       [17, 11,  0],\n",
       "       [19, 28,  0]])"
      ]
     },
     "execution_count": 5,
     "metadata": {},
     "output_type": "execute_result"
    }
   ],
   "source": [
    "max_length=3\n",
    "padded_reviews=pad_sequences(encoded_reviews,maxlen=max_length,padding='post')\n",
    "padded_reviews"
   ]
  },
  {
   "cell_type": "code",
   "execution_count": 6,
   "id": "25147098-5e2e-47cc-98c5-4e1d5d4b1fa8",
   "metadata": {},
   "outputs": [],
   "source": [
    "embeded_vector_size=4\n",
    "\n",
    "model=Sequential()\n",
    "model.add(Embedding(vocab_size,embeded_vector_size,input_length=max_length,name='embedding'))\n",
    "model.add(Flatten())\n",
    "model.add(Dense(1,activation='sigmoid'))"
   ]
  },
  {
   "cell_type": "code",
   "execution_count": 7,
   "id": "d04a934e-c84a-4b28-922c-303a5c213918",
   "metadata": {},
   "outputs": [],
   "source": [
    "X=padded_reviews\n",
    "y=sentiment"
   ]
  },
  {
   "cell_type": "code",
   "execution_count": 8,
   "id": "289a973c-66a6-4067-99f5-caaad2957793",
   "metadata": {},
   "outputs": [
    {
     "name": "stdout",
     "output_type": "stream",
     "text": [
      "Model: \"sequential\"\n",
      "_________________________________________________________________\n",
      " Layer (type)                Output Shape              Param #   \n",
      "=================================================================\n",
      " embedding (Embedding)       (None, 3, 4)              120       \n",
      "                                                                 \n",
      " flatten (Flatten)           (None, 12)                0         \n",
      "                                                                 \n",
      " dense (Dense)               (None, 1)                 13        \n",
      "                                                                 \n",
      "=================================================================\n",
      "Total params: 133\n",
      "Trainable params: 133\n",
      "Non-trainable params: 0\n",
      "_________________________________________________________________\n"
     ]
    }
   ],
   "source": [
    "model.compile(optimizer='adam',loss='binary_crossentropy',metrics=['accuracy'])\n",
    "model.summary()"
   ]
  },
  {
   "cell_type": "code",
   "execution_count": 9,
   "id": "c3cf325d-7292-48bd-bb74-c6749610a6c0",
   "metadata": {},
   "outputs": [
    {
     "data": {
      "text/plain": [
       "<keras.callbacks.History at 0x2473fc64520>"
      ]
     },
     "execution_count": 9,
     "metadata": {},
     "output_type": "execute_result"
    }
   ],
   "source": [
    "model.fit(X,y,epochs=50,verbose=0)"
   ]
  },
  {
   "cell_type": "code",
   "execution_count": 10,
   "id": "90c06b11-5745-43bf-a1a6-b0b3886028ee",
   "metadata": {},
   "outputs": [
    {
     "name": "stdout",
     "output_type": "stream",
     "text": [
      "1/1 [==============================] - 0s 211ms/step - loss: 0.6288 - accuracy: 1.0000\n"
     ]
    },
    {
     "data": {
      "text/plain": [
       "1.0"
      ]
     },
     "execution_count": 10,
     "metadata": {},
     "output_type": "execute_result"
    }
   ],
   "source": [
    "loss,accuracy=model.evaluate(X,y)\n",
    "accuracy"
   ]
  },
  {
   "cell_type": "code",
   "execution_count": 11,
   "id": "2e101283-859c-4d7f-86c4-e2384c62f86f",
   "metadata": {},
   "outputs": [
    {
     "data": {
      "text/plain": [
       "array([[ 0.0206407 ,  0.01690362,  0.09696453, -0.07039004],\n",
       "       [-0.0044992 , -0.03889978,  0.03250741,  0.01702872],\n",
       "       [ 0.00025439, -0.02010649,  0.01342629, -0.01016892],\n",
       "       [ 0.03741354, -0.04524485, -0.04042051,  0.01713418],\n",
       "       [ 0.06696802,  0.03767754,  0.03639576, -0.09739731],\n",
       "       [ 0.05113935,  0.02239038, -0.00570373,  0.05041476],\n",
       "       [-0.06336839, -0.06130264,  0.06532104, -0.08252654],\n",
       "       [ 0.03140396,  0.03048063, -0.03771585,  0.00274171],\n",
       "       [ 0.02636729,  0.00515879,  0.03048792,  0.09245142],\n",
       "       [-0.03745623,  0.04318459,  0.00789184, -0.01184858],\n",
       "       [-0.00714742,  0.01875733,  0.00735059,  0.03770181],\n",
       "       [ 0.08952121,  0.03495721, -0.08969177,  0.064299  ],\n",
       "       [ 0.0059749 ,  0.02242449,  0.00516549, -0.04083176],\n",
       "       [ 0.01570976,  0.04557845, -0.00063521, -0.00836308],\n",
       "       [-0.05909605, -0.04184291,  0.00521322, -0.0857345 ],\n",
       "       [ 0.09345327,  0.0297541 ,  0.05309514,  0.07463012],\n",
       "       [-0.035537  ,  0.02497797,  0.02086555, -0.03942993],\n",
       "       [-0.04835333, -0.02424243, -0.05613936, -0.0208509 ],\n",
       "       [ 0.01960767, -0.02327904, -0.01308254,  0.02603726],\n",
       "       [-0.04006848, -0.03918767, -0.06672228, -0.03544039],\n",
       "       [ 0.00354093, -0.08070265,  0.06124367, -0.06277727],\n",
       "       [-0.04599626,  0.03674108,  0.01977738, -0.04289043],\n",
       "       [ 0.09023856,  0.09206571,  0.09300207,  0.05764431],\n",
       "       [-0.05919587, -0.05366471, -0.0187471 , -0.05822729],\n",
       "       [-0.0103578 ,  0.01847451, -0.01014029,  0.01374731],\n",
       "       [ 0.01160772,  0.04976868, -0.01858632,  0.0397766 ],\n",
       "       [ 0.00730834,  0.05970512,  0.00408513,  0.03580919],\n",
       "       [-0.03800546, -0.01070038,  0.03931728,  0.01350603],\n",
       "       [ 0.05576377,  0.0713903 , -0.05137146,  0.05716702],\n",
       "       [-0.05951197, -0.06267569, -0.10397968,  0.07527612]],\n",
       "      dtype=float32)"
      ]
     },
     "execution_count": 11,
     "metadata": {},
     "output_type": "execute_result"
    }
   ],
   "source": [
    "model.get_layer('embedding').get_weights()[0]"
   ]
  },
  {
   "cell_type": "code",
   "execution_count": 12,
   "id": "0a04822a-e6d1-4a50-bba1-4a996e3e04dd",
   "metadata": {},
   "outputs": [
    {
     "data": {
      "text/plain": [
       "30"
      ]
     },
     "execution_count": 12,
     "metadata": {},
     "output_type": "execute_result"
    }
   ],
   "source": [
    "weights=model.get_layer('embedding').get_weights()[0]\n",
    "len(weights)"
   ]
  },
  {
   "cell_type": "code",
   "execution_count": 17,
   "id": "6bf874d6-c626-4007-92bc-a4f8108dbf20",
   "metadata": {},
   "outputs": [
    {
     "data": {
      "text/plain": [
       "array([ 0.05113935,  0.02239038, -0.00570373,  0.05041476], dtype=float32)"
      ]
     },
     "execution_count": 17,
     "metadata": {},
     "output_type": "execute_result"
    }
   ],
   "source": [
    "weights[5]"
   ]
  },
  {
   "cell_type": "code",
   "execution_count": 18,
   "id": "30e560e8-f0c2-471c-a32a-eb27db36f916",
   "metadata": {},
   "outputs": [
    {
     "data": {
      "text/plain": [
       "array([0.02636729, 0.00515879, 0.03048792, 0.09245142], dtype=float32)"
      ]
     },
     "execution_count": 18,
     "metadata": {},
     "output_type": "execute_result"
    }
   ],
   "source": [
    "weights[8]"
   ]
  }
 ],
 "metadata": {
  "kernelspec": {
   "display_name": "Python 3 (ipykernel)",
   "language": "python",
   "name": "python3"
  },
  "language_info": {
   "codemirror_mode": {
    "name": "ipython",
    "version": 3
   },
   "file_extension": ".py",
   "mimetype": "text/x-python",
   "name": "python",
   "nbconvert_exporter": "python",
   "pygments_lexer": "ipython3",
   "version": "3.10.5"
  }
 },
 "nbformat": 4,
 "nbformat_minor": 5
}
