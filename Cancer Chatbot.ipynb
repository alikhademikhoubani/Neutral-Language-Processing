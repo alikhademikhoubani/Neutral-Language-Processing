{
 "cells": [
  {
   "cell_type": "code",
   "execution_count": 158,
   "id": "4c4b2b8c",
   "metadata": {},
   "outputs": [],
   "source": [
    "import pandas as pd\n",
    "import numpy as np\n",
    "import json\n",
    "import random\n",
    "from sklearn.preprocessing import LabelEncoder\n",
    "from tensorflow.keras.preprocessing.text import Tokenizer\n",
    "from tensorflow.keras.preprocessing.sequence import pad_sequences\n",
    "from keras.initializers import Constant\n",
    "from tensorflow.keras.models import Model\n",
    "from tensorflow.keras.layers import Input,Embedding,LSTM,Dense,Flatten\n",
    "import matplotlib.pyplot as plt"
   ]
  },
  {
   "cell_type": "code",
   "execution_count": 159,
   "id": "f6f5d91b",
   "metadata": {},
   "outputs": [],
   "source": [
    "with open('cancer.json') as f:\n",
    "    data=json.load(f)"
   ]
  },
  {
   "cell_type": "code",
   "execution_count": 160,
   "id": "e0288771",
   "metadata": {},
   "outputs": [],
   "source": [
    "d=[]\n",
    "for i in data['intents']:\n",
    "    for j in i['patterns']:\n",
    "        d.append((j,i['tag']))"
   ]
  },
  {
   "cell_type": "code",
   "execution_count": 161,
   "id": "244198aa",
   "metadata": {
    "scrolled": false
   },
   "outputs": [
    {
     "data": {
      "text/plain": [
       "[('hello', 'greetings'),\n",
       " ('hey', 'greetings'),\n",
       " ('hi', 'greetings'),\n",
       " ('good day', 'greetings'),\n",
       " ('Greetings', 'greetings'),\n",
       " (\"what's up?\", 'greetings'),\n",
       " ('how is it going', 'greetings'),\n",
       " ('cya', 'goodbye'),\n",
       " ('See you later', 'goodbye'),\n",
       " ('Goodbye', 'goodbye'),\n",
       " ('I am Leaving', 'goodbye'),\n",
       " ('Have a good day', 'goodbye'),\n",
       " ('bye', 'goodbye'),\n",
       " ('cao', 'goodbye'),\n",
       " ('see ya', 'goodbye'),\n",
       " ('What is cancer?', 'q1'),\n",
       " (\"What's cancer\", 'q1'),\n",
       " ('cancer', 'q1'),\n",
       " ('What causes cancer?', 'q2'),\n",
       " ('causes of cancer', 'q2'),\n",
       " ('causes', 'q2'),\n",
       " ('What causes it?', 'q2'),\n",
       " ('Does cigarette smoke really cause cancer?', 'q3'),\n",
       " ('cigarette', 'q3'),\n",
       " ('smoking', 'q3'),\n",
       " ('smoking cigarette', 'q3'),\n",
       " ('Does smoking cause cancer?', 'q3'),\n",
       " ('Does cigarette smoke really cause it?', 'q3'),\n",
       " ('Can cancer be prevented?', 'q4'),\n",
       " ('prevent', 'q4'),\n",
       " ('preventing', 'q4'),\n",
       " ('prevent cancer', 'q4'),\n",
       " ('Can be prevented?', 'q4'),\n",
       " ('Are chemicals and pollutants causing cancer?', 'q5'),\n",
       " ('chemicals', 'q5'),\n",
       " ('pollutants', 'q5'),\n",
       " ('chemical', 'q5'),\n",
       " ('pollutant', 'q5'),\n",
       " ('Are chemicals and pollutants causing it?', 'q5'),\n",
       " ('Why does the diagnosis seem to be so delayed in so many cases?', 'q6'),\n",
       " ('diagnosis', 'q6'),\n",
       " ('delay', 'q6'),\n",
       " ('diagnosis delayed', 'q6'),\n",
       " (\"Why isn't there a simple, universal test for cancer?\", 'q7'),\n",
       " ('test', 'q7'),\n",
       " ('test for cancer', 'q7'),\n",
       " (\"Why isn't there a simple, universal test for it?\", 'q7'),\n",
       " ('Why do people with the same cancer get different treatment and have different problems?',\n",
       "  'q8'),\n",
       " ('different treatment', 'q8'),\n",
       " ('treatment', 'q8'),\n",
       " ('treatments', 'q8'),\n",
       " ('problems', 'q8'),\n",
       " ('problem', 'q8'),\n",
       " ('different problems', 'q8'),\n",
       " ('Does conventional treatment work?', 'q9'),\n",
       " ('conventional', 'q9'),\n",
       " ('treatment', 'q9'),\n",
       " ('conventional treatment', 'q9'),\n",
       " ('Why is the treatment so awful?', 'q10'),\n",
       " ('treatment', 'q10'),\n",
       " ('awful treatment', 'q10'),\n",
       " ('Can fatigue be prevented?', 'q11'),\n",
       " ('fatigue', 'q11'),\n",
       " ('fatigue treatment', 'q11'),\n",
       " ('prevent fatigue', 'q11'),\n",
       " ('How can I ask my family to help me?', 'q12'),\n",
       " ('help', 'q12'),\n",
       " ('ask help', 'q12'),\n",
       " ('help me', 'q12'),\n",
       " ('family', 'q12'),\n",
       " ('my family', 'q12'),\n",
       " ('ask', 'q12'),\n",
       " ('How does fatigue affect a person?', 'q13'),\n",
       " ('fatigue', 'q13'),\n",
       " ('How does fatigue affect', 'q13'),\n",
       " ('effects of fatigue', 'q13'),\n",
       " ('effect of fatigue', 'q13'),\n",
       " ('fatigue effects', 'q13'),\n",
       " ('Is fatigue a real symptom?', 'q14'),\n",
       " ('symptoms of fatigue', 'q14'),\n",
       " ('symptom of fatigue', 'q14'),\n",
       " ('fatigue symptom', 'q14'),\n",
       " ('Is fatigue a symptom?', 'q14'),\n",
       " ('How can I get the best from my doctor?', 'q15'),\n",
       " ('get the best from my doctor', 'q15'),\n",
       " ('get the best from doctor', 'q15'),\n",
       " ('get the best', 'q15'),\n",
       " ('How can get the best from doctor?', 'q15'),\n",
       " ('Why are people so frightened of cancer?', 'q16'),\n",
       " ('frightened', 'q16'),\n",
       " ('frighten', 'q16'),\n",
       " ('frightening', 'q16'),\n",
       " ('cancer frightening', 'q16'),\n",
       " ('Why are people so frightened of it?', 'q16'),\n",
       " ('Can attitudes or stress cause cancer?', 'q17'),\n",
       " ('attitudes', 'q17'),\n",
       " ('attitude', 'q17'),\n",
       " ('stress', 'q17'),\n",
       " ('attitudes or stress', 'q17'),\n",
       " ('Can attitudes cause cancer?', 'q17'),\n",
       " ('Can stress cause cancer?', 'q17'),\n",
       " ('Can attitudes or stress cause it?', 'q17'),\n",
       " ('Can a change in diet alter the course of cancer?', 'q18'),\n",
       " ('change in diet', 'q18'),\n",
       " ('course of cancer', 'q18'),\n",
       " ('changing the course of cancer with a change in diet', 'q18'),\n",
       " (\"With so many advances, why isn't there more progress?\", 'q19'),\n",
       " (\"why isn't there more progress\", 'q19'),\n",
       " ('more progress', 'q19'),\n",
       " ('progress', 'q19'),\n",
       " (\"there isn't more progress\", 'q19'),\n",
       " ('Will there ever be a cure for cancer?', 'q20'),\n",
       " ('cure', 'q20'),\n",
       " ('cure for cancer', 'q20'),\n",
       " ('Will there ever be a cure for it?', 'q20'),\n",
       " ('Can humans ever be free of cancer?', 'q21'),\n",
       " ('free of cancer', 'q21'),\n",
       " ('Can humans ever be free of it?', 'q21'),\n",
       " ('Will my hair grow back?', 'q22'),\n",
       " ('hair', 'q22'),\n",
       " ('grow back', 'q22'),\n",
       " ('my hair', 'q22'),\n",
       " ('If I have a lot of side effects, does that mean the chemotherapy is working?',\n",
       "  'q23'),\n",
       " ('side effect', 'q23'),\n",
       " ('side effects', 'q23'),\n",
       " ('chemotherapy', 'q23'),\n",
       " ('Are the side effects of chemotherapy worse than the cancer?', 'q24'),\n",
       " ('side effect', 'q24'),\n",
       " ('side effects', 'q24'),\n",
       " ('chemotherapy', 'q24'),\n",
       " ('Does everyone with cancer get anemia?', 'q25'),\n",
       " ('anemia', 'q25'),\n",
       " ('get anemia', 'q25'),\n",
       " ('What effect does alcohol have?', 'q26'),\n",
       " ('alcohol', 'q26'),\n",
       " ('alcohol effects', 'q26'),\n",
       " (\"Why don't I get anemia right after my chemotherapy?\", 'q27'),\n",
       " ('anemia', 'q27'),\n",
       " ('chemotherapy', 'q27'),\n",
       " ('get anemia', 'q27'),\n",
       " ('How is anemia treated?', 'q28'),\n",
       " ('anemia', 'q28'),\n",
       " ('treatment of anemia', 'q28'),\n",
       " ('What am I talking about?', 'q29'),\n",
       " ('What were we talking about?', 'q29'),\n",
       " ('What is topic being discussed?', 'q29'),\n",
       " ('What is my question about?', 'q29'),\n",
       " ('What was my question about?', 'q29'),\n",
       " ('What is my questions about?', 'q29'),\n",
       " ('What was my questions about?', 'q29'),\n",
       " ('Can you tell what I asked about?', 'q29'),\n",
       " ('Can you tell what we are talking about?', 'q29'),\n",
       " ('Should everyone get a second opinion?', 'q30'),\n",
       " ('Who gets cancer?', 'q31'),\n",
       " ('getting cancer', 'q31'),\n",
       " ('Why do we get cancer', 'q31'),\n",
       " ('Who gets', 'q31'),\n",
       " ('How does cancer start?', 'q32'),\n",
       " ('cancer starting', 'q32'),\n",
       " ('start getting cancer', 'q32'),\n",
       " ('How does it start?', 'q32'),\n",
       " ('Is cancer genetic?', 'q33'),\n",
       " ('genetic', 'q33'),\n",
       " ('Is it genetic?', 'q33'),\n",
       " ('Is cancer contagious?', 'q34'),\n",
       " ('cancer contagious', 'q34'),\n",
       " ('contagious', 'q34'),\n",
       " ('Is it contagious?', 'q34'),\n",
       " ('Is there a vaccine for cancer?', 'q35'),\n",
       " ('vaccine', 'q35'),\n",
       " ('vaccine for cancer', 'q35'),\n",
       " ('cancer vaccine', 'q35'),\n",
       " ('Is there a vaccine for it?', 'q35'),\n",
       " ('Is there a vaccine', 'q35'),\n",
       " ('Can cancer be cured?', 'q36'),\n",
       " ('cure', 'q36'),\n",
       " ('Can be curable?', 'q36'),\n",
       " ('curable', 'q36'),\n",
       " ('How do cancer drugs work?', 'q37'),\n",
       " ('cancer drugs', 'q37'),\n",
       " ('When should I get tested for cancer?', 'q38'),\n",
       " ('test', 'q38'),\n",
       " ('cancer test', 'q38'),\n",
       " ('When should I get tested for it?', 'q38'),\n",
       " ('What are cancer cells?', 'q39'),\n",
       " ('cancer cells', 'q39'),\n",
       " ('cancer cell', 'q39'),\n",
       " ('How does cancer spread?', 'q40'),\n",
       " ('spread of cancer', 'q40'),\n",
       " ('spread', 'q40'),\n",
       " ('How it spread?', 'q40'),\n",
       " ('Why are older people more prone to cancer in general?', 'q41'),\n",
       " ('older people', 'q41'),\n",
       " ('prone', 'q41'),\n",
       " ('Why are older people more prone to it in general?', 'q41'),\n",
       " ('How many different cancers are?', 'q42'),\n",
       " ('type of cancers', 'q42'),\n",
       " ('cancers', 'q42'),\n",
       " ('different cancers', 'q42'),\n",
       " ('How many cancers are?', 'q42'),\n",
       " ('Is there a gender difference?', 'q43'),\n",
       " ('gender', 'q43'),\n",
       " ('gender different', 'q43'),\n",
       " ('What are the commonest cancers?', 'q44'),\n",
       " ('cancers', 'q44'),\n",
       " ('commonest cancers', 'q44'),\n",
       " ('commonest', 'q44'),\n",
       " ('Assuming the cancer is identified, what are the survival rates?', 'q45'),\n",
       " ('What are the survival rates?', 'q45'),\n",
       " ('survival rates of cancers', 'q45'),\n",
       " ('survival rates', 'q45'),\n",
       " ('cancer survival rates', 'q45'),\n",
       " ('rates', 'q45'),\n",
       " ('survival', 'q45'),\n",
       " ('Tell me more', 'q46'),\n",
       " ('Tell me more about that', 'q46')]"
      ]
     },
     "execution_count": 161,
     "metadata": {},
     "output_type": "execute_result"
    }
   ],
   "source": [
    "d"
   ]
  },
  {
   "cell_type": "code",
   "execution_count": 162,
   "id": "e325a611",
   "metadata": {},
   "outputs": [
    {
     "data": {
      "text/html": [
       "<div>\n",
       "<style scoped>\n",
       "    .dataframe tbody tr th:only-of-type {\n",
       "        vertical-align: middle;\n",
       "    }\n",
       "\n",
       "    .dataframe tbody tr th {\n",
       "        vertical-align: top;\n",
       "    }\n",
       "\n",
       "    .dataframe thead th {\n",
       "        text-align: right;\n",
       "    }\n",
       "</style>\n",
       "<table border=\"1\" class=\"dataframe\">\n",
       "  <thead>\n",
       "    <tr style=\"text-align: right;\">\n",
       "      <th></th>\n",
       "      <th>pattern</th>\n",
       "      <th>tag</th>\n",
       "    </tr>\n",
       "  </thead>\n",
       "  <tbody>\n",
       "    <tr>\n",
       "      <th>0</th>\n",
       "      <td>hello</td>\n",
       "      <td>greetings</td>\n",
       "    </tr>\n",
       "    <tr>\n",
       "      <th>1</th>\n",
       "      <td>hey</td>\n",
       "      <td>greetings</td>\n",
       "    </tr>\n",
       "    <tr>\n",
       "      <th>2</th>\n",
       "      <td>hi</td>\n",
       "      <td>greetings</td>\n",
       "    </tr>\n",
       "    <tr>\n",
       "      <th>3</th>\n",
       "      <td>good day</td>\n",
       "      <td>greetings</td>\n",
       "    </tr>\n",
       "    <tr>\n",
       "      <th>4</th>\n",
       "      <td>Greetings</td>\n",
       "      <td>greetings</td>\n",
       "    </tr>\n",
       "    <tr>\n",
       "      <th>...</th>\n",
       "      <td>...</td>\n",
       "      <td>...</td>\n",
       "    </tr>\n",
       "    <tr>\n",
       "      <th>211</th>\n",
       "      <td>cancer survival rates</td>\n",
       "      <td>q45</td>\n",
       "    </tr>\n",
       "    <tr>\n",
       "      <th>212</th>\n",
       "      <td>rates</td>\n",
       "      <td>q45</td>\n",
       "    </tr>\n",
       "    <tr>\n",
       "      <th>213</th>\n",
       "      <td>survival</td>\n",
       "      <td>q45</td>\n",
       "    </tr>\n",
       "    <tr>\n",
       "      <th>214</th>\n",
       "      <td>Tell me more</td>\n",
       "      <td>q46</td>\n",
       "    </tr>\n",
       "    <tr>\n",
       "      <th>215</th>\n",
       "      <td>Tell me more about that</td>\n",
       "      <td>q46</td>\n",
       "    </tr>\n",
       "  </tbody>\n",
       "</table>\n",
       "<p>216 rows × 2 columns</p>\n",
       "</div>"
      ],
      "text/plain": [
       "                     pattern        tag\n",
       "0                      hello  greetings\n",
       "1                        hey  greetings\n",
       "2                         hi  greetings\n",
       "3                   good day  greetings\n",
       "4                  Greetings  greetings\n",
       "..                       ...        ...\n",
       "211    cancer survival rates        q45\n",
       "212                    rates        q45\n",
       "213                 survival        q45\n",
       "214             Tell me more        q46\n",
       "215  Tell me more about that        q46\n",
       "\n",
       "[216 rows x 2 columns]"
      ]
     },
     "execution_count": 162,
     "metadata": {},
     "output_type": "execute_result"
    }
   ],
   "source": [
    "df=pd.DataFrame(data=d,columns=['pattern','tag'])\n",
    "df"
   ]
  },
  {
   "cell_type": "code",
   "execution_count": 163,
   "id": "43034b9c",
   "metadata": {},
   "outputs": [],
   "source": [
    "resp=dict()\n",
    "for i in data['intents']:\n",
    "    resp[i['tag']]=i['responses']"
   ]
  },
  {
   "cell_type": "code",
   "execution_count": 164,
   "id": "4342b27e",
   "metadata": {},
   "outputs": [],
   "source": [
    "tokenizer=Tokenizer()\n",
    "tokenizer.fit_on_texts(df['pattern'])"
   ]
  },
  {
   "cell_type": "code",
   "execution_count": 165,
   "id": "50c57d04",
   "metadata": {
    "scrolled": false
   },
   "outputs": [
    {
     "data": {
      "text/plain": [
       "{'cancer': 1,\n",
       " 'is': 2,\n",
       " 'of': 3,\n",
       " 'what': 4,\n",
       " 'can': 5,\n",
       " 'the': 6,\n",
       " 'it': 7,\n",
       " 'a': 8,\n",
       " 'fatigue': 9,\n",
       " 'how': 10,\n",
       " 'are': 11,\n",
       " 'get': 12,\n",
       " 'does': 13,\n",
       " 'why': 14,\n",
       " 'there': 15,\n",
       " 'for': 16,\n",
       " 'treatment': 17,\n",
       " 'my': 18,\n",
       " 'be': 19,\n",
       " 'i': 20,\n",
       " 'anemia': 21,\n",
       " 'about': 22,\n",
       " 'cancers': 23,\n",
       " 'more': 24,\n",
       " 'cause': 25,\n",
       " 'different': 26,\n",
       " 'effects': 27,\n",
       " 'so': 28,\n",
       " 'in': 29,\n",
       " 'test': 30,\n",
       " 'people': 31,\n",
       " 'side': 32,\n",
       " 'chemotherapy': 33,\n",
       " 'vaccine': 34,\n",
       " 'survival': 35,\n",
       " 'rates': 36,\n",
       " \"isn't\": 37,\n",
       " 'best': 38,\n",
       " 'attitudes': 39,\n",
       " 'stress': 40,\n",
       " 'progress': 41,\n",
       " 'cure': 42,\n",
       " 'have': 43,\n",
       " 'causes': 44,\n",
       " 'cigarette': 45,\n",
       " 'to': 46,\n",
       " 'many': 47,\n",
       " 'with': 48,\n",
       " 'help': 49,\n",
       " 'me': 50,\n",
       " 'effect': 51,\n",
       " 'symptom': 52,\n",
       " 'from': 53,\n",
       " 'doctor': 54,\n",
       " 'ever': 55,\n",
       " 'tell': 56,\n",
       " 'contagious': 57,\n",
       " 'spread': 58,\n",
       " 'you': 59,\n",
       " 'smoking': 60,\n",
       " 'prevented': 61,\n",
       " 'prevent': 62,\n",
       " 'chemicals': 63,\n",
       " 'and': 64,\n",
       " 'pollutants': 65,\n",
       " 'diagnosis': 66,\n",
       " 'do': 67,\n",
       " 'problems': 68,\n",
       " 'conventional': 69,\n",
       " 'ask': 70,\n",
       " 'family': 71,\n",
       " 'frightened': 72,\n",
       " 'or': 73,\n",
       " 'change': 74,\n",
       " 'diet': 75,\n",
       " 'course': 76,\n",
       " 'will': 77,\n",
       " 'free': 78,\n",
       " 'hair': 79,\n",
       " 'alcohol': 80,\n",
       " 'talking': 81,\n",
       " 'we': 82,\n",
       " 'should': 83,\n",
       " 'start': 84,\n",
       " 'genetic': 85,\n",
       " 'older': 86,\n",
       " 'prone': 87,\n",
       " 'gender': 88,\n",
       " 'commonest': 89,\n",
       " 'good': 90,\n",
       " 'day': 91,\n",
       " \"what's\": 92,\n",
       " 'see': 93,\n",
       " 'am': 94,\n",
       " 'smoke': 95,\n",
       " 'really': 96,\n",
       " 'causing': 97,\n",
       " 'delayed': 98,\n",
       " 'simple': 99,\n",
       " 'universal': 100,\n",
       " 'work': 101,\n",
       " 'awful': 102,\n",
       " 'affect': 103,\n",
       " 'frightening': 104,\n",
       " 'humans': 105,\n",
       " 'grow': 106,\n",
       " 'back': 107,\n",
       " 'that': 108,\n",
       " 'everyone': 109,\n",
       " 'question': 110,\n",
       " 'was': 111,\n",
       " 'questions': 112,\n",
       " 'who': 113,\n",
       " 'gets': 114,\n",
       " 'getting': 115,\n",
       " 'curable': 116,\n",
       " 'drugs': 117,\n",
       " 'when': 118,\n",
       " 'tested': 119,\n",
       " 'cells': 120,\n",
       " 'general': 121,\n",
       " 'hello': 122,\n",
       " 'hey': 123,\n",
       " 'hi': 124,\n",
       " 'greetings': 125,\n",
       " 'up': 126,\n",
       " 'going': 127,\n",
       " 'cya': 128,\n",
       " 'later': 129,\n",
       " 'goodbye': 130,\n",
       " 'leaving': 131,\n",
       " 'bye': 132,\n",
       " 'cao': 133,\n",
       " 'ya': 134,\n",
       " 'preventing': 135,\n",
       " 'chemical': 136,\n",
       " 'pollutant': 137,\n",
       " 'seem': 138,\n",
       " 'cases': 139,\n",
       " 'delay': 140,\n",
       " 'same': 141,\n",
       " 'treatments': 142,\n",
       " 'problem': 143,\n",
       " 'person': 144,\n",
       " 'real': 145,\n",
       " 'symptoms': 146,\n",
       " 'frighten': 147,\n",
       " 'attitude': 148,\n",
       " 'alter': 149,\n",
       " 'changing': 150,\n",
       " 'advances': 151,\n",
       " 'if': 152,\n",
       " 'lot': 153,\n",
       " 'mean': 154,\n",
       " 'working': 155,\n",
       " 'worse': 156,\n",
       " 'than': 157,\n",
       " \"don't\": 158,\n",
       " 'right': 159,\n",
       " 'after': 160,\n",
       " 'treated': 161,\n",
       " 'were': 162,\n",
       " 'topic': 163,\n",
       " 'being': 164,\n",
       " 'discussed': 165,\n",
       " 'asked': 166,\n",
       " 'second': 167,\n",
       " 'opinion': 168,\n",
       " 'starting': 169,\n",
       " 'cured': 170,\n",
       " 'cell': 171,\n",
       " 'type': 172,\n",
       " 'difference': 173,\n",
       " 'assuming': 174,\n",
       " 'identified': 175}"
      ]
     },
     "execution_count": 165,
     "metadata": {},
     "output_type": "execute_result"
    }
   ],
   "source": [
    "tokenizer.word_index"
   ]
  },
  {
   "cell_type": "code",
   "execution_count": 166,
   "id": "bfafb584",
   "metadata": {},
   "outputs": [],
   "source": [
    "seq=tokenizer.texts_to_sequences(df['pattern'])"
   ]
  },
  {
   "cell_type": "code",
   "execution_count": 167,
   "id": "6a860a45",
   "metadata": {},
   "outputs": [
    {
     "data": {
      "text/plain": [
       "[[122],\n",
       " [123],\n",
       " [124],\n",
       " [90, 91],\n",
       " [125],\n",
       " [92, 126],\n",
       " [10, 2, 7, 127],\n",
       " [128],\n",
       " [93, 59, 129],\n",
       " [130]]"
      ]
     },
     "execution_count": 167,
     "metadata": {},
     "output_type": "execute_result"
    }
   ],
   "source": [
    "seq[:10]"
   ]
  },
  {
   "cell_type": "code",
   "execution_count": 168,
   "id": "bda63381",
   "metadata": {},
   "outputs": [
    {
     "data": {
      "text/plain": [
       "15"
      ]
     },
     "execution_count": 168,
     "metadata": {},
     "output_type": "execute_result"
    }
   ],
   "source": [
    "maxlen=max([len(i) for i in seq])\n",
    "maxlen"
   ]
  },
  {
   "cell_type": "code",
   "execution_count": 169,
   "id": "44e7ea4a",
   "metadata": {},
   "outputs": [
    {
     "data": {
      "text/plain": [
       "176"
      ]
     },
     "execution_count": 169,
     "metadata": {},
     "output_type": "execute_result"
    }
   ],
   "source": [
    "vocab_size=len(tokenizer.word_index)+1\n",
    "vocab_size"
   ]
  },
  {
   "cell_type": "code",
   "execution_count": 170,
   "id": "2fa01d29",
   "metadata": {},
   "outputs": [
    {
     "data": {
      "text/plain": [
       "array([[122,   0,   0, ...,   0,   0,   0],\n",
       "       [123,   0,   0, ...,   0,   0,   0],\n",
       "       [124,   0,   0, ...,   0,   0,   0],\n",
       "       ...,\n",
       "       [ 35,   0,   0, ...,   0,   0,   0],\n",
       "       [ 56,  50,  24, ...,   0,   0,   0],\n",
       "       [ 56,  50,  24, ...,   0,   0,   0]])"
      ]
     },
     "execution_count": 170,
     "metadata": {},
     "output_type": "execute_result"
    }
   ],
   "source": [
    "pad_seq=pad_sequences(seq,maxlen=maxlen,padding='post')\n",
    "pad_seq"
   ]
  },
  {
   "cell_type": "code",
   "execution_count": 171,
   "id": "211704a6",
   "metadata": {},
   "outputs": [
    {
     "data": {
      "text/plain": [
       "array([122,   0,   0,   0,   0,   0,   0,   0,   0,   0,   0,   0,   0,\n",
       "         0,   0])"
      ]
     },
     "execution_count": 171,
     "metadata": {},
     "output_type": "execute_result"
    }
   ],
   "source": [
    "pad_seq[0]"
   ]
  },
  {
   "cell_type": "code",
   "execution_count": 172,
   "id": "a67a3ed2",
   "metadata": {},
   "outputs": [
    {
     "data": {
      "text/plain": [
       "122"
      ]
     },
     "execution_count": 172,
     "metadata": {},
     "output_type": "execute_result"
    }
   ],
   "source": [
    "tokenizer.word_index['hello']"
   ]
  },
  {
   "cell_type": "code",
   "execution_count": 173,
   "id": "94eac5fc",
   "metadata": {},
   "outputs": [],
   "source": [
    "glove_file=open('glove.6B.100d.txt',encoding='utf-8')\n",
    "embedding_dictionary=dict()\n",
    "for line in glove_file:\n",
    "    record=line.split()\n",
    "    word=record[0]\n",
    "    vector=np.asarray(record[1:],dtype='float32')\n",
    "    embedding_dictionary[word]=vector\n",
    "glove_file.close()"
   ]
  },
  {
   "cell_type": "code",
   "execution_count": 174,
   "id": "fd01e166",
   "metadata": {},
   "outputs": [
    {
     "data": {
      "text/plain": [
       "array([-0.030769 ,  0.11993  ,  0.53909  , -0.43696  , -0.73937  ,\n",
       "       -0.15345  ,  0.081126 , -0.38559  , -0.68797  , -0.41632  ,\n",
       "       -0.13183  , -0.24922  ,  0.441    ,  0.085919 ,  0.20871  ,\n",
       "       -0.063582 ,  0.062228 , -0.051234 , -0.13398  ,  1.1418   ,\n",
       "        0.036526 ,  0.49029  , -0.24567  , -0.412    ,  0.12349  ,\n",
       "        0.41336  , -0.48397  , -0.54243  , -0.27787  , -0.26015  ,\n",
       "       -0.38485  ,  0.78656  ,  0.1023   , -0.20712  ,  0.40751  ,\n",
       "        0.32026  , -0.51052  ,  0.48362  , -0.0099498, -0.38685  ,\n",
       "        0.034975 , -0.167    ,  0.4237   , -0.54164  , -0.30323  ,\n",
       "       -0.36983  ,  0.082836 , -0.52538  , -0.064531 , -1.398    ,\n",
       "       -0.14873  , -0.35327  , -0.1118   ,  1.0912   ,  0.095864 ,\n",
       "       -2.8129   ,  0.45238  ,  0.46213  ,  1.6012   , -0.20837  ,\n",
       "       -0.27377  ,  0.71197  , -1.0754   , -0.046974 ,  0.67479  ,\n",
       "       -0.065839 ,  0.75824  ,  0.39405  ,  0.15507  , -0.64719  ,\n",
       "        0.32796  , -0.031748 ,  0.52899  , -0.43886  ,  0.67405  ,\n",
       "        0.42136  , -0.11981  , -0.21777  , -0.29756  , -0.1351   ,\n",
       "        0.59898  ,  0.46529  , -0.58258  , -0.02323  , -1.5442   ,\n",
       "        0.01901  , -0.015877 ,  0.024499 , -0.58017  , -0.67659  ,\n",
       "       -0.040379 , -0.44043  ,  0.083292 ,  0.20035  , -0.75499  ,\n",
       "        0.16918  , -0.26573  , -0.52878  ,  0.17584  ,  1.065    ],\n",
       "      dtype=float32)"
      ]
     },
     "execution_count": 174,
     "metadata": {},
     "output_type": "execute_result"
    }
   ],
   "source": [
    "embedding_dictionary['good']"
   ]
  },
  {
   "cell_type": "code",
   "execution_count": 175,
   "id": "ea3cab03",
   "metadata": {},
   "outputs": [],
   "source": [
    "embedding_vectors=np.zeros((vocab_size,100))\n",
    "for word,index in tokenizer.word_index.items():\n",
    "    embedding=embedding_dictionary.get(word)\n",
    "    if embedding is not None:\n",
    "        embedding_vectors[index]=embedding"
   ]
  },
  {
   "cell_type": "code",
   "execution_count": 176,
   "id": "c1827897",
   "metadata": {},
   "outputs": [
    {
     "data": {
      "text/plain": [
       "array([[ 0.        ,  0.        ,  0.        , ...,  0.        ,\n",
       "         0.        ,  0.        ],\n",
       "       [ 0.30875999,  0.57172   , -0.76573002, ..., -0.49552   ,\n",
       "         0.36862999, -0.43560001],\n",
       "       [-0.54263997,  0.41475999,  1.03219998, ..., -1.29690003,\n",
       "         0.76217002,  0.46349001],\n",
       "       ...,\n",
       "       [ 0.23939   ,  0.64866   ,  0.64029002, ..., -0.46924999,\n",
       "         0.40617999,  0.1339    ],\n",
       "       [ 0.0056246 , -0.19442999,  0.87709999, ...,  0.094497  ,\n",
       "        -0.097547  ,  0.060376  ],\n",
       "       [-0.29278001,  0.02436   , -0.13517   , ..., -1.00650001,\n",
       "        -0.11338   , -0.82876003]])"
      ]
     },
     "execution_count": 176,
     "metadata": {},
     "output_type": "execute_result"
    }
   ],
   "source": [
    "embedding_vectors"
   ]
  },
  {
   "cell_type": "code",
   "execution_count": 177,
   "id": "25585944",
   "metadata": {},
   "outputs": [
    {
     "data": {
      "text/plain": [
       "array([ 0.30875999,  0.57172   , -0.76573002,  0.076863  ,  0.21052   ,\n",
       "       -0.13312   ,  0.88274002, -0.2208    , -0.098611  , -0.062059  ,\n",
       "       -0.51871002,  0.32534999, -0.13609   , -0.042059  ,  0.91228002,\n",
       "       -0.19718   ,  0.021831  , -0.55353999,  0.49573001,  0.12114   ,\n",
       "       -0.83796   , -0.48607001, -0.70015001,  0.83936   , -0.23379   ,\n",
       "        1.33099997,  1.01689994, -1.43069994,  0.28702   ,  0.15237001,\n",
       "        0.55934   ,  0.90224999,  0.63037002,  0.52102   ,  0.15741   ,\n",
       "        0.12084   , -0.53898001,  0.69510001, -0.47861001,  0.91841   ,\n",
       "       -0.38677999,  0.37728   , -0.74399   , -1.41910005,  0.22579999,\n",
       "        0.27805001,  0.2676    ,  0.016615  , -1.03199995, -0.57549   ,\n",
       "        0.90280998, -0.53983998,  0.12577   ,  0.25665   , -0.0065531 ,\n",
       "       -1.74230003, -0.26671001, -0.24116001,  0.62342   ,  0.80269998,\n",
       "        0.21934   ,  1.39390004,  1.08850002, -0.26754999,  0.34711999,\n",
       "        0.91192001, -0.10961   ,  0.036696  ,  0.41681001, -0.081402  ,\n",
       "        0.13779999,  0.1199    , -0.48401999,  0.73593003, -0.066307  ,\n",
       "       -0.7353    , -0.15009999, -0.33362001, -0.84996003, -0.28159001,\n",
       "        0.76561999,  0.45917001, -0.15805   ,  0.68532997, -1.85710001,\n",
       "       -0.20485   ,  0.60913998,  0.50937998, -1.30089998,  0.66466999,\n",
       "        0.022673  , -0.58125001,  0.89915001,  0.64133   , -0.63138998,\n",
       "        0.63257998,  0.37843999, -0.49552   ,  0.36862999, -0.43560001])"
      ]
     },
     "execution_count": 177,
     "metadata": {},
     "output_type": "execute_result"
    }
   ],
   "source": [
    "embedding_vectors[1]"
   ]
  },
  {
   "cell_type": "code",
   "execution_count": 178,
   "id": "911bcb12",
   "metadata": {},
   "outputs": [
    {
     "data": {
      "text/plain": [
       "48"
      ]
     },
     "execution_count": 178,
     "metadata": {},
     "output_type": "execute_result"
    }
   ],
   "source": [
    "num_classes=len(df['tag'].unique())\n",
    "num_classes"
   ]
  },
  {
   "cell_type": "code",
   "execution_count": 179,
   "id": "2fbb68d7",
   "metadata": {},
   "outputs": [],
   "source": [
    "le=LabelEncoder()\n",
    "df['tag_num']=le.fit_transform(df['tag'])"
   ]
  },
  {
   "cell_type": "code",
   "execution_count": 180,
   "id": "0051a618",
   "metadata": {},
   "outputs": [
    {
     "data": {
      "text/html": [
       "<div>\n",
       "<style scoped>\n",
       "    .dataframe tbody tr th:only-of-type {\n",
       "        vertical-align: middle;\n",
       "    }\n",
       "\n",
       "    .dataframe tbody tr th {\n",
       "        vertical-align: top;\n",
       "    }\n",
       "\n",
       "    .dataframe thead th {\n",
       "        text-align: right;\n",
       "    }\n",
       "</style>\n",
       "<table border=\"1\" class=\"dataframe\">\n",
       "  <thead>\n",
       "    <tr style=\"text-align: right;\">\n",
       "      <th></th>\n",
       "      <th>pattern</th>\n",
       "      <th>tag</th>\n",
       "      <th>tag_num</th>\n",
       "    </tr>\n",
       "  </thead>\n",
       "  <tbody>\n",
       "    <tr>\n",
       "      <th>126</th>\n",
       "      <td>Are the side effects of chemotherapy worse tha...</td>\n",
       "      <td>q24</td>\n",
       "      <td>18</td>\n",
       "    </tr>\n",
       "    <tr>\n",
       "      <th>201</th>\n",
       "      <td>gender</td>\n",
       "      <td>q43</td>\n",
       "      <td>39</td>\n",
       "    </tr>\n",
       "    <tr>\n",
       "      <th>181</th>\n",
       "      <td>test</td>\n",
       "      <td>q38</td>\n",
       "      <td>33</td>\n",
       "    </tr>\n",
       "    <tr>\n",
       "      <th>194</th>\n",
       "      <td>Why are older people more prone to it in general?</td>\n",
       "      <td>q41</td>\n",
       "      <td>37</td>\n",
       "    </tr>\n",
       "    <tr>\n",
       "      <th>137</th>\n",
       "      <td>anemia</td>\n",
       "      <td>q27</td>\n",
       "      <td>21</td>\n",
       "    </tr>\n",
       "  </tbody>\n",
       "</table>\n",
       "</div>"
      ],
      "text/plain": [
       "                                               pattern  tag  tag_num\n",
       "126  Are the side effects of chemotherapy worse tha...  q24       18\n",
       "201                                             gender  q43       39\n",
       "181                                               test  q38       33\n",
       "194  Why are older people more prone to it in general?  q41       37\n",
       "137                                             anemia  q27       21"
      ]
     },
     "execution_count": 180,
     "metadata": {},
     "output_type": "execute_result"
    }
   ],
   "source": [
    "df.sample(5)"
   ]
  },
  {
   "cell_type": "code",
   "execution_count": 181,
   "id": "f77a065e",
   "metadata": {},
   "outputs": [],
   "source": [
    "X=pad_seq\n",
    "y=df['tag_num']"
   ]
  },
  {
   "cell_type": "code",
   "execution_count": 182,
   "id": "f8e5fe8e",
   "metadata": {},
   "outputs": [
    {
     "data": {
      "text/plain": [
       "array([[122,   0,   0, ...,   0,   0,   0],\n",
       "       [123,   0,   0, ...,   0,   0,   0],\n",
       "       [124,   0,   0, ...,   0,   0,   0],\n",
       "       ...,\n",
       "       [ 35,   0,   0, ...,   0,   0,   0],\n",
       "       [ 56,  50,  24, ...,   0,   0,   0],\n",
       "       [ 56,  50,  24, ...,   0,   0,   0]])"
      ]
     },
     "execution_count": 182,
     "metadata": {},
     "output_type": "execute_result"
    }
   ],
   "source": [
    "X"
   ]
  },
  {
   "cell_type": "code",
   "execution_count": 183,
   "id": "2fe0c920",
   "metadata": {},
   "outputs": [
    {
     "data": {
      "text/plain": [
       "0       1\n",
       "1       1\n",
       "2       1\n",
       "3       1\n",
       "4       1\n",
       "       ..\n",
       "211    41\n",
       "212    41\n",
       "213    41\n",
       "214    42\n",
       "215    42\n",
       "Name: tag_num, Length: 216, dtype: int32"
      ]
     },
     "execution_count": 183,
     "metadata": {},
     "output_type": "execute_result"
    }
   ],
   "source": [
    "y"
   ]
  },
  {
   "cell_type": "code",
   "execution_count": 184,
   "id": "42080831",
   "metadata": {},
   "outputs": [
    {
     "data": {
      "text/plain": [
       "216"
      ]
     },
     "execution_count": 184,
     "metadata": {},
     "output_type": "execute_result"
    }
   ],
   "source": [
    "len(X)"
   ]
  },
  {
   "cell_type": "code",
   "execution_count": 185,
   "id": "546e4cac",
   "metadata": {},
   "outputs": [
    {
     "data": {
      "text/plain": [
       "216"
      ]
     },
     "execution_count": 185,
     "metadata": {},
     "output_type": "execute_result"
    }
   ],
   "source": [
    "len(y)"
   ]
  },
  {
   "cell_type": "code",
   "execution_count": 186,
   "id": "08f6e807",
   "metadata": {},
   "outputs": [],
   "source": [
    "i=Input(shape=(maxlen,))\n",
    "x=Embedding(vocab_size,100,embeddings_initializer=Constant(embedding_vectors),trainable=False)(i)\n",
    "x=LSTM(10,return_sequences=True)(x)\n",
    "x=Flatten()(x)\n",
    "x=Dense(num_classes,activation='softmax')(x)\n",
    "model=Model(i,x)"
   ]
  },
  {
   "cell_type": "code",
   "execution_count": 187,
   "id": "3060c7af",
   "metadata": {},
   "outputs": [],
   "source": [
    "model.compile(optimizer='adam',\n",
    "             loss='sparse_categorical_crossentropy',\n",
    "             metrics=['accuracy'])"
   ]
  },
  {
   "cell_type": "code",
   "execution_count": 188,
   "id": "715cc63d",
   "metadata": {},
   "outputs": [
    {
     "data": {
      "text/html": [
       "<pre style=\"white-space:pre;overflow-x:auto;line-height:normal;font-family:Menlo,'DejaVu Sans Mono',consolas,'Courier New',monospace\"><span style=\"font-weight: bold\">Model: \"functional_7\"</span>\n",
       "</pre>\n"
      ],
      "text/plain": [
       "\u001b[1mModel: \"functional_7\"\u001b[0m\n"
      ]
     },
     "metadata": {},
     "output_type": "display_data"
    },
    {
     "data": {
      "text/html": [
       "<pre style=\"white-space:pre;overflow-x:auto;line-height:normal;font-family:Menlo,'DejaVu Sans Mono',consolas,'Courier New',monospace\">┏━━━━━━━━━━━━━━━━━━━━━━━━━━━━━━━━━━━━━━┳━━━━━━━━━━━━━━━━━━━━━━━━━━━━━┳━━━━━━━━━━━━━━━━━┓\n",
       "┃<span style=\"font-weight: bold\"> Layer (type)                         </span>┃<span style=\"font-weight: bold\"> Output Shape                </span>┃<span style=\"font-weight: bold\">         Param # </span>┃\n",
       "┡━━━━━━━━━━━━━━━━━━━━━━━━━━━━━━━━━━━━━━╇━━━━━━━━━━━━━━━━━━━━━━━━━━━━━╇━━━━━━━━━━━━━━━━━┩\n",
       "│ input_layer_5 (<span style=\"color: #0087ff; text-decoration-color: #0087ff\">InputLayer</span>)           │ (<span style=\"color: #00d7ff; text-decoration-color: #00d7ff\">None</span>, <span style=\"color: #00af00; text-decoration-color: #00af00\">15</span>)                  │               <span style=\"color: #00af00; text-decoration-color: #00af00\">0</span> │\n",
       "├──────────────────────────────────────┼─────────────────────────────┼─────────────────┤\n",
       "│ embedding_5 (<span style=\"color: #0087ff; text-decoration-color: #0087ff\">Embedding</span>)              │ (<span style=\"color: #00d7ff; text-decoration-color: #00d7ff\">None</span>, <span style=\"color: #00af00; text-decoration-color: #00af00\">15</span>, <span style=\"color: #00af00; text-decoration-color: #00af00\">100</span>)             │          <span style=\"color: #00af00; text-decoration-color: #00af00\">17,600</span> │\n",
       "├──────────────────────────────────────┼─────────────────────────────┼─────────────────┤\n",
       "│ lstm_5 (<span style=\"color: #0087ff; text-decoration-color: #0087ff\">LSTM</span>)                        │ (<span style=\"color: #00d7ff; text-decoration-color: #00d7ff\">None</span>, <span style=\"color: #00af00; text-decoration-color: #00af00\">15</span>, <span style=\"color: #00af00; text-decoration-color: #00af00\">10</span>)              │           <span style=\"color: #00af00; text-decoration-color: #00af00\">4,440</span> │\n",
       "├──────────────────────────────────────┼─────────────────────────────┼─────────────────┤\n",
       "│ flatten_2 (<span style=\"color: #0087ff; text-decoration-color: #0087ff\">Flatten</span>)                  │ (<span style=\"color: #00d7ff; text-decoration-color: #00d7ff\">None</span>, <span style=\"color: #00af00; text-decoration-color: #00af00\">150</span>)                 │               <span style=\"color: #00af00; text-decoration-color: #00af00\">0</span> │\n",
       "├──────────────────────────────────────┼─────────────────────────────┼─────────────────┤\n",
       "│ dense_5 (<span style=\"color: #0087ff; text-decoration-color: #0087ff\">Dense</span>)                      │ (<span style=\"color: #00d7ff; text-decoration-color: #00d7ff\">None</span>, <span style=\"color: #00af00; text-decoration-color: #00af00\">48</span>)                  │           <span style=\"color: #00af00; text-decoration-color: #00af00\">7,248</span> │\n",
       "└──────────────────────────────────────┴─────────────────────────────┴─────────────────┘\n",
       "</pre>\n"
      ],
      "text/plain": [
       "┏━━━━━━━━━━━━━━━━━━━━━━━━━━━━━━━━━━━━━━┳━━━━━━━━━━━━━━━━━━━━━━━━━━━━━┳━━━━━━━━━━━━━━━━━┓\n",
       "┃\u001b[1m \u001b[0m\u001b[1mLayer (type)                        \u001b[0m\u001b[1m \u001b[0m┃\u001b[1m \u001b[0m\u001b[1mOutput Shape               \u001b[0m\u001b[1m \u001b[0m┃\u001b[1m \u001b[0m\u001b[1m        Param #\u001b[0m\u001b[1m \u001b[0m┃\n",
       "┡━━━━━━━━━━━━━━━━━━━━━━━━━━━━━━━━━━━━━━╇━━━━━━━━━━━━━━━━━━━━━━━━━━━━━╇━━━━━━━━━━━━━━━━━┩\n",
       "│ input_layer_5 (\u001b[38;5;33mInputLayer\u001b[0m)           │ (\u001b[38;5;45mNone\u001b[0m, \u001b[38;5;34m15\u001b[0m)                  │               \u001b[38;5;34m0\u001b[0m │\n",
       "├──────────────────────────────────────┼─────────────────────────────┼─────────────────┤\n",
       "│ embedding_5 (\u001b[38;5;33mEmbedding\u001b[0m)              │ (\u001b[38;5;45mNone\u001b[0m, \u001b[38;5;34m15\u001b[0m, \u001b[38;5;34m100\u001b[0m)             │          \u001b[38;5;34m17,600\u001b[0m │\n",
       "├──────────────────────────────────────┼─────────────────────────────┼─────────────────┤\n",
       "│ lstm_5 (\u001b[38;5;33mLSTM\u001b[0m)                        │ (\u001b[38;5;45mNone\u001b[0m, \u001b[38;5;34m15\u001b[0m, \u001b[38;5;34m10\u001b[0m)              │           \u001b[38;5;34m4,440\u001b[0m │\n",
       "├──────────────────────────────────────┼─────────────────────────────┼─────────────────┤\n",
       "│ flatten_2 (\u001b[38;5;33mFlatten\u001b[0m)                  │ (\u001b[38;5;45mNone\u001b[0m, \u001b[38;5;34m150\u001b[0m)                 │               \u001b[38;5;34m0\u001b[0m │\n",
       "├──────────────────────────────────────┼─────────────────────────────┼─────────────────┤\n",
       "│ dense_5 (\u001b[38;5;33mDense\u001b[0m)                      │ (\u001b[38;5;45mNone\u001b[0m, \u001b[38;5;34m48\u001b[0m)                  │           \u001b[38;5;34m7,248\u001b[0m │\n",
       "└──────────────────────────────────────┴─────────────────────────────┴─────────────────┘\n"
      ]
     },
     "metadata": {},
     "output_type": "display_data"
    },
    {
     "data": {
      "text/html": [
       "<pre style=\"white-space:pre;overflow-x:auto;line-height:normal;font-family:Menlo,'DejaVu Sans Mono',consolas,'Courier New',monospace\"><span style=\"font-weight: bold\"> Total params: </span><span style=\"color: #00af00; text-decoration-color: #00af00\">29,288</span> (114.41 KB)\n",
       "</pre>\n"
      ],
      "text/plain": [
       "\u001b[1m Total params: \u001b[0m\u001b[38;5;34m29,288\u001b[0m (114.41 KB)\n"
      ]
     },
     "metadata": {},
     "output_type": "display_data"
    },
    {
     "data": {
      "text/html": [
       "<pre style=\"white-space:pre;overflow-x:auto;line-height:normal;font-family:Menlo,'DejaVu Sans Mono',consolas,'Courier New',monospace\"><span style=\"font-weight: bold\"> Trainable params: </span><span style=\"color: #00af00; text-decoration-color: #00af00\">29,288</span> (114.41 KB)\n",
       "</pre>\n"
      ],
      "text/plain": [
       "\u001b[1m Trainable params: \u001b[0m\u001b[38;5;34m29,288\u001b[0m (114.41 KB)\n"
      ]
     },
     "metadata": {},
     "output_type": "display_data"
    },
    {
     "data": {
      "text/html": [
       "<pre style=\"white-space:pre;overflow-x:auto;line-height:normal;font-family:Menlo,'DejaVu Sans Mono',consolas,'Courier New',monospace\"><span style=\"font-weight: bold\"> Non-trainable params: </span><span style=\"color: #00af00; text-decoration-color: #00af00\">0</span> (0.00 B)\n",
       "</pre>\n"
      ],
      "text/plain": [
       "\u001b[1m Non-trainable params: \u001b[0m\u001b[38;5;34m0\u001b[0m (0.00 B)\n"
      ]
     },
     "metadata": {},
     "output_type": "display_data"
    }
   ],
   "source": [
    "model.summary()"
   ]
  },
  {
   "cell_type": "code",
   "execution_count": 189,
   "id": "bbbfe299",
   "metadata": {
    "scrolled": false
   },
   "outputs": [
    {
     "name": "stdout",
     "output_type": "stream",
     "text": [
      "Epoch 1/100\n",
      "\u001b[1m7/7\u001b[0m \u001b[32m━━━━━━━━━━━━━━━━━━━━\u001b[0m\u001b[37m\u001b[0m \u001b[1m2s\u001b[0m 7ms/step - accuracy: 0.0262 - loss: 3.8833\n",
      "Epoch 2/100\n",
      "\u001b[1m7/7\u001b[0m \u001b[32m━━━━━━━━━━━━━━━━━━━━\u001b[0m\u001b[37m\u001b[0m \u001b[1m0s\u001b[0m 8ms/step - accuracy: 0.0529 - loss: 3.8330 \n",
      "Epoch 3/100\n",
      "\u001b[1m7/7\u001b[0m \u001b[32m━━━━━━━━━━━━━━━━━━━━\u001b[0m\u001b[37m\u001b[0m \u001b[1m0s\u001b[0m 7ms/step - accuracy: 0.0576 - loss: 3.7832     \n",
      "Epoch 4/100\n",
      "\u001b[1m7/7\u001b[0m \u001b[32m━━━━━━━━━━━━━━━━━━━━\u001b[0m\u001b[37m\u001b[0m \u001b[1m0s\u001b[0m 8ms/step - accuracy: 0.1363 - loss: 3.6939 \n",
      "Epoch 5/100\n",
      "\u001b[1m7/7\u001b[0m \u001b[32m━━━━━━━━━━━━━━━━━━━━\u001b[0m\u001b[37m\u001b[0m \u001b[1m0s\u001b[0m 12ms/step - accuracy: 0.1372 - loss: 3.6436\n",
      "Epoch 6/100\n",
      "\u001b[1m7/7\u001b[0m \u001b[32m━━━━━━━━━━━━━━━━━━━━\u001b[0m\u001b[37m\u001b[0m \u001b[1m0s\u001b[0m 10ms/step - accuracy: 0.0974 - loss: 3.5893\n",
      "Epoch 7/100\n",
      "\u001b[1m7/7\u001b[0m \u001b[32m━━━━━━━━━━━━━━━━━━━━\u001b[0m\u001b[37m\u001b[0m \u001b[1m0s\u001b[0m 8ms/step - accuracy: 0.1283 - loss: 3.5520 \n",
      "Epoch 8/100\n",
      "\u001b[1m7/7\u001b[0m \u001b[32m━━━━━━━━━━━━━━━━━━━━\u001b[0m\u001b[37m\u001b[0m \u001b[1m0s\u001b[0m 8ms/step - accuracy: 0.2387 - loss: 3.3885 \n",
      "Epoch 9/100\n",
      "\u001b[1m7/7\u001b[0m \u001b[32m━━━━━━━━━━━━━━━━━━━━\u001b[0m\u001b[37m\u001b[0m \u001b[1m0s\u001b[0m 9ms/step - accuracy: 0.2286 - loss: 3.3007\n",
      "Epoch 10/100\n",
      "\u001b[1m7/7\u001b[0m \u001b[32m━━━━━━━━━━━━━━━━━━━━\u001b[0m\u001b[37m\u001b[0m \u001b[1m0s\u001b[0m 8ms/step - accuracy: 0.2550 - loss: 3.1778 \n",
      "Epoch 11/100\n",
      "\u001b[1m7/7\u001b[0m \u001b[32m━━━━━━━━━━━━━━━━━━━━\u001b[0m\u001b[37m\u001b[0m \u001b[1m0s\u001b[0m 8ms/step - accuracy: 0.3367 - loss: 3.0123 \n",
      "Epoch 12/100\n",
      "\u001b[1m7/7\u001b[0m \u001b[32m━━━━━━━━━━━━━━━━━━━━\u001b[0m\u001b[37m\u001b[0m \u001b[1m0s\u001b[0m 8ms/step - accuracy: 0.3232 - loss: 2.9149 \n",
      "Epoch 13/100\n",
      "\u001b[1m7/7\u001b[0m \u001b[32m━━━━━━━━━━━━━━━━━━━━\u001b[0m\u001b[37m\u001b[0m \u001b[1m0s\u001b[0m 8ms/step - accuracy: 0.4189 - loss: 2.6309 \n",
      "Epoch 14/100\n",
      "\u001b[1m7/7\u001b[0m \u001b[32m━━━━━━━━━━━━━━━━━━━━\u001b[0m\u001b[37m\u001b[0m \u001b[1m0s\u001b[0m 7ms/step - accuracy: 0.4679 - loss: 2.3737 \n",
      "Epoch 15/100\n",
      "\u001b[1m7/7\u001b[0m \u001b[32m━━━━━━━━━━━━━━━━━━━━\u001b[0m\u001b[37m\u001b[0m \u001b[1m0s\u001b[0m 8ms/step - accuracy: 0.5336 - loss: 2.1354 \n",
      "Epoch 16/100\n",
      "\u001b[1m7/7\u001b[0m \u001b[32m━━━━━━━━━━━━━━━━━━━━\u001b[0m\u001b[37m\u001b[0m \u001b[1m0s\u001b[0m 8ms/step - accuracy: 0.5484 - loss: 1.9597 \n",
      "Epoch 17/100\n",
      "\u001b[1m7/7\u001b[0m \u001b[32m━━━━━━━━━━━━━━━━━━━━\u001b[0m\u001b[37m\u001b[0m \u001b[1m0s\u001b[0m 10ms/step - accuracy: 0.5344 - loss: 1.8639\n",
      "Epoch 18/100\n",
      "\u001b[1m7/7\u001b[0m \u001b[32m━━━━━━━━━━━━━━━━━━━━\u001b[0m\u001b[37m\u001b[0m \u001b[1m0s\u001b[0m 8ms/step - accuracy: 0.6160 - loss: 1.5891 \n",
      "Epoch 19/100\n",
      "\u001b[1m7/7\u001b[0m \u001b[32m━━━━━━━━━━━━━━━━━━━━\u001b[0m\u001b[37m\u001b[0m \u001b[1m0s\u001b[0m 8ms/step - accuracy: 0.6536 - loss: 1.3973 \n",
      "Epoch 20/100\n",
      "\u001b[1m7/7\u001b[0m \u001b[32m━━━━━━━━━━━━━━━━━━━━\u001b[0m\u001b[37m\u001b[0m \u001b[1m0s\u001b[0m 6ms/step - accuracy: 0.6810 - loss: 1.3418 \n",
      "Epoch 21/100\n",
      "\u001b[1m7/7\u001b[0m \u001b[32m━━━━━━━━━━━━━━━━━━━━\u001b[0m\u001b[37m\u001b[0m \u001b[1m0s\u001b[0m 7ms/step - accuracy: 0.7517 - loss: 1.1246 \n",
      "Epoch 22/100\n",
      "\u001b[1m7/7\u001b[0m \u001b[32m━━━━━━━━━━━━━━━━━━━━\u001b[0m\u001b[37m\u001b[0m \u001b[1m0s\u001b[0m 8ms/step - accuracy: 0.7890 - loss: 1.0461 \n",
      "Epoch 23/100\n",
      "\u001b[1m7/7\u001b[0m \u001b[32m━━━━━━━━━━━━━━━━━━━━\u001b[0m\u001b[37m\u001b[0m \u001b[1m0s\u001b[0m 8ms/step - accuracy: 0.7631 - loss: 0.9952 \n",
      "Epoch 24/100\n",
      "\u001b[1m7/7\u001b[0m \u001b[32m━━━━━━━━━━━━━━━━━━━━\u001b[0m\u001b[37m\u001b[0m \u001b[1m0s\u001b[0m 8ms/step - accuracy: 0.8097 - loss: 0.8995 \n",
      "Epoch 25/100\n",
      "\u001b[1m7/7\u001b[0m \u001b[32m━━━━━━━━━━━━━━━━━━━━\u001b[0m\u001b[37m\u001b[0m \u001b[1m0s\u001b[0m 11ms/step - accuracy: 0.8717 - loss: 0.7946\n",
      "Epoch 26/100\n",
      "\u001b[1m7/7\u001b[0m \u001b[32m━━━━━━━━━━━━━━━━━━━━\u001b[0m\u001b[37m\u001b[0m \u001b[1m0s\u001b[0m 8ms/step - accuracy: 0.8404 - loss: 0.7876 \n",
      "Epoch 27/100\n",
      "\u001b[1m7/7\u001b[0m \u001b[32m━━━━━━━━━━━━━━━━━━━━\u001b[0m\u001b[37m\u001b[0m \u001b[1m0s\u001b[0m 8ms/step - accuracy: 0.8637 - loss: 0.6701 \n",
      "Epoch 28/100\n",
      "\u001b[1m7/7\u001b[0m \u001b[32m━━━━━━━━━━━━━━━━━━━━\u001b[0m\u001b[37m\u001b[0m \u001b[1m0s\u001b[0m 8ms/step - accuracy: 0.8810 - loss: 0.6717 \n",
      "Epoch 29/100\n",
      "\u001b[1m7/7\u001b[0m \u001b[32m━━━━━━━━━━━━━━━━━━━━\u001b[0m\u001b[37m\u001b[0m \u001b[1m0s\u001b[0m 8ms/step - accuracy: 0.8883 - loss: 0.5931 \n",
      "Epoch 30/100\n",
      "\u001b[1m7/7\u001b[0m \u001b[32m━━━━━━━━━━━━━━━━━━━━\u001b[0m\u001b[37m\u001b[0m \u001b[1m0s\u001b[0m 10ms/step - accuracy: 0.8933 - loss: 0.5422\n",
      "Epoch 31/100\n",
      "\u001b[1m7/7\u001b[0m \u001b[32m━━━━━━━━━━━━━━━━━━━━\u001b[0m\u001b[37m\u001b[0m \u001b[1m0s\u001b[0m 7ms/step - accuracy: 0.9128 - loss: 0.4812 \n",
      "Epoch 32/100\n",
      "\u001b[1m7/7\u001b[0m \u001b[32m━━━━━━━━━━━━━━━━━━━━\u001b[0m\u001b[37m\u001b[0m \u001b[1m0s\u001b[0m 10ms/step - accuracy: 0.9005 - loss: 0.4830\n",
      "Epoch 33/100\n",
      "\u001b[1m7/7\u001b[0m \u001b[32m━━━━━━━━━━━━━━━━━━━━\u001b[0m\u001b[37m\u001b[0m \u001b[1m0s\u001b[0m 7ms/step - accuracy: 0.9113 - loss: 0.4868 \n",
      "Epoch 34/100\n",
      "\u001b[1m7/7\u001b[0m \u001b[32m━━━━━━━━━━━━━━━━━━━━\u001b[0m\u001b[37m\u001b[0m \u001b[1m0s\u001b[0m 10ms/step - accuracy: 0.9265 - loss: 0.4350\n",
      "Epoch 35/100\n",
      "\u001b[1m7/7\u001b[0m \u001b[32m━━━━━━━━━━━━━━━━━━━━\u001b[0m\u001b[37m\u001b[0m \u001b[1m0s\u001b[0m 10ms/step - accuracy: 0.9135 - loss: 0.3974\n",
      "Epoch 36/100\n",
      "\u001b[1m7/7\u001b[0m \u001b[32m━━━━━━━━━━━━━━━━━━━━\u001b[0m\u001b[37m\u001b[0m \u001b[1m0s\u001b[0m 9ms/step - accuracy: 0.9429 - loss: 0.3807\n",
      "Epoch 37/100\n",
      "\u001b[1m7/7\u001b[0m \u001b[32m━━━━━━━━━━━━━━━━━━━━\u001b[0m\u001b[37m\u001b[0m \u001b[1m0s\u001b[0m 8ms/step - accuracy: 0.9469 - loss: 0.3381 \n",
      "Epoch 38/100\n",
      "\u001b[1m7/7\u001b[0m \u001b[32m━━━━━━━━━━━━━━━━━━━━\u001b[0m\u001b[37m\u001b[0m \u001b[1m0s\u001b[0m 10ms/step - accuracy: 0.9357 - loss: 0.3624\n",
      "Epoch 39/100\n",
      "\u001b[1m7/7\u001b[0m \u001b[32m━━━━━━━━━━━━━━━━━━━━\u001b[0m\u001b[37m\u001b[0m \u001b[1m0s\u001b[0m 8ms/step - accuracy: 0.9121 - loss: 0.3407 \n",
      "Epoch 40/100\n",
      "\u001b[1m7/7\u001b[0m \u001b[32m━━━━━━━━━━━━━━━━━━━━\u001b[0m\u001b[37m\u001b[0m \u001b[1m0s\u001b[0m 8ms/step - accuracy: 0.9326 - loss: 0.3283 \n",
      "Epoch 41/100\n",
      "\u001b[1m7/7\u001b[0m \u001b[32m━━━━━━━━━━━━━━━━━━━━\u001b[0m\u001b[37m\u001b[0m \u001b[1m0s\u001b[0m 11ms/step - accuracy: 0.9328 - loss: 0.3044\n",
      "Epoch 42/100\n",
      "\u001b[1m7/7\u001b[0m \u001b[32m━━━━━━━━━━━━━━━━━━━━\u001b[0m\u001b[37m\u001b[0m \u001b[1m0s\u001b[0m 5ms/step - accuracy: 0.9310 - loss: 0.2971 \n",
      "Epoch 43/100\n",
      "\u001b[1m7/7\u001b[0m \u001b[32m━━━━━━━━━━━━━━━━━━━━\u001b[0m\u001b[37m\u001b[0m \u001b[1m0s\u001b[0m 8ms/step - accuracy: 0.9309 - loss: 0.2940 \n",
      "Epoch 44/100\n",
      "\u001b[1m7/7\u001b[0m \u001b[32m━━━━━━━━━━━━━━━━━━━━\u001b[0m\u001b[37m\u001b[0m \u001b[1m0s\u001b[0m 13ms/step - accuracy: 0.9463 - loss: 0.2572\n",
      "Epoch 45/100\n",
      "\u001b[1m7/7\u001b[0m \u001b[32m━━━━━━━━━━━━━━━━━━━━\u001b[0m\u001b[37m\u001b[0m \u001b[1m0s\u001b[0m 10ms/step - accuracy: 0.9253 - loss: 0.2912\n",
      "Epoch 46/100\n",
      "\u001b[1m7/7\u001b[0m \u001b[32m━━━━━━━━━━━━━━━━━━━━\u001b[0m\u001b[37m\u001b[0m \u001b[1m0s\u001b[0m 11ms/step - accuracy: 0.9543 - loss: 0.2327\n",
      "Epoch 47/100\n",
      "\u001b[1m7/7\u001b[0m \u001b[32m━━━━━━━━━━━━━━━━━━━━\u001b[0m\u001b[37m\u001b[0m \u001b[1m0s\u001b[0m 10ms/step - accuracy: 0.9502 - loss: 0.2155\n",
      "Epoch 48/100\n",
      "\u001b[1m7/7\u001b[0m \u001b[32m━━━━━━━━━━━━━━━━━━━━\u001b[0m\u001b[37m\u001b[0m \u001b[1m0s\u001b[0m 10ms/step - accuracy: 0.9400 - loss: 0.2317\n",
      "Epoch 49/100\n",
      "\u001b[1m7/7\u001b[0m \u001b[32m━━━━━━━━━━━━━━━━━━━━\u001b[0m\u001b[37m\u001b[0m \u001b[1m0s\u001b[0m 8ms/step - accuracy: 0.9241 - loss: 0.2570\n",
      "Epoch 50/100\n",
      "\u001b[1m7/7\u001b[0m \u001b[32m━━━━━━━━━━━━━━━━━━━━\u001b[0m\u001b[37m\u001b[0m \u001b[1m0s\u001b[0m 10ms/step - accuracy: 0.9368 - loss: 0.2050\n",
      "Epoch 51/100\n",
      "\u001b[1m7/7\u001b[0m \u001b[32m━━━━━━━━━━━━━━━━━━━━\u001b[0m\u001b[37m\u001b[0m \u001b[1m0s\u001b[0m 7ms/step - accuracy: 0.9219 - loss: 0.2458 \n",
      "Epoch 52/100\n",
      "\u001b[1m7/7\u001b[0m \u001b[32m━━━━━━━━━━━━━━━━━━━━\u001b[0m\u001b[37m\u001b[0m \u001b[1m0s\u001b[0m 8ms/step - accuracy: 0.9304 - loss: 0.2140 \n",
      "Epoch 53/100\n",
      "\u001b[1m7/7\u001b[0m \u001b[32m━━━━━━━━━━━━━━━━━━━━\u001b[0m\u001b[37m\u001b[0m \u001b[1m0s\u001b[0m 8ms/step - accuracy: 0.9272 - loss: 0.2158 \n",
      "Epoch 54/100\n",
      "\u001b[1m7/7\u001b[0m \u001b[32m━━━━━━━━━━━━━━━━━━━━\u001b[0m\u001b[37m\u001b[0m \u001b[1m0s\u001b[0m 6ms/step - accuracy: 0.9356 - loss: 0.2107 \n",
      "Epoch 55/100\n",
      "\u001b[1m7/7\u001b[0m \u001b[32m━━━━━━━━━━━━━━━━━━━━\u001b[0m\u001b[37m\u001b[0m \u001b[1m0s\u001b[0m 8ms/step - accuracy: 0.9455 - loss: 0.1816 \n",
      "Epoch 56/100\n",
      "\u001b[1m7/7\u001b[0m \u001b[32m━━━━━━━━━━━━━━━━━━━━\u001b[0m\u001b[37m\u001b[0m \u001b[1m0s\u001b[0m 10ms/step - accuracy: 0.9061 - loss: 0.2194\n",
      "Epoch 57/100\n",
      "\u001b[1m7/7\u001b[0m \u001b[32m━━━━━━━━━━━━━━━━━━━━\u001b[0m\u001b[37m\u001b[0m \u001b[1m0s\u001b[0m 8ms/step - accuracy: 0.9280 - loss: 0.2151 \n",
      "Epoch 58/100\n",
      "\u001b[1m7/7\u001b[0m \u001b[32m━━━━━━━━━━━━━━━━━━━━\u001b[0m\u001b[37m\u001b[0m \u001b[1m0s\u001b[0m 8ms/step - accuracy: 0.9452 - loss: 0.1948 \n",
      "Epoch 59/100\n",
      "\u001b[1m7/7\u001b[0m \u001b[32m━━━━━━━━━━━━━━━━━━━━\u001b[0m\u001b[37m\u001b[0m \u001b[1m0s\u001b[0m 8ms/step - accuracy: 0.9517 - loss: 0.1836 \n",
      "Epoch 60/100\n",
      "\u001b[1m7/7\u001b[0m \u001b[32m━━━━━━━━━━━━━━━━━━━━\u001b[0m\u001b[37m\u001b[0m \u001b[1m0s\u001b[0m 10ms/step - accuracy: 0.9458 - loss: 0.1780\n",
      "Epoch 61/100\n",
      "\u001b[1m7/7\u001b[0m \u001b[32m━━━━━━━━━━━━━━━━━━━━\u001b[0m\u001b[37m\u001b[0m \u001b[1m0s\u001b[0m 7ms/step - accuracy: 0.9563 - loss: 0.1662 \n",
      "Epoch 62/100\n",
      "\u001b[1m7/7\u001b[0m \u001b[32m━━━━━━━━━━━━━━━━━━━━\u001b[0m\u001b[37m\u001b[0m \u001b[1m0s\u001b[0m 8ms/step - accuracy: 0.9269 - loss: 0.1850 \n",
      "Epoch 63/100\n",
      "\u001b[1m7/7\u001b[0m \u001b[32m━━━━━━━━━━━━━━━━━━━━\u001b[0m\u001b[37m\u001b[0m \u001b[1m0s\u001b[0m 10ms/step - accuracy: 0.9183 - loss: 0.1790\n",
      "Epoch 64/100\n",
      "\u001b[1m7/7\u001b[0m \u001b[32m━━━━━━━━━━━━━━━━━━━━\u001b[0m\u001b[37m\u001b[0m \u001b[1m0s\u001b[0m 11ms/step - accuracy: 0.9308 - loss: 0.1841\n",
      "Epoch 65/100\n",
      "\u001b[1m7/7\u001b[0m \u001b[32m━━━━━━━━━━━━━━━━━━━━\u001b[0m\u001b[37m\u001b[0m \u001b[1m0s\u001b[0m 8ms/step - accuracy: 0.9463 - loss: 0.1458 \n",
      "Epoch 66/100\n",
      "\u001b[1m7/7\u001b[0m \u001b[32m━━━━━━━━━━━━━━━━━━━━\u001b[0m\u001b[37m\u001b[0m \u001b[1m0s\u001b[0m 7ms/step - accuracy: 0.9160 - loss: 0.1764 \n",
      "Epoch 67/100\n",
      "\u001b[1m7/7\u001b[0m \u001b[32m━━━━━━━━━━━━━━━━━━━━\u001b[0m\u001b[37m\u001b[0m \u001b[1m0s\u001b[0m 10ms/step - accuracy: 0.9100 - loss: 0.1660\n",
      "Epoch 68/100\n",
      "\u001b[1m7/7\u001b[0m \u001b[32m━━━━━━━━━━━━━━━━━━━━\u001b[0m\u001b[37m\u001b[0m \u001b[1m0s\u001b[0m 8ms/step - accuracy: 0.9615 - loss: 0.1426 \n",
      "Epoch 69/100\n"
     ]
    },
    {
     "name": "stdout",
     "output_type": "stream",
     "text": [
      "\u001b[1m7/7\u001b[0m \u001b[32m━━━━━━━━━━━━━━━━━━━━\u001b[0m\u001b[37m\u001b[0m \u001b[1m0s\u001b[0m 10ms/step - accuracy: 0.9442 - loss: 0.1377\n",
      "Epoch 70/100\n",
      "\u001b[1m7/7\u001b[0m \u001b[32m━━━━━━━━━━━━━━━━━━━━\u001b[0m\u001b[37m\u001b[0m \u001b[1m0s\u001b[0m 8ms/step - accuracy: 0.9314 - loss: 0.1457 \n",
      "Epoch 71/100\n",
      "\u001b[1m7/7\u001b[0m \u001b[32m━━━━━━━━━━━━━━━━━━━━\u001b[0m\u001b[37m\u001b[0m \u001b[1m0s\u001b[0m 9ms/step - accuracy: 0.9299 - loss: 0.1538\n",
      "Epoch 72/100\n",
      "\u001b[1m7/7\u001b[0m \u001b[32m━━━━━━━━━━━━━━━━━━━━\u001b[0m\u001b[37m\u001b[0m \u001b[1m0s\u001b[0m 10ms/step - accuracy: 0.9379 - loss: 0.1418\n",
      "Epoch 73/100\n",
      "\u001b[1m7/7\u001b[0m \u001b[32m━━━━━━━━━━━━━━━━━━━━\u001b[0m\u001b[37m\u001b[0m \u001b[1m0s\u001b[0m 10ms/step - accuracy: 0.9547 - loss: 0.1360\n",
      "Epoch 74/100\n",
      "\u001b[1m7/7\u001b[0m \u001b[32m━━━━━━━━━━━━━━━━━━━━\u001b[0m\u001b[37m\u001b[0m \u001b[1m0s\u001b[0m 8ms/step - accuracy: 0.9340 - loss: 0.1546 \n",
      "Epoch 75/100\n",
      "\u001b[1m7/7\u001b[0m \u001b[32m━━━━━━━━━━━━━━━━━━━━\u001b[0m\u001b[37m\u001b[0m \u001b[1m0s\u001b[0m 10ms/step - accuracy: 0.9100 - loss: 0.1523\n",
      "Epoch 76/100\n",
      "\u001b[1m7/7\u001b[0m \u001b[32m━━━━━━━━━━━━━━━━━━━━\u001b[0m\u001b[37m\u001b[0m \u001b[1m0s\u001b[0m 11ms/step - accuracy: 0.9272 - loss: 0.1488\n",
      "Epoch 77/100\n",
      "\u001b[1m7/7\u001b[0m \u001b[32m━━━━━━━━━━━━━━━━━━━━\u001b[0m\u001b[37m\u001b[0m \u001b[1m0s\u001b[0m 10ms/step - accuracy: 0.9520 - loss: 0.1417\n",
      "Epoch 78/100\n",
      "\u001b[1m7/7\u001b[0m \u001b[32m━━━━━━━━━━━━━━━━━━━━\u001b[0m\u001b[37m\u001b[0m \u001b[1m0s\u001b[0m 8ms/step - accuracy: 0.9269 - loss: 0.1441 \n",
      "Epoch 79/100\n",
      "\u001b[1m7/7\u001b[0m \u001b[32m━━━━━━━━━━━━━━━━━━━━\u001b[0m\u001b[37m\u001b[0m \u001b[1m0s\u001b[0m 8ms/step - accuracy: 0.9424 - loss: 0.1374 \n",
      "Epoch 80/100\n",
      "\u001b[1m7/7\u001b[0m \u001b[32m━━━━━━━━━━━━━━━━━━━━\u001b[0m\u001b[37m\u001b[0m \u001b[1m0s\u001b[0m 8ms/step - accuracy: 0.9273 - loss: 0.1463 \n",
      "Epoch 81/100\n",
      "\u001b[1m7/7\u001b[0m \u001b[32m━━━━━━━━━━━━━━━━━━━━\u001b[0m\u001b[37m\u001b[0m \u001b[1m0s\u001b[0m 6ms/step - accuracy: 0.9181 - loss: 0.1588 \n",
      "Epoch 82/100\n",
      "\u001b[1m7/7\u001b[0m \u001b[32m━━━━━━━━━━━━━━━━━━━━\u001b[0m\u001b[37m\u001b[0m \u001b[1m0s\u001b[0m 7ms/step - accuracy: 0.9506 - loss: 0.1264 \n",
      "Epoch 83/100\n",
      "\u001b[1m7/7\u001b[0m \u001b[32m━━━━━━━━━━━━━━━━━━━━\u001b[0m\u001b[37m\u001b[0m \u001b[1m0s\u001b[0m 8ms/step - accuracy: 0.9242 - loss: 0.1463 \n",
      "Epoch 84/100\n",
      "\u001b[1m7/7\u001b[0m \u001b[32m━━━━━━━━━━━━━━━━━━━━\u001b[0m\u001b[37m\u001b[0m \u001b[1m0s\u001b[0m 8ms/step - accuracy: 0.9482 - loss: 0.1187 \n",
      "Epoch 85/100\n",
      "\u001b[1m7/7\u001b[0m \u001b[32m━━━━━━━━━━━━━━━━━━━━\u001b[0m\u001b[37m\u001b[0m \u001b[1m0s\u001b[0m 8ms/step - accuracy: 0.9288 - loss: 0.1277 \n",
      "Epoch 86/100\n",
      "\u001b[1m7/7\u001b[0m \u001b[32m━━━━━━━━━━━━━━━━━━━━\u001b[0m\u001b[37m\u001b[0m \u001b[1m0s\u001b[0m 10ms/step - accuracy: 0.9362 - loss: 0.1131\n",
      "Epoch 87/100\n",
      "\u001b[1m7/7\u001b[0m \u001b[32m━━━━━━━━━━━━━━━━━━━━\u001b[0m\u001b[37m\u001b[0m \u001b[1m0s\u001b[0m 7ms/step - accuracy: 0.9500 - loss: 0.1244 \n",
      "Epoch 88/100\n",
      "\u001b[1m7/7\u001b[0m \u001b[32m━━━━━━━━━━━━━━━━━━━━\u001b[0m\u001b[37m\u001b[0m \u001b[1m0s\u001b[0m 8ms/step - accuracy: 0.9486 - loss: 0.1285 \n",
      "Epoch 89/100\n",
      "\u001b[1m7/7\u001b[0m \u001b[32m━━━━━━━━━━━━━━━━━━━━\u001b[0m\u001b[37m\u001b[0m \u001b[1m0s\u001b[0m 10ms/step - accuracy: 0.9365 - loss: 0.1302\n",
      "Epoch 90/100\n",
      "\u001b[1m7/7\u001b[0m \u001b[32m━━━━━━━━━━━━━━━━━━━━\u001b[0m\u001b[37m\u001b[0m \u001b[1m0s\u001b[0m 8ms/step - accuracy: 0.9420 - loss: 0.1218 \n",
      "Epoch 91/100\n",
      "\u001b[1m7/7\u001b[0m \u001b[32m━━━━━━━━━━━━━━━━━━━━\u001b[0m\u001b[37m\u001b[0m \u001b[1m0s\u001b[0m 8ms/step - accuracy: 0.9177 - loss: 0.1489 \n",
      "Epoch 92/100\n",
      "\u001b[1m7/7\u001b[0m \u001b[32m━━━━━━━━━━━━━━━━━━━━\u001b[0m\u001b[37m\u001b[0m \u001b[1m0s\u001b[0m 10ms/step - accuracy: 0.8950 - loss: 0.1631\n",
      "Epoch 93/100\n",
      "\u001b[1m7/7\u001b[0m \u001b[32m━━━━━━━━━━━━━━━━━━━━\u001b[0m\u001b[37m\u001b[0m \u001b[1m0s\u001b[0m 8ms/step - accuracy: 0.9493 - loss: 0.1143  \n",
      "Epoch 94/100\n",
      "\u001b[1m7/7\u001b[0m \u001b[32m━━━━━━━━━━━━━━━━━━━━\u001b[0m\u001b[37m\u001b[0m \u001b[1m0s\u001b[0m 8ms/step - accuracy: 0.9267 - loss: 0.1166 \n",
      "Epoch 95/100\n",
      "\u001b[1m7/7\u001b[0m \u001b[32m━━━━━━━━━━━━━━━━━━━━\u001b[0m\u001b[37m\u001b[0m \u001b[1m0s\u001b[0m 10ms/step - accuracy: 0.9234 - loss: 0.1246\n",
      "Epoch 96/100\n",
      "\u001b[1m7/7\u001b[0m \u001b[32m━━━━━━━━━━━━━━━━━━━━\u001b[0m\u001b[37m\u001b[0m \u001b[1m0s\u001b[0m 8ms/step - accuracy: 0.9478 - loss: 0.1193 \n",
      "Epoch 97/100\n",
      "\u001b[1m7/7\u001b[0m \u001b[32m━━━━━━━━━━━━━━━━━━━━\u001b[0m\u001b[37m\u001b[0m \u001b[1m0s\u001b[0m 11ms/step - accuracy: 0.9260 - loss: 0.1317\n",
      "Epoch 98/100\n",
      "\u001b[1m7/7\u001b[0m \u001b[32m━━━━━━━━━━━━━━━━━━━━\u001b[0m\u001b[37m\u001b[0m \u001b[1m0s\u001b[0m 10ms/step - accuracy: 0.9564 - loss: 0.1110\n",
      "Epoch 99/100\n",
      "\u001b[1m7/7\u001b[0m \u001b[32m━━━━━━━━━━━━━━━━━━━━\u001b[0m\u001b[37m\u001b[0m \u001b[1m0s\u001b[0m 8ms/step - accuracy: 0.9265 - loss: 0.1198 \n",
      "Epoch 100/100\n",
      "\u001b[1m7/7\u001b[0m \u001b[32m━━━━━━━━━━━━━━━━━━━━\u001b[0m\u001b[37m\u001b[0m \u001b[1m0s\u001b[0m 10ms/step - accuracy: 0.9255 - loss: 0.1273\n"
     ]
    }
   ],
   "source": [
    "history=model.fit(X,y,epochs=100)"
   ]
  },
  {
   "cell_type": "code",
   "execution_count": 190,
   "id": "c4205007",
   "metadata": {},
   "outputs": [
    {
     "data": {
      "image/png": "[encoded data removed]",
      "text/plain": [
       "<Figure size 648x504 with 1 Axes>"
      ]
     },
     "metadata": {
      "needs_background": "light"
     },
     "output_type": "display_data"
    }
   ],
   "source": [
    "plt.figure(figsize=(9,7))\n",
    "plt.plot(history.history['accuracy'],label='Training Accuracy',color='teal')\n",
    "plt.title('Training Accuracy')\n",
    "plt.ylabel('Accuracy')\n",
    "plt.legend()\n",
    "plt.show()"
   ]
  },
  {
   "cell_type": "code",
   "execution_count": 191,
   "id": "62bab041",
   "metadata": {},
   "outputs": [
    {
     "data": {
      "image/png": "[encoded data removed]",
      "text/plain": [
       "<Figure size 648x504 with 1 Axes>"
      ]
     },
     "metadata": {
      "needs_background": "light"
     },
     "output_type": "display_data"
    }
   ],
   "source": [
    "plt.figure(figsize=(9,7))\n",
    "plt.plot(history.history['loss'],label='Training Loss',color='orange')\n",
    "plt.title('Training Loss')\n",
    "plt.ylabel('Loss')\n",
    "plt.legend()\n",
    "plt.show()"
   ]
  },
  {
   "cell_type": "code",
   "execution_count": 214,
   "id": "409c8a98",
   "metadata": {},
   "outputs": [
    {
     "name": "stdout",
     "output_type": "stream",
     "text": [
      "You: hi\n",
      "\u001b[1m1/1\u001b[0m \u001b[32m━━━━━━━━━━━━━━━━━━━━\u001b[0m\u001b[37m\u001b[0m \u001b[1m0s\u001b[0m 9ms/step\n",
      "AliTech: Hello!\n",
      "You: what is cancer?\n",
      "\u001b[1m1/1\u001b[0m \u001b[32m━━━━━━━━━━━━━━━━━━━━\u001b[0m\u001b[37m\u001b[0m \u001b[1m0s\u001b[0m 18ms/step\n",
      "AliTech: Cancer is a disease of the body's cells. Normally cells grow and multiply in a controlled way, however, sometimes cells become abnormal and keep growing. Abnormal cells can form a mass called a tumour\n",
      "You: what causes it?\n",
      "\u001b[1m1/1\u001b[0m \u001b[32m━━━━━━━━━━━━━━━━━━━━\u001b[0m\u001b[37m\u001b[0m \u001b[1m0s\u001b[0m 8ms/step\n",
      "AliTech: Cancer is caused by changes (mutations) to the DNA within cells. The DNA inside a cell is packaged into a large number of individual genes, each of which contains a set of instructions telling the cell what functions to perform, as well as how to grow and divide. Errors in the instructions can cause the cell to stop its normal function and may allow a cell to become cancerous.\n",
      "You: can be prevented?\n",
      "\u001b[1m1/1\u001b[0m \u001b[32m━━━━━━━━━━━━━━━━━━━━\u001b[0m\u001b[37m\u001b[0m \u001b[1m0s\u001b[0m 21ms/step\n",
      "AliTech: Not all cancers can be prevented but there are things you can do to reduce your risk.\n",
      "You: can fatigue be prevented?\n",
      "\u001b[1m1/1\u001b[0m \u001b[32m━━━━━━━━━━━━━━━━━━━━\u001b[0m\u001b[37m\u001b[0m \u001b[1m0s\u001b[0m 31ms/step\n",
      "AliTech: Fatigue can't be prevented because the exact cause of fatigue is not always known. But you can decrease the effect of fatigue, such as conserving energy. If your fatigue is related to low red blood cell count (anemia), there are ways to raise your level and relieve fatigue. See the information in the fatigue topic zone, and talk with your nurse or doctor so that he or she can help you to manage fatigue.\n",
      "You: i need my family help me\n",
      "\u001b[1m1/1\u001b[0m \u001b[32m━━━━━━━━━━━━━━━━━━━━\u001b[0m\u001b[37m\u001b[0m \u001b[1m0s\u001b[0m 62ms/step\n",
      "AliTech: This may be one of the hardest things to do. Most family members want to help and are just waiting to do something. Often they feel helpless, and afraid to ask if they can help. By being very specific about what you would like them to do, it will make it much easier for them to help. Sometimes, a family meeting is a good way to tell family what is going on, and to organize the tasks and activities. A family meeting may also be helpful when family members may not understand that fatigue is a real problem related to cancer and its treatment. Your doctor, nurse, or a social worker can help with this, too.\n",
      "You: effects of attitude or stress in cancer\n",
      "\u001b[1m1/1\u001b[0m \u001b[32m━━━━━━━━━━━━━━━━━━━━\u001b[0m\u001b[37m\u001b[0m \u001b[1m0s\u001b[0m 10ms/step\n",
      "AliTech: Not as far as researchers know. In fact, the idea that the cancer personality or a bad attitude contributes to the cause of cancer may be part of the ancient human habit of blaming the patient for the disease.\n",
      "You: can a change in diet alter the course of cancer?\n",
      "\u001b[1m1/1\u001b[0m \u001b[32m━━━━━━━━━━━━━━━━━━━━\u001b[0m\u001b[37m\u001b[0m \u001b[1m0s\u001b[0m 8ms/step\n",
      "AliTech: Again, not as far as researchers know. Many cancer centers are currently involved in finding out whether a certain diet can alter the course of cancer in some selected early cases. But there is no evidence that diet supplements, vitamins, minerals, or special diets actually change the course of a cancer once it has developed.\n",
      "You: will there ever be a cure for it?\n",
      "\u001b[1m1/1\u001b[0m \u001b[32m━━━━━━━━━━━━━━━━━━━━\u001b[0m\u001b[37m\u001b[0m \u001b[1m0s\u001b[0m 16ms/step\n",
      "AliTech: For cancer that is treatable but not curable, advances in treatment could transform cancer into a long-term health condition. In addition, there is some justifiable excitement about vaccines. So yes, we will cure some cancers, but we won't cure the concept of cancer.\n",
      "You: If our hair falls out, will it grow back?\n",
      "\u001b[1m1/1\u001b[0m \u001b[32m━━━━━━━━━━━━━━━━━━━━\u001b[0m\u001b[37m\u001b[0m \u001b[1m0s\u001b[0m 31ms/step\n",
      "AliTech: Yes, hair loss from chemotherapy is temporary. It will grow back, usually after therapy is finished. In some cases, hair can grow back during therapy. Usually the texture of the hair is different for the first year. Then, after a year or so, it usually goes back to how it was before you took chemotherapy. Hair loss from radiation therapy may be irreversible.\n",
      "You: can you tell what we are talking about?\n",
      "\u001b[1m1/1\u001b[0m \u001b[32m━━━━━━━━━━━━━━━━━━━━\u001b[0m\u001b[37m\u001b[0m \u001b[1m0s\u001b[0m 16ms/step\n",
      "AliTech: I have answered your questions about cancer.\n",
      "You: how does it start?\n",
      "\u001b[1m1/1\u001b[0m \u001b[32m━━━━━━━━━━━━━━━━━━━━\u001b[0m\u001b[37m\u001b[0m \u001b[1m0s\u001b[0m 38ms/step\n",
      "AliTech: Cancer cells have gene mutations that turn the cell from a normal cell into a cancer cell. These gene mutations may be inherited, develop over time as we get older and genes wear out, or develop if we are around something that damages our genes, like cigarette smoke, alcohol or ultraviolet (UV) radiation from the sun.\n",
      "You: is it genetic?\n",
      "\u001b[1m1/1\u001b[0m \u001b[32m━━━━━━━━━━━━━━━━━━━━\u001b[0m\u001b[37m\u001b[0m \u001b[1m0s\u001b[0m 24ms/step\n",
      "AliTech: Cancer is, in fact, a genetic disease. This is because cancer is caused by mutations or changes to genes that control the way our cells function, causing them to behave irregularly. These mutations can be inherited, as they are in about 5-10 percent of all cancer cases, but it's much more likely that these gene changes occur during a person's lifetime due to other factors besides genetics.\n",
      "You: can be curable?\n",
      "\u001b[1m1/1\u001b[0m \u001b[32m━━━━━━━━━━━━━━━━━━━━\u001b[0m\u001b[37m\u001b[0m \u001b[1m0s\u001b[0m 17ms/step\n",
      "AliTech: Whether a person's cancer can be cured depends on the type and stage of the cancer, the type of treatment they can get, and other factors. Some cancers are more likely to be cured than others. But each cancer needs to be treated differently. There isn't one cure for cancer.\n",
      "You: Has there ever been a vaccine for cancer?\n",
      "\u001b[1m1/1\u001b[0m \u001b[32m━━━━━━━━━━━━━━━━━━━━\u001b[0m\u001b[37m\u001b[0m \u001b[1m0s\u001b[0m 16ms/step\n",
      "AliTech: There are vaccines that treat existing cancer, called treatment vaccines or therapeutic vaccines. These vaccines are a type of cancer treatment called immunotherapy. They work to boost the body's immune system to fight cancer. Doctors give treatment vaccines to people who already have cancer.\n",
      "You: How many types of cancer are there?\n",
      "\u001b[1m1/1\u001b[0m \u001b[32m━━━━━━━━━━━━━━━━━━━━\u001b[0m\u001b[37m\u001b[0m \u001b[1m0s\u001b[0m 13ms/step\n",
      "AliTech: It is often said: about 200. However, as we discover more about cancer this is a simplistic answer. Scientists are increasingly finding more and more variants within one cancer site meaning that different types within one type behave differently and require different treatment.\n",
      "You: what are the commonest one?\n",
      "\u001b[1m1/1\u001b[0m \u001b[32m━━━━━━━━━━━━━━━━━━━━\u001b[0m\u001b[37m\u001b[0m \u001b[1m0s\u001b[0m 16ms/step\n",
      "AliTech: The four most common cancers in the UK are breast cancer, lung cancer, bowel cancer and prostate cancer (taken together they represent about half of the new cases of malignant cancer).\n",
      "You: tell me more\n",
      "\u001b[1m1/1\u001b[0m \u001b[32m━━━━━━━━━━━━━━━━━━━━\u001b[0m\u001b[37m\u001b[0m \u001b[1m0s\u001b[0m 16ms/step\n",
      "AliTech: Please ask your question more clearly so that I can give you a more accurate and suitable answer.\n",
      "You: goodbye\n",
      "\u001b[1m1/1\u001b[0m \u001b[32m━━━━━━━━━━━━━━━━━━━━\u001b[0m\u001b[37m\u001b[0m \u001b[1m0s\u001b[0m 31ms/step\n",
      "AliTech: Talk to you later\n"
     ]
    }
   ],
   "source": [
    "while True:\n",
    "    text_p=[]\n",
    "    prediction_input=input('You: ')\n",
    "    prediction_input=tokenizer.texts_to_sequences([prediction_input])\n",
    "    prediction_input=np.array(prediction_input).reshape(-1)\n",
    "    prediction_input=pad_sequences([prediction_input],maxlen=maxlen,padding='post')\n",
    "    y_pred=le.inverse_transform([np.argmax(model.predict(prediction_input))])[0]\n",
    "    print('AliTech:',random.choice(resp[y_pred]))\n",
    "    if y_pred=='goodbye':\n",
    "        break"
   ]
  }
 ],
 "metadata": {
  "kernelspec": {
   "display_name": "Python 3 (ipykernel)",
   "language": "python",
   "name": "python3"
  },
  "language_info": {
   "codemirror_mode": {
    "name": "ipython",
    "version": 3
   },
   "file_extension": ".py",
   "mimetype": "text/x-python",
   "name": "python",
   "nbconvert_exporter": "python",
   "pygments_lexer": "ipython3",
   "version": "3.10.5"
  }
 },
 "nbformat": 4,
 "nbformat_minor": 5
}
