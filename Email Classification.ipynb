{
 "cells": [
  {
   "cell_type": "code",
   "execution_count": 53,
   "id": "e26420c5-c531-4c0b-acc2-610ba98476ec",
   "metadata": {},
   "outputs": [],
   "source": [
    "import tensorflow as tf\n",
    "import tensorflow_hub as hub\n",
    "import tensorflow_text as text\n",
    "import pandas as pd\n",
    "from sklearn.model_selection import train_test_split\n",
    "from sklearn.metrics.pairwise import cosine_similarity\n",
    "import numpy as np\n",
    "from sklearn.metrics import classification_report,confusion_matrix\n",
    "import matplotlib.pyplot as plt\n",
    "import seaborn as sns"
   ]
  },
  {
   "cell_type": "code",
   "execution_count": 24,
   "id": "d27d85c2-58ee-4cb7-b16f-7ffbe802499d",
   "metadata": {},
   "outputs": [
    {
     "data": {
      "text/html": [
       "<div>\n",
       "<style scoped>\n",
       "    .dataframe tbody tr th:only-of-type {\n",
       "        vertical-align: middle;\n",
       "    }\n",
       "\n",
       "    .dataframe tbody tr th {\n",
       "        vertical-align: top;\n",
       "    }\n",
       "\n",
       "    .dataframe thead th {\n",
       "        text-align: right;\n",
       "    }\n",
       "</style>\n",
       "<table border=\"1\" class=\"dataframe\">\n",
       "  <thead>\n",
       "    <tr style=\"text-align: right;\">\n",
       "      <th></th>\n",
       "      <th>text</th>\n",
       "      <th>spam</th>\n",
       "    </tr>\n",
       "  </thead>\n",
       "  <tbody>\n",
       "    <tr>\n",
       "      <th>0</th>\n",
       "      <td>Subject: naturally irresistible your corporate...</td>\n",
       "      <td>1</td>\n",
       "    </tr>\n",
       "    <tr>\n",
       "      <th>1</th>\n",
       "      <td>Subject: the stock trading gunslinger  fanny i...</td>\n",
       "      <td>1</td>\n",
       "    </tr>\n",
       "    <tr>\n",
       "      <th>2</th>\n",
       "      <td>Subject: unbelievable new homes made easy  im ...</td>\n",
       "      <td>1</td>\n",
       "    </tr>\n",
       "    <tr>\n",
       "      <th>3</th>\n",
       "      <td>Subject: 4 color printing special  request add...</td>\n",
       "      <td>1</td>\n",
       "    </tr>\n",
       "    <tr>\n",
       "      <th>4</th>\n",
       "      <td>Subject: do not have money , get software cds ...</td>\n",
       "      <td>1</td>\n",
       "    </tr>\n",
       "  </tbody>\n",
       "</table>\n",
       "</div>"
      ],
      "text/plain": [
       "                                                text  spam\n",
       "0  Subject: naturally irresistible your corporate...     1\n",
       "1  Subject: the stock trading gunslinger  fanny i...     1\n",
       "2  Subject: unbelievable new homes made easy  im ...     1\n",
       "3  Subject: 4 color printing special  request add...     1\n",
       "4  Subject: do not have money , get software cds ...     1"
      ]
     },
     "execution_count": 24,
     "metadata": {},
     "output_type": "execute_result"
    }
   ],
   "source": [
    "df=pd.read_csv('emails.csv')\n",
    "df.head()"
   ]
  },
  {
   "cell_type": "code",
   "execution_count": 25,
   "id": "1109a682-07c7-4f0b-9fc5-ba1ad217ea4f",
   "metadata": {},
   "outputs": [
    {
     "data": {
      "text/html": [
       "<div>\n",
       "<style scoped>\n",
       "    .dataframe tbody tr th:only-of-type {\n",
       "        vertical-align: middle;\n",
       "    }\n",
       "\n",
       "    .dataframe tbody tr th {\n",
       "        vertical-align: top;\n",
       "    }\n",
       "\n",
       "    .dataframe thead tr th {\n",
       "        text-align: left;\n",
       "    }\n",
       "\n",
       "    .dataframe thead tr:last-of-type th {\n",
       "        text-align: right;\n",
       "    }\n",
       "</style>\n",
       "<table border=\"1\" class=\"dataframe\">\n",
       "  <thead>\n",
       "    <tr>\n",
       "      <th></th>\n",
       "      <th colspan=\"4\" halign=\"left\">text</th>\n",
       "    </tr>\n",
       "    <tr>\n",
       "      <th></th>\n",
       "      <th>count</th>\n",
       "      <th>unique</th>\n",
       "      <th>top</th>\n",
       "      <th>freq</th>\n",
       "    </tr>\n",
       "    <tr>\n",
       "      <th>spam</th>\n",
       "      <th></th>\n",
       "      <th></th>\n",
       "      <th></th>\n",
       "      <th></th>\n",
       "    </tr>\n",
       "  </thead>\n",
       "  <tbody>\n",
       "    <tr>\n",
       "      <th>0</th>\n",
       "      <td>4360</td>\n",
       "      <td>4327</td>\n",
       "      <td>Subject: * special notification * aurora versi...</td>\n",
       "      <td>2</td>\n",
       "    </tr>\n",
       "    <tr>\n",
       "      <th>1</th>\n",
       "      <td>1368</td>\n",
       "      <td>1368</td>\n",
       "      <td>Subject: naturally irresistible your corporate...</td>\n",
       "      <td>1</td>\n",
       "    </tr>\n",
       "  </tbody>\n",
       "</table>\n",
       "</div>"
      ],
      "text/plain": [
       "      text                                                               \n",
       "     count unique                                                top freq\n",
       "spam                                                                     \n",
       "0     4360   4327  Subject: * special notification * aurora versi...    2\n",
       "1     1368   1368  Subject: naturally irresistible your corporate...    1"
      ]
     },
     "execution_count": 25,
     "metadata": {},
     "output_type": "execute_result"
    }
   ],
   "source": [
    "df.groupby('spam').describe()"
   ]
  },
  {
   "cell_type": "code",
   "execution_count": 26,
   "id": "34afebe1-d618-45a5-bc15-b1b7d77bf071",
   "metadata": {},
   "outputs": [
    {
     "data": {
      "text/plain": [
       "0    4360\n",
       "1    1368\n",
       "Name: spam, dtype: int64"
      ]
     },
     "execution_count": 26,
     "metadata": {},
     "output_type": "execute_result"
    }
   ],
   "source": [
    "df['spam'].value_counts()"
   ]
  },
  {
   "cell_type": "code",
   "execution_count": 27,
   "id": "65fb08b1-41e8-48eb-8411-9a9c520e1cce",
   "metadata": {},
   "outputs": [
    {
     "data": {
      "text/plain": [
       "0.3137614678899083"
      ]
     },
     "execution_count": 27,
     "metadata": {},
     "output_type": "execute_result"
    }
   ],
   "source": [
    "1368/4360"
   ]
  },
  {
   "cell_type": "code",
   "execution_count": 28,
   "id": "d9de731b-3e16-4534-b18d-9cf31ffb02c8",
   "metadata": {},
   "outputs": [
    {
     "data": {
      "text/plain": [
       "(1368, 2)"
      ]
     },
     "execution_count": 28,
     "metadata": {},
     "output_type": "execute_result"
    }
   ],
   "source": [
    "df_spam=df[df['spam']==1]\n",
    "df_spam.shape"
   ]
  },
  {
   "cell_type": "code",
   "execution_count": 29,
   "id": "977c6917-a8a1-4757-9b2f-869f17f70ce3",
   "metadata": {},
   "outputs": [
    {
     "data": {
      "text/plain": [
       "(4360, 2)"
      ]
     },
     "execution_count": 29,
     "metadata": {},
     "output_type": "execute_result"
    }
   ],
   "source": [
    "df_ham=df[df['spam']==0]\n",
    "df_ham.shape"
   ]
  },
  {
   "cell_type": "code",
   "execution_count": 30,
   "id": "e09c1b8f-ec2b-4f23-b506-051fc2533c64",
   "metadata": {},
   "outputs": [
    {
     "data": {
      "text/plain": [
       "(1368, 2)"
      ]
     },
     "execution_count": 30,
     "metadata": {},
     "output_type": "execute_result"
    }
   ],
   "source": [
    "df_ham_downsampled=df_ham.sample(df_spam.shape[0])\n",
    "df_ham_downsampled.shape"
   ]
  },
  {
   "cell_type": "code",
   "execution_count": 31,
   "id": "b1fb44f8-32c8-40d9-acca-13bd764952ec",
   "metadata": {},
   "outputs": [
    {
     "data": {
      "text/plain": [
       "(2736, 2)"
      ]
     },
     "execution_count": 31,
     "metadata": {},
     "output_type": "execute_result"
    }
   ],
   "source": [
    "df_balanced=pd.concat([df_spam,df_ham_downsampled])\n",
    "df_balanced.shape"
   ]
  },
  {
   "cell_type": "code",
   "execution_count": 32,
   "id": "ef579ee8-d793-4642-b147-7537474c28cc",
   "metadata": {},
   "outputs": [
    {
     "data": {
      "text/plain": [
       "1    1368\n",
       "0    1368\n",
       "Name: spam, dtype: int64"
      ]
     },
     "execution_count": 32,
     "metadata": {},
     "output_type": "execute_result"
    }
   ],
   "source": [
    "df_balanced['spam'].value_counts()"
   ]
  },
  {
   "cell_type": "code",
   "execution_count": 33,
   "id": "dc44fef4-74b0-4d9d-b6d7-8de40eeb2c14",
   "metadata": {},
   "outputs": [
    {
     "data": {
      "text/html": [
       "<div>\n",
       "<style scoped>\n",
       "    .dataframe tbody tr th:only-of-type {\n",
       "        vertical-align: middle;\n",
       "    }\n",
       "\n",
       "    .dataframe tbody tr th {\n",
       "        vertical-align: top;\n",
       "    }\n",
       "\n",
       "    .dataframe thead th {\n",
       "        text-align: right;\n",
       "    }\n",
       "</style>\n",
       "<table border=\"1\" class=\"dataframe\">\n",
       "  <thead>\n",
       "    <tr style=\"text-align: right;\">\n",
       "      <th></th>\n",
       "      <th>text</th>\n",
       "      <th>spam</th>\n",
       "    </tr>\n",
       "  </thead>\n",
       "  <tbody>\n",
       "    <tr>\n",
       "      <th>1723</th>\n",
       "      <td>Subject: re : choosing the riskfree rate  dear...</td>\n",
       "      <td>0</td>\n",
       "    </tr>\n",
       "    <tr>\n",
       "      <th>8</th>\n",
       "      <td>Subject: undeliverable : home based business f...</td>\n",
       "      <td>1</td>\n",
       "    </tr>\n",
       "    <tr>\n",
       "      <th>359</th>\n",
       "      <td>Subject: start shopping at costco today with a...</td>\n",
       "      <td>1</td>\n",
       "    </tr>\n",
       "    <tr>\n",
       "      <th>5529</th>\n",
       "      <td>Subject: thanks  dear mr . kaminski :  thank y...</td>\n",
       "      <td>0</td>\n",
       "    </tr>\n",
       "    <tr>\n",
       "      <th>3383</th>\n",
       "      <td>Subject: recommendations  vince and joe ,  thi...</td>\n",
       "      <td>0</td>\n",
       "    </tr>\n",
       "  </tbody>\n",
       "</table>\n",
       "</div>"
      ],
      "text/plain": [
       "                                                   text  spam\n",
       "1723  Subject: re : choosing the riskfree rate  dear...     0\n",
       "8     Subject: undeliverable : home based business f...     1\n",
       "359   Subject: start shopping at costco today with a...     1\n",
       "5529  Subject: thanks  dear mr . kaminski :  thank y...     0\n",
       "3383  Subject: recommendations  vince and joe ,  thi...     0"
      ]
     },
     "execution_count": 33,
     "metadata": {},
     "output_type": "execute_result"
    }
   ],
   "source": [
    "df_balanced.sample(5)"
   ]
  },
  {
   "cell_type": "code",
   "execution_count": 34,
   "id": "b550e102-6fe3-4930-bf78-c60d98daf7ac",
   "metadata": {},
   "outputs": [],
   "source": [
    "X_train,X_test,y_train,y_test=train_test_split(df_balanced['text'],df_balanced['spam'],\n",
    "                                               test_size=0.2,random_state=101,\n",
    "                                               stratify=df_balanced['spam'])"
   ]
  },
  {
   "cell_type": "code",
   "execution_count": 35,
   "id": "70f9b5c2-0972-4d6d-9b4a-180248bf5710",
   "metadata": {},
   "outputs": [
    {
     "data": {
      "text/plain": [
       "5444    Subject: agenda for transmission roundtable on...\n",
       "5282    Subject: value lab meeting on the lst of augus...\n",
       "890     Subject: you don _ t know how to get into sear...\n",
       "749     Subject: claim your free $ 1000 home depot gif...\n",
       "908     Subject: mail delivery failed : returning mess...\n",
       "Name: text, dtype: object"
      ]
     },
     "execution_count": 35,
     "metadata": {},
     "output_type": "execute_result"
    }
   ],
   "source": [
    "X_train.head()"
   ]
  },
  {
   "cell_type": "code",
   "execution_count": 36,
   "id": "04235891-a1e3-418d-b356-d442a59207f0",
   "metadata": {},
   "outputs": [],
   "source": [
    "preprocess_url='https://kaggle.com/models/tensorflow/bert/frameworks/TensorFlow2/variations/en-uncased-preprocess/versions/3'\n",
    "encoder='Documents/New folder'"
   ]
  },
  {
   "cell_type": "code",
   "execution_count": 37,
   "id": "5afff0ff-9fa9-4825-b3b1-e51bbef339a8",
   "metadata": {},
   "outputs": [],
   "source": [
    "def get_sentence_embedding(sentence):\n",
    "    bert_preprocess=hub.KerasLayer(preprocess_url)\n",
    "    preprocessed_text=bert_preprocess(sentence)\n",
    "    bert_encoder=hub.KerasLayer(encoder)\n",
    "    return bert_encoder(preprocessed_text)['pooled_output']"
   ]
  },
  {
   "cell_type": "code",
   "execution_count": 38,
   "id": "0ff1df47-a0d7-41b8-8575-cff95b8a400f",
   "metadata": {},
   "outputs": [
    {
     "data": {
      "text/plain": [
       "<tf.Tensor: shape=(2, 768), dtype=float32, numpy=\n",
       "array([[ 0.0732795 , -0.24222304,  0.77541345, ..., -0.7764012 ,\n",
       "         0.37399358,  0.9943151 ],\n",
       "       [-0.16002959, -0.48740003, -0.54574096, ..., -0.95683104,\n",
       "         0.4591403 ,  0.97732335]], dtype=float32)>"
      ]
     },
     "execution_count": 38,
     "metadata": {},
     "output_type": "execute_result"
    }
   ],
   "source": [
    "get_sentence_embedding([\n",
    "    '500$ discount. hurry up',\n",
    "    'Bhavin, are you up for a volleyball game tomorrow?'\n",
    "])"
   ]
  },
  {
   "cell_type": "code",
   "execution_count": 39,
   "id": "a94d7f3c-4cd7-415c-b7c8-748aa8eb2175",
   "metadata": {},
   "outputs": [],
   "source": [
    "e=get_sentence_embedding([\n",
    "    'banana',\n",
    "    'grapes',\n",
    "    'mango',\n",
    "    'jeff bezos',\n",
    "    'elon musk',\n",
    "    'bill gates'\n",
    "])"
   ]
  },
  {
   "cell_type": "code",
   "execution_count": 40,
   "id": "80b6cdd7-1233-4d99-9521-b6de4a8eff63",
   "metadata": {},
   "outputs": [
    {
     "data": {
      "text/plain": [
       "<tf.Tensor: shape=(6, 768), dtype=float32, numpy=\n",
       "array([[ 0.26732692, -0.19118235,  0.08356361, ..., -0.61833507,\n",
       "         0.0033636 ,  0.999784  ],\n",
       "       [ 0.36010444,  0.14107566,  0.91148835, ..., -0.8994041 ,\n",
       "        -0.1167155 ,  0.99929357],\n",
       "       [ 0.24768198, -0.23323455,  0.5440178 , ..., -0.42085326,\n",
       "         0.3458958 ,  0.99843556],\n",
       "       [ 0.3807962 ,  0.28546467,  0.9919518 , ..., -0.7380233 ,\n",
       "         0.09374396,  0.99240774],\n",
       "       [-0.11955263, -0.5513138 ,  0.9718945 , ..., -0.88135725,\n",
       "         0.6639828 ,  0.9770738 ],\n",
       "       [-0.19652505, -0.1419892 ,  0.9962984 , ..., -0.9222701 ,\n",
       "         0.34902388,  0.9665002 ]], dtype=float32)>"
      ]
     },
     "execution_count": 40,
     "metadata": {},
     "output_type": "execute_result"
    }
   ],
   "source": [
    "e"
   ]
  },
  {
   "cell_type": "code",
   "execution_count": 41,
   "id": "dd0e321e-5446-4301-8085-c685e3ca9b51",
   "metadata": {},
   "outputs": [
    {
     "data": {
      "text/plain": [
       "array([[0.7118341]], dtype=float32)"
      ]
     },
     "execution_count": 41,
     "metadata": {},
     "output_type": "execute_result"
    }
   ],
   "source": [
    "cosine_similarity([e[0]],[e[1]])"
   ]
  },
  {
   "cell_type": "code",
   "execution_count": 42,
   "id": "413f930b-4b67-4995-9430-1a4b43aa5906",
   "metadata": {},
   "outputs": [
    {
     "data": {
      "text/plain": [
       "array([[0.04053295]], dtype=float32)"
      ]
     },
     "execution_count": 42,
     "metadata": {},
     "output_type": "execute_result"
    }
   ],
   "source": [
    "cosine_similarity([e[0]],[e[4]])"
   ]
  },
  {
   "cell_type": "code",
   "execution_count": 43,
   "id": "e3d0fb20-097f-405d-b375-196cfc35a6dc",
   "metadata": {},
   "outputs": [],
   "source": [
    "bert_preprocess=hub.KerasLayer(preprocess_url)"
   ]
  },
  {
   "cell_type": "code",
   "execution_count": 44,
   "id": "e268dbec-479c-4563-8d9d-ccb6cd6a2559",
   "metadata": {},
   "outputs": [],
   "source": [
    "bert_encoder=hub.KerasLayer(encoder)"
   ]
  },
  {
   "cell_type": "code",
   "execution_count": 45,
   "id": "a23d4bd1-ba38-433a-91c4-af30cea31ed4",
   "metadata": {},
   "outputs": [],
   "source": [
    "# Bert layer\n",
    "text_input=tf.keras.layers.Input(shape=(),dtype=tf.string,name='text')\n",
    "preprocessed_text=bert_preprocess(text_input)\n",
    "outputs=bert_encoder(preprocessed_text)\n",
    "\n",
    "# Neural network layers\n",
    "l=tf.keras.layers.Dropout(0.1,name='dropout')(outputs['pooled_output'])\n",
    "l=tf.keras.layers.Dense(1,activation='sigmoid',name='output')(l)\n",
    "\n",
    "# Constrauct final model\n",
    "model=tf.keras.Model(inputs=[text_input],outputs=[l])"
   ]
  },
  {
   "cell_type": "code",
   "execution_count": 46,
   "id": "4c5b5e1f-8012-4fcb-965a-59def1771334",
   "metadata": {},
   "outputs": [
    {
     "name": "stdout",
     "output_type": "stream",
     "text": [
      "Model: \"model\"\n",
      "__________________________________________________________________________________________________\n",
      " Layer (type)                   Output Shape         Param #     Connected to                     \n",
      "==================================================================================================\n",
      " text (InputLayer)              [(None,)]            0           []                               \n",
      "                                                                                                  \n",
      " keras_layer_8 (KerasLayer)     {'input_word_ids':   0           ['text[0][0]']                   \n",
      "                                (None, 128),                                                      \n",
      "                                 'input_type_ids':                                                \n",
      "                                (None, 128),                                                      \n",
      "                                 'input_mask': (Non                                               \n",
      "                                e, 128)}                                                          \n",
      "                                                                                                  \n",
      " keras_layer_9 (KerasLayer)     {'sequence_output':  109482241   ['keras_layer_8[0][0]',          \n",
      "                                 (None, 128, 768),                'keras_layer_8[0][1]',          \n",
      "                                 'pooled_output': (               'keras_layer_8[0][2]']          \n",
      "                                None, 768),                                                       \n",
      "                                 'default': (None,                                                \n",
      "                                768),                                                             \n",
      "                                 'encoder_outputs':                                               \n",
      "                                 [(None, 128, 768),                                               \n",
      "                                 (None, 128, 768),                                                \n",
      "                                 (None, 128, 768),                                                \n",
      "                                 (None, 128, 768),                                                \n",
      "                                 (None, 128, 768),                                                \n",
      "                                 (None, 128, 768),                                                \n",
      "                                 (None, 128, 768),                                                \n",
      "                                 (None, 128, 768),                                                \n",
      "                                 (None, 128, 768),                                                \n",
      "                                 (None, 128, 768),                                                \n",
      "                                 (None, 128, 768),                                                \n",
      "                                 (None, 128, 768)]}                                               \n",
      "                                                                                                  \n",
      " dropout (Dropout)              (None, 768)          0           ['keras_layer_9[0][13]']         \n",
      "                                                                                                  \n",
      " output (Dense)                 (None, 1)            769         ['dropout[0][0]']                \n",
      "                                                                                                  \n",
      "==================================================================================================\n",
      "Total params: 109,483,010\n",
      "Trainable params: 769\n",
      "Non-trainable params: 109,482,241\n",
      "__________________________________________________________________________________________________\n"
     ]
    }
   ],
   "source": [
    "model.summary()"
   ]
  },
  {
   "cell_type": "code",
   "execution_count": 47,
   "id": "2c4ea204-2dea-4881-9429-53ae641723f2",
   "metadata": {},
   "outputs": [],
   "source": [
    "METRICS=[\n",
    "    tf.keras.metrics.BinaryAccuracy(name='accuracy'),\n",
    "    tf.keras.metrics.Precision(name='precision'),\n",
    "    tf.keras.metrics.Recall(name='recall')\n",
    "]\n",
    "\n",
    "model.compile(optimizer='adam',\n",
    "              loss='binary_crossentropy',\n",
    "              metrics=METRICS)"
   ]
  },
  {
   "cell_type": "code",
   "execution_count": 48,
   "id": "19e8a724-f513-4d89-a76f-f1c4a673aaab",
   "metadata": {},
   "outputs": [
    {
     "name": "stdout",
     "output_type": "stream",
     "text": [
      "Epoch 1/10\n",
      "69/69 [==============================] - 898s 13s/step - loss: 0.5796 - accuracy: 0.7221 - precision: 0.7124 - recall: 0.7450\n",
      "Epoch 2/10\n",
      "69/69 [==============================] - 845s 12s/step - loss: 0.4454 - accuracy: 0.8423 - precision: 0.8389 - recall: 0.8473\n",
      "Epoch 3/10\n",
      "69/69 [==============================] - 849s 12s/step - loss: 0.3767 - accuracy: 0.8679 - precision: 0.8669 - recall: 0.8693\n",
      "Epoch 4/10\n",
      "69/69 [==============================] - 850s 12s/step - loss: 0.3433 - accuracy: 0.8748 - precision: 0.8734 - recall: 0.8766\n",
      "Epoch 5/10\n",
      "69/69 [==============================] - 854s 12s/step - loss: 0.3198 - accuracy: 0.8766 - precision: 0.8773 - recall: 0.8757\n",
      "Epoch 6/10\n",
      "69/69 [==============================] - 869s 13s/step - loss: 0.3030 - accuracy: 0.8880 - precision: 0.8920 - recall: 0.8830\n",
      "Epoch 7/10\n",
      "69/69 [==============================] - 846s 12s/step - loss: 0.2859 - accuracy: 0.8885 - precision: 0.8878 - recall: 0.8894\n",
      "Epoch 8/10\n",
      "69/69 [==============================] - 843s 12s/step - loss: 0.2750 - accuracy: 0.8944 - precision: 0.8919 - recall: 0.8976\n",
      "Epoch 9/10\n",
      "69/69 [==============================] - 905s 13s/step - loss: 0.2635 - accuracy: 0.9063 - precision: 0.9052 - recall: 0.9077\n",
      "Epoch 10/10\n",
      "69/69 [==============================] - 870s 13s/step - loss: 0.2544 - accuracy: 0.9054 - precision: 0.9073 - recall: 0.9031\n"
     ]
    },
    {
     "data": {
      "text/plain": [
       "<keras.callbacks.History at 0x233c7cb4070>"
      ]
     },
     "execution_count": 48,
     "metadata": {},
     "output_type": "execute_result"
    }
   ],
   "source": [
    "model.fit(X_train,y_train,epochs=10)"
   ]
  },
  {
   "cell_type": "code",
   "execution_count": 49,
   "id": "de195d74-58ad-4a85-9540-b8297370c074",
   "metadata": {},
   "outputs": [
    {
     "name": "stdout",
     "output_type": "stream",
     "text": [
      "18/18 [==============================] - 213s 12s/step - loss: 0.2267 - accuracy: 0.9197 - precision: 0.9228 - recall: 0.9161\n"
     ]
    },
    {
     "data": {
      "text/plain": [
       "[0.22668077051639557,\n",
       " 0.9197080135345459,\n",
       " 0.9227941036224365,\n",
       " 0.9160584211349487]"
      ]
     },
     "execution_count": 49,
     "metadata": {},
     "output_type": "execute_result"
    }
   ],
   "source": [
    "model.evaluate(X_test,y_test)"
   ]
  },
  {
   "cell_type": "code",
   "execution_count": 54,
   "id": "67c41f6b-69aa-436b-ad14-8fb21af0f231",
   "metadata": {},
   "outputs": [
    {
     "name": "stdout",
     "output_type": "stream",
     "text": [
      "18/18 [==============================] - 210s 12s/step\n"
     ]
    }
   ],
   "source": [
    "y_predicted=model.predict(X_test)\n",
    "y_predicted=y_predicted.flatten()"
   ]
  },
  {
   "cell_type": "code",
   "execution_count": 55,
   "id": "ecbfe2ce-6211-4a7c-be20-34e6fe12c894",
   "metadata": {},
   "outputs": [
    {
     "data": {
      "text/plain": [
       "array([0, 0, 0, 0, 0, 1, 1, 0, 0, 0, 1, 1, 0, 1, 0, 1, 0, 0, 1, 0, 1, 1,\n",
       "       0, 1, 1, 1, 1, 1, 1, 1, 0, 0, 1, 0, 0, 0, 1, 1, 0, 1, 0, 1, 0, 0,\n",
       "       0, 1, 0, 0, 1, 0, 1, 0, 0, 1, 1, 0, 0, 1, 1, 1, 0, 0, 0, 1, 0, 1,\n",
       "       0, 0, 1, 0, 1, 1, 1, 1, 1, 1, 0, 0, 0, 0, 0, 1, 1, 1, 1, 0, 1, 0,\n",
       "       0, 0, 1, 1, 1, 0, 1, 0, 0, 0, 1, 0, 0, 1, 1, 1, 0, 0, 1, 1, 1, 1,\n",
       "       0, 0, 1, 0, 0, 0, 0, 1, 0, 0, 0, 0, 0, 0, 1, 1, 0, 0, 0, 0, 0, 0,\n",
       "       0, 1, 1, 1, 1, 1, 0, 1, 1, 0, 1, 1, 0, 1, 1, 0, 0, 0, 1, 0, 0, 0,\n",
       "       1, 1, 0, 1, 1, 0, 0, 0, 1, 0, 0, 0, 0, 1, 0, 0, 0, 0, 0, 0, 1, 1,\n",
       "       1, 0, 0, 0, 1, 1, 0, 1, 0, 1, 0, 0, 1, 0, 0, 0, 1, 0, 1, 1, 1, 0,\n",
       "       0, 1, 1, 0, 1, 1, 1, 0, 1, 0, 1, 1, 1, 1, 1, 1, 0, 0, 0, 1, 0, 0,\n",
       "       0, 1, 1, 1, 0, 1, 0, 1, 1, 0, 1, 1, 1, 1, 1, 1, 0, 1, 1, 0, 1, 0,\n",
       "       0, 1, 0, 1, 1, 1, 1, 1, 1, 0, 0, 1, 1, 1, 1, 0, 0, 0, 1, 1, 1, 0,\n",
       "       0, 0, 0, 1, 1, 1, 1, 0, 0, 1, 0, 1, 1, 1, 1, 1, 0, 1, 0, 0, 1, 0,\n",
       "       1, 1, 0, 0, 0, 1, 1, 0, 1, 0, 1, 1, 0, 0, 1, 1, 1, 0, 1, 0, 1, 0,\n",
       "       1, 0, 0, 1, 0, 1, 1, 1, 1, 0, 1, 0, 0, 0, 1, 0, 0, 1, 1, 1, 0, 1,\n",
       "       1, 1, 1, 0, 0, 1, 0, 0, 1, 0, 0, 0, 1, 0, 0, 1, 0, 0, 1, 0, 1, 0,\n",
       "       0, 0, 1, 0, 1, 0, 1, 1, 1, 1, 0, 1, 1, 1, 1, 1, 1, 1, 0, 0, 1, 0,\n",
       "       1, 0, 0, 0, 1, 1, 0, 0, 1, 0, 0, 1, 0, 0, 0, 0, 1, 1, 1, 1, 0, 1,\n",
       "       1, 1, 1, 1, 0, 1, 1, 0, 1, 1, 1, 1, 1, 1, 0, 1, 0, 0, 0, 1, 1, 1,\n",
       "       1, 0, 1, 1, 1, 1, 0, 0, 0, 0, 1, 1, 0, 0, 1, 0, 0, 1, 0, 0, 0, 1,\n",
       "       1, 0, 0, 0, 1, 0, 0, 0, 1, 1, 1, 1, 0, 0, 1, 0, 0, 0, 1, 1, 1, 0,\n",
       "       1, 0, 1, 1, 1, 0, 0, 0, 0, 0, 0, 0, 0, 1, 1, 0, 0, 1, 0, 1, 0, 0,\n",
       "       1, 1, 0, 0, 1, 0, 1, 0, 0, 1, 0, 1, 0, 1, 1, 0, 1, 0, 0, 0, 1, 0,\n",
       "       1, 1, 0, 1, 0, 1, 0, 0, 0, 1, 0, 0, 1, 1, 0, 0, 0, 1, 0, 0, 0, 0,\n",
       "       1, 0, 1, 1, 1, 0, 1, 1, 0, 0, 0, 1, 0, 1, 0, 0, 0, 1, 0, 1])"
      ]
     },
     "execution_count": 55,
     "metadata": {},
     "output_type": "execute_result"
    }
   ],
   "source": [
    "y_predicted=np.where(y_predicted>0.5,1,0)\n",
    "y_predicted"
   ]
  },
  {
   "cell_type": "code",
   "execution_count": 56,
   "id": "b3b8f657-86e6-4842-9efe-2f022cf0300d",
   "metadata": {},
   "outputs": [
    {
     "data": {
      "text/plain": [
       "array([[253,  21],\n",
       "       [ 23, 251]], dtype=int64)"
      ]
     },
     "execution_count": 56,
     "metadata": {},
     "output_type": "execute_result"
    }
   ],
   "source": [
    "cm=confusion_matrix(y_test,y_predicted)\n",
    "cm"
   ]
  },
  {
   "cell_type": "code",
   "execution_count": 58,
   "id": "b1413af8-6fcf-4127-872b-32239a89898a",
   "metadata": {},
   "outputs": [
    {
     "data": {
      "image/png": "[encoded data removed]",
      "text/plain": [
       "<Figure size 504x360 with 2 Axes>"
      ]
     },
     "metadata": {
      "needs_background": "light"
     },
     "output_type": "display_data"
    }
   ],
   "source": [
    "plt.figure(figsize=(7,5))\n",
    "sns.heatmap(cm,annot=True,annot_kws={'size':17},fmt='d',cmap='Blues')\n",
    "plt.title('Confusion Matrix')\n",
    "plt.xlabel('Predicted')\n",
    "plt.ylabel('Truth')\n",
    "plt.show()"
   ]
  },
  {
   "cell_type": "code",
   "execution_count": 59,
   "id": "59534e1e-b896-4ae0-952e-a5e04debc4ad",
   "metadata": {},
   "outputs": [
    {
     "name": "stdout",
     "output_type": "stream",
     "text": [
      "              precision    recall  f1-score   support\n",
      "\n",
      "           0       0.92      0.92      0.92       276\n",
      "           1       0.92      0.92      0.92       272\n",
      "\n",
      "    accuracy                           0.92       548\n",
      "   macro avg       0.92      0.92      0.92       548\n",
      "weighted avg       0.92      0.92      0.92       548\n",
      "\n"
     ]
    }
   ],
   "source": [
    "print(classification_report(y_predicted,y_test))"
   ]
  },
  {
   "cell_type": "code",
   "execution_count": 61,
   "id": "dc49f41c-d68d-4bd9-b820-c122cece08e7",
   "metadata": {},
   "outputs": [
    {
     "name": "stdout",
     "output_type": "stream",
     "text": [
      "1/1 [==============================] - 2s 2s/step\n"
     ]
    },
    {
     "data": {
      "text/plain": [
       "array([[0.9743567 ],\n",
       "       [0.9159086 ],\n",
       "       [0.8946406 ],\n",
       "       [0.2798463 ],\n",
       "       [0.59651923]], dtype=float32)"
      ]
     },
     "execution_count": 61,
     "metadata": {},
     "output_type": "execute_result"
    }
   ],
   "source": [
    "reviews=[\n",
    "    'Enter a chance to win $5000, hurry up, offer valid until march 31,2021.',\n",
    "    'You are awarded a SiPix Digital Camera! call 09061221061 from landline.Delivery within 28 days.T Cs Box177.',\n",
    "    'it to 80488. Your 500 free text messages are valid until 31 December 2005.',\n",
    "    'Hey Sam, Are you coming for a cricket game tomorrow',\n",
    "    \"Why don't you wait 'til at least wednesday to see if you get your.\"\n",
    "]\n",
    "model.predict(reviews)"
   ]
  }
 ],
 "metadata": {
  "kernelspec": {
   "display_name": "Python 3 (ipykernel)",
   "language": "python",
   "name": "python3"
  },
  "language_info": {
   "codemirror_mode": {
    "name": "ipython",
    "version": 3
   },
   "file_extension": ".py",
   "mimetype": "text/x-python",
   "name": "python",
   "nbconvert_exporter": "python",
   "pygments_lexer": "ipython3",
   "version": "3.10.5"
  }
 },
 "nbformat": 4,
 "nbformat_minor": 5
}
