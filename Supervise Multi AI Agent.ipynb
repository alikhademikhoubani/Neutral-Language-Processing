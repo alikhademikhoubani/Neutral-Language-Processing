{
 "cells": [
  {
   "cell_type": "code",
   "execution_count": 1,
   "id": "50a6c436",
   "metadata": {},
   "outputs": [],
   "source": [
    "from typing import TypedDict, Annotated, List, Literal, Dict, Any\n",
    "from langchain_core.messages import BaseMessage, HumanMessage, AIMessage, SystemMessage\n",
    "from langgraph.graph import StateGraph, END, MessagesState\n",
    "from langgraph.checkpoint.memory import MemorySaver\n",
    "import random\n",
    "from langchain_groq import ChatGroq\n",
    "from langchain_core.prompts import ChatPromptTemplate\n",
    "from datetime import datetime\n",
    "from dotenv import load_dotenv\n",
    "import os"
   ]
  },
  {
   "cell_type": "code",
   "execution_count": 2,
   "id": "51b872a7",
   "metadata": {},
   "outputs": [],
   "source": [
    "load_dotenv()\n",
    "os.environ[\"GROQ_API_KEY\"] = os.getenv(\"GROQ_API_KEY\")"
   ]
  },
  {
   "cell_type": "code",
   "execution_count": 3,
   "id": "f80410d6",
   "metadata": {},
   "outputs": [],
   "source": [
    "class SupervisorState(MessagesState):\n",
    "    \"\"\"State for the multi-agent\"\"\"\n",
    "    next_agent: str = \"\"\n",
    "    research_data: str = \"\"\n",
    "    analysis: str = \"\"\n",
    "    final_report: str = \"\"\n",
    "    task_complete: bool = False\n",
    "    current_task: str = \"\""
   ]
  },
  {
   "cell_type": "code",
   "execution_count": 4,
   "id": "302cc5fb",
   "metadata": {},
   "outputs": [],
   "source": [
    "llm = ChatGroq(model = \"llama-3.3-70b-versatile\")"
   ]
  },
  {
   "cell_type": "code",
   "execution_count": 5,
   "id": "f9d479a3",
   "metadata": {},
   "outputs": [],
   "source": [
    "def create_supervisor_chain():\n",
    "    \"\"\"Creates the supervisor decision chain\"\"\"\n",
    "    supervisor_prompt = ChatPromptTemplate.from_messages([\n",
    "        (\"system\", \"\"\"You are a supervisor managing a team of agents:\n",
    "\n",
    "1. Researcher - Gathers information and data\n",
    "2. Analyst - Analyzes data and provides insights\n",
    "3. Writer - Creates reports and summaries\n",
    "\n",
    "Based on the current state and conversation, decide which agent should work next.\n",
    "if the task is complete, respond with 'DONE'.\n",
    "\n",
    "Current state:\n",
    "- Has research data: {has_research}\n",
    "- Has analysis: {has_analysis}\n",
    "- Has report: {has_report}\n",
    "\n",
    "Respond with ONLY the agent name (researcher/analyst/writer) or 'DONE'.\n",
    "\"\"\"),\n",
    "        (\"human\", \"{task}\")\n",
    "    ])\n",
    "\n",
    "    return supervisor_prompt | llm\n"
   ]
  },
  {
   "cell_type": "code",
   "execution_count": 37,
   "id": "4b770ac4",
   "metadata": {},
   "outputs": [],
   "source": [
    "def supervisor_agent(state: SupervisorState) -> Dict:\n",
    "    \"\"\"Supervisor decides next agent using Groq LLM\"\"\"\n",
    "    messages = state[\"messages\"]\n",
    "    task = messages[-1].content if messages else \"No Task\"\n",
    "    \n",
    "    has_research = bool(state.get(\"research_data\", \"\"))\n",
    "    has_analysis = bool(state.get(\"analysis\", \"\"))\n",
    "    has_report = bool(state.get(\"final_report\", \"\"))\n",
    "\n",
    "    # In case no task is provided, default to 'research'\n",
    "    if not task:\n",
    "        task = \"research the topic\"\n",
    "\n",
    "    chain = create_supervisor_chain()\n",
    "    decision = chain.invoke({\n",
    "        \"task\": task,\n",
    "        \"has_research\": has_research,\n",
    "        \"has_analysis\": has_analysis,\n",
    "        \"has_report\": has_report\n",
    "    })\n",
    "\n",
    "    decision_text = decision.content.strip().lower()\n",
    "    print(f\"Supervisor decision: {decision_text}\")\n",
    "\n",
    "    if \"done\" in decision_text or has_report:\n",
    "        next_agent = \"end\"\n",
    "        supervisor_msg = \"Supervisor: All tasks complete! Great work team.\"\n",
    "    elif \"analyst\" in decision_text or (has_research and not has_analysis):\n",
    "        next_agent = \"analyst\"\n",
    "        supervisor_msg = \"Supervisor: Research done. Time for analysis. Assigning to Analyst...\"\n",
    "    elif \"writer\" in decision_text or (has_analysis and not has_report):\n",
    "        next_agent = \"writer\"\n",
    "        supervisor_msg = \"Supervisor: Analysis complete. Let's create the report. Assigning to Writer...\"\n",
    "    else:\n",
    "        next_agent = \"researcher\"\n",
    "        supervisor_msg = \"Supervisor: Starting with research. Assigning to Researcher...\"\n",
    "\n",
    "    return {\n",
    "        \"messages\": [AIMessage(content = supervisor_msg)],\n",
    "        \"next_agent\": next_agent,\n",
    "        \"current_task\": task\n",
    "    }\n"
   ]
  },
  {
   "cell_type": "code",
   "execution_count": 38,
   "id": "a24b5938",
   "metadata": {},
   "outputs": [],
   "source": [
    "def researcher_agent(state: SupervisorState) -> Dict:\n",
    "    \"\"\"Researcher uses Groq to gather information\"\"\"\n",
    "    task = state.get(\"current_task\", \"research topic\")\n",
    "    research_prompt = f\"\"\"As a research specialist, provide comprehensive information about: {task}\n",
    "\n",
    "    Included:\n",
    "    1. Key factes and background\n",
    "    2.Current trends or developments\n",
    "    3. Important statistics or data studies\n",
    "    4. Notable examples or case studies\n",
    "\n",
    "    Be concise but thorough.\"\"\"\n",
    "    \n",
    "    research_response = llm.invoke([HumanMessage(content = research_prompt)])\n",
    "    research_data = research_response.content\n",
    "\n",
    "    agent_message = f\"\"\"Researcher: I've completed the research on '{task}'. \\n\\nKey findings:\\n{research_data}\"\"\"\n",
    "    \n",
    "    return {\n",
    "        \"messages\": [AIMessage(content = agent_message)],\n",
    "        \"research_data\": research_data,\n",
    "        \"next_agent\": \"supervisor\"\n",
    "    }"
   ]
  },
  {
   "cell_type": "code",
   "execution_count": 39,
   "id": "cd5da71d",
   "metadata": {},
   "outputs": [],
   "source": [
    "def analyst_agent(state: SupervisorState) -> Dict:\n",
    "    \"\"\"Analyst uses Groq to analyze the research\"\"\"\n",
    "    research_data = state.get(\"research_data\", \"\")\n",
    "    task = state.get(\"current_task\", \"\")\n",
    "\n",
    "    analysis_prompt = f\"\"\"As a data analysis, analyze this research data and provide insights:\n",
    "\n",
    "Research Data:\n",
    "{research_data}\n",
    "\n",
    "Provide: \n",
    "1. Key insights and pattern\n",
    "2. Strategic implications\n",
    "3. Risks and opportunities\n",
    "4. Recommendations\n",
    "\n",
    "Focus on actionable insights related to: {task}\"\"\"\n",
    "    \n",
    "    analysis_response = llm.invoke([HumanMessage(content = analysis_prompt)])\n",
    "    analysis = analysis_response.content\n",
    "\n",
    "    agent_message = f\"Analyst: I've completed the analysis.\\n\\nTop insights:\\n{analysis[:400]}...\"\n",
    "\n",
    "    return {\n",
    "        \"messages\": [AIMessage(content = agent_message)],\n",
    "        \"analysis\": analysis,\n",
    "        \"next_agent\": \"supervisor\"\n",
    "    }"
   ]
  },
  {
   "cell_type": "code",
   "execution_count": 40,
   "id": "41c6a240",
   "metadata": {},
   "outputs": [],
   "source": [
    "def writer_agent(state: SupervisorState) -> Dict:\n",
    "    \"\"\"Writer uses Groq to create final report\"\"\"\n",
    "    research_data = state.get(\"research_data\", \"\")\n",
    "    analysis = state.get(\"analysis\", \"\")\n",
    "    task = state.get(\"current_task\", \"\")\n",
    "\n",
    "    writing_prompt = f\"\"\"As a professional writer, create an executive report based on:\n",
    "    \n",
    "Task: {task}\n",
    "\n",
    "Research Findings:\n",
    "{research_data[:1000]}\n",
    "\n",
    "Analysis:\n",
    "{analysis[:1000]}\n",
    "\n",
    "Create a well-structured report with:\n",
    "1. Executive Summary\n",
    "2. Key Findings\n",
    "3. Analysis & Insights\n",
    "4. Recommendations\n",
    "5. Conclusion\n",
    "\n",
    "Keep it professional and concise.\"\"\"\n",
    "\n",
    "    report_response = llm.invoke([HumanMessage(content = writing_prompt)])\n",
    "    report = report_response.content\n",
    "\n",
    "    final_report = f\"\"\"\n",
    "    FINAL REPORT\n",
    "{'='*50}\n",
    "Generated: {datetime.now().strftime('%Y-%m-%d %H:%M')}\n",
    "Topic: {task}\n",
    "{'='*50}\n",
    "\n",
    "{report}\n",
    "\n",
    "{'='*50}\n",
    "Report compiled by Multi-Agent AI System powered by Groq\n",
    "\"\"\"\n",
    "\n",
    "    return {\n",
    "        \"messages\": [AIMessage(content = f\"Writer: Report complete! See below for the full document.\")],\n",
    "        \"final_report\": final_report,\n",
    "        \"next_agent\": \"supervisor\",\n",
    "        \"task_complete\": True\n",
    "    }"
   ]
  },
  {
   "cell_type": "code",
   "execution_count": 41,
   "id": "d5a869f9",
   "metadata": {},
   "outputs": [],
   "source": [
    "def router(state: SupervisorState) -> Literal[\"supervisor\", \"researcher\", \"analyst\", \"writer\", \"__end__\"]:\n",
    "    \"\"\"Routes to next agent based on state\"\"\"\n",
    "    next_agent = state.get(\"next_agent\", \"supervisor\")\n",
    "    if next_agent == \"end\" or state.get(\"task_completed\", False):\n",
    "        return END\n",
    "    if next_agent in [\"supervisor\", \"researcher\", \"analyst\", \"writer\"]:\n",
    "        return next_agent\n",
    "    return \"supervisor\""
   ]
  },
  {
   "cell_type": "code",
   "execution_count": 42,
   "id": "402c216a",
   "metadata": {},
   "outputs": [],
   "source": [
    "workflow = StateGraph(SupervisorState)\n",
    "\n",
    "workflow.add_node(\"supervisor\", supervisor_agent)\n",
    "workflow.add_node(\"researcher\", researcher_agent)\n",
    "workflow.add_node(\"analyst\", analyst_agent)\n",
    "workflow.add_node(\"writer\", writer_agent)\n",
    "\n",
    "workflow.set_entry_point(\"supervisor\")\n",
    "\n",
    "for node in [\"supervisor\", \"researcher\", \"analyst\", \"writer\"]:\n",
    "    workflow.add_conditional_edges(\n",
    "        node,\n",
    "        router,\n",
    "        {\n",
    "            \"supervisor\": \"supervisor\",\n",
    "            \"researcher\": \"researcher\",\n",
    "            \"analyst\": \"analyst\",\n",
    "            \"writer\": \"writer\",\n",
    "            END: END\n",
    "        }\n",
    "    )\n",
    "\n",
    "graph = workflow.compile()"
   ]
  },
  {
   "cell_type": "code",
   "execution_count": 43,
   "id": "ef12b70e",
   "metadata": {},
   "outputs": [
    {
     "data": {
      "image/png": "[encoded data removed]",
      "text/plain": [
       "<langgraph.graph.state.CompiledStateGraph object at 0x0000015827C21CD0>"
      ]
     },
     "execution_count": 43,
     "metadata": {},
     "output_type": "execute_result"
    }
   ],
   "source": [
    "graph"
   ]
  },
  {
   "cell_type": "code",
   "execution_count": 45,
   "id": "a34d71b0",
   "metadata": {},
   "outputs": [
    {
     "name": "stdout",
     "output_type": "stream",
     "text": [
      "Supervisor decision: researcher\n",
      "Supervisor decision: analyst\n",
      "Supervisor decision: writer\n",
      "Supervisor decision: done\n"
     ]
    }
   ],
   "source": [
    "response = graph.invoke(HumanMessage(content = \"What are the benefits and risks of AI in healthcare?\"))"
   ]
  },
  {
   "cell_type": "code",
   "execution_count": 46,
   "id": "0872c147",
   "metadata": {},
   "outputs": [
    {
     "data": {
      "text/plain": [
       "{'messages': [AIMessage(content='Supervisor: Starting with research. Assigning to Researcher...', additional_kwargs={}, response_metadata={}, id='5bff2ffb-a7cf-447f-9875-2506d29f73e4'),\n",
       "  AIMessage(content=\"Researcher: I've completed the research on 'No Task'. \\n\\nKey findings:\\nSince there is no specific task provided, I will outline a general framework for a research report. \\n\\n### 1. Key Facts and Background\\n- **Definition and Purpose**: Typically, a task refers to a specific activity or piece of work to be done. Understanding the nature of tasks is crucial in various fields, including project management, psychology, and education.\\n- **Historical Context**: The concept of tasks has evolved over time, influenced by technological advancements, changes in workplace dynamics, and shifts in educational methodologies.\\n- **Relevance**: Tasks are fundamental in achieving goals, whether personal, academic, or professional, making their management and completion critical for success.\\n\\n### 2. Current Trends or Developments\\n- **Digital Task Management**: The rise of digital tools and platforms has significantly impacted how tasks are managed. Apps and software like Trello, Asana, and Todoist have become essential for organizing and prioritizing tasks.\\n- **Remote Work**: The shift towards remote work, accelerated by the COVID-19 pandemic, has highlighted the importance of effective task management in distributed teams.\\n- **Artificial Intelligence (AI) and Automation**: AI is increasingly being used to automate repetitive tasks, freeing up time for more complex and creative work.\\n\\n### 3. Important Statistics or Data Studies\\n- **Productivity**: Studies have shown that effective task management can increase productivity by up to 30%. (Source: Harvard Business Review)\\n- **Task Management Tools**: Over 75% of teams use some form of project management tool, indicating a high reliance on digital solutions for task organization. (Source: PMI)\\n- **Remote Work Efficiency**: 77% of remote workers report higher productivity when working from home, partly due to better task management. (Source: Stanford University)\\n\\n### 4. Notable Examples or Case Studies\\n- **Google’s 20% Time**: Google’s policy of allowing employees to dedicate 20% of their work time to side projects is a notable example of task management leading to innovation. This policy led to the development of Gmail and Google Maps.\\n- **Agile Methodology in Software Development**: The use of agile methodologies in software development is a case study in adaptive task management, emphasizing flexibility and rapid iteration.\\n- **Educational Task Management**: Implementing task management skills in educational settings, such as the use of planners and digital calendars, has been shown to improve student organization and time management skills.\\n\\nIn conclusion, while the request did not specify a particular task, understanding the principles of task management is vital across various sectors. Effective task management can lead to increased productivity, better time allocation, and ultimately, the successful completion of projects and goals.\", additional_kwargs={}, response_metadata={}, id='67df8cb7-62b2-4b2f-a755-5da99c9012e6'),\n",
       "  AIMessage(content='Supervisor: Research done. Time for analysis. Assigning to Analyst...', additional_kwargs={}, response_metadata={}, id='3bc8c2e8-1301-4d7c-829e-0dc67d731cf7'),\n",
       "  AIMessage(content=\"Analyst: I've completed the analysis.\\n\\nTop insights:\\n### 1. Key Insights and Patterns\\n\\n- **Digital Transformation**: The rise of digital task management tools and the shift towards remote work underscore the importance of adapting to technological advancements in managing tasks effectively.\\n- **Productivity Enhancement**: Effective task management is directly linked to increased productivity, with studies indicating up to a 30% increase in productiv...\", additional_kwargs={}, response_metadata={}, id='1578a4c0-4d79-46d0-8714-2102152161a0'),\n",
       "  AIMessage(content=\"Supervisor: Analysis complete. Let's create the report. Assigning to Writer...\", additional_kwargs={}, response_metadata={}, id='1723f1bc-67dd-45b4-86d6-345052fca149'),\n",
       "  AIMessage(content='Writer: Report complete! See below for the full document.', additional_kwargs={}, response_metadata={}, id='74f8c364-d7fa-4b5a-8917-125926239db0'),\n",
       "  AIMessage(content='Supervisor: All tasks complete! Great work team.', additional_kwargs={}, response_metadata={}, id='2728067a-9b18-4611-ae12-f22e9ff9ea33')],\n",
       " 'next_agent': 'end',\n",
       " 'research_data': 'Since there is no specific task provided, I will outline a general framework for a research report. \\n\\n### 1. Key Facts and Background\\n- **Definition and Purpose**: Typically, a task refers to a specific activity or piece of work to be done. Understanding the nature of tasks is crucial in various fields, including project management, psychology, and education.\\n- **Historical Context**: The concept of tasks has evolved over time, influenced by technological advancements, changes in workplace dynamics, and shifts in educational methodologies.\\n- **Relevance**: Tasks are fundamental in achieving goals, whether personal, academic, or professional, making their management and completion critical for success.\\n\\n### 2. Current Trends or Developments\\n- **Digital Task Management**: The rise of digital tools and platforms has significantly impacted how tasks are managed. Apps and software like Trello, Asana, and Todoist have become essential for organizing and prioritizing tasks.\\n- **Remote Work**: The shift towards remote work, accelerated by the COVID-19 pandemic, has highlighted the importance of effective task management in distributed teams.\\n- **Artificial Intelligence (AI) and Automation**: AI is increasingly being used to automate repetitive tasks, freeing up time for more complex and creative work.\\n\\n### 3. Important Statistics or Data Studies\\n- **Productivity**: Studies have shown that effective task management can increase productivity by up to 30%. (Source: Harvard Business Review)\\n- **Task Management Tools**: Over 75% of teams use some form of project management tool, indicating a high reliance on digital solutions for task organization. (Source: PMI)\\n- **Remote Work Efficiency**: 77% of remote workers report higher productivity when working from home, partly due to better task management. (Source: Stanford University)\\n\\n### 4. Notable Examples or Case Studies\\n- **Google’s 20% Time**: Google’s policy of allowing employees to dedicate 20% of their work time to side projects is a notable example of task management leading to innovation. This policy led to the development of Gmail and Google Maps.\\n- **Agile Methodology in Software Development**: The use of agile methodologies in software development is a case study in adaptive task management, emphasizing flexibility and rapid iteration.\\n- **Educational Task Management**: Implementing task management skills in educational settings, such as the use of planners and digital calendars, has been shown to improve student organization and time management skills.\\n\\nIn conclusion, while the request did not specify a particular task, understanding the principles of task management is vital across various sectors. Effective task management can lead to increased productivity, better time allocation, and ultimately, the successful completion of projects and goals.',\n",
       " 'analysis': '### 1. Key Insights and Patterns\\n\\n- **Digital Transformation**: The rise of digital task management tools and the shift towards remote work underscore the importance of adapting to technological advancements in managing tasks effectively.\\n- **Productivity Enhancement**: Effective task management is directly linked to increased productivity, with studies indicating up to a 30% increase in productivity when tasks are managed well.\\n- **Adaptability and Innovation**: Case studies like Google’s 20% Time policy and the use of agile methodologies in software development highlight the value of flexible and innovative approaches to task management.\\n- **Educational Implications**: Implementing task management skills in educational settings can improve student organization and time management, suggesting a lifelong benefit of learning these skills early.\\n\\n### 2. Strategic Implications\\n\\n- **Investment in Digital Tools**: Organizations should consider investing in digital task management tools to enhance productivity and adapt to the remote work paradigm.\\n- **Training and Development**: Providing training on effective task management and the use of digital tools can significantly benefit both employees and organizations, leading to better productivity and job satisfaction.\\n- **Flexible Work Policies**: Adopting flexible work policies, similar to Google’s 20% Time, can foster innovation and employee satisfaction, potentially leading to groundbreaking developments.\\n- **Integration with Educational Curriculum**: Educational institutions should integrate task management skills into their curriculum to equip students with essential life skills.\\n\\n### 3. Risks and Opportunities\\n\\n- **Risk of Overreliance on Technology**: There is a risk that overreliance on digital tools for task management could lead to decreased face-to-face interaction and deepened digital divides among teams.\\n- **Opportunity for Increased Accessibility**: Digital task management tools can increase accessibility for remote or disabled workers, providing equal opportunities for participation and contribution.\\n- **Risk of Information Overload**: The use of multiple digital tools can lead to information overload, necessitating strategies for tool integration and simplicity.\\n- **Opportunity for Personalized Learning**: Educational task management can be tailored to individual learning styles, potentially leading to better academic outcomes.\\n\\n### 4. Recommendations\\n\\n- **Conduct Needs Assessment**: Organizations should conduct a needs assessment to identify the most suitable digital task management tools for their specific requirements.\\n- **Develop Comprehensive Training Programs**: Develop training programs that not only focus on the use of digital tools but also on the principles of effective task management and time allocation.\\n- **Monitor and Evaluate**: Regularly monitor the effectiveness of task management strategies and tools, making adjustments as necessary to optimize productivity and job satisfaction.\\n- **Promote Flexibility and Adaptability**: Encourage a culture of flexibility and adaptability within organizations, allowing for innovative approaches to task management and problem-solving.\\n\\nBy focusing on these insights, implications, risks, and opportunities, individuals and organizations can harness the power of effective task management to achieve their goals, enhance productivity, and foster innovation.',\n",
       " 'final_report': \"\\n    FINAL REPORT\\n==================================================\\nGenerated: 2025-10-08 02:25\\nTopic: Analyst: I've completed the analysis.\\n\\nTop insights:\\n### 1. Key Insights and Patterns\\n\\n- **Digital Transformation**: The rise of digital task management tools and the shift towards remote work underscore the importance of adapting to technological advancements in managing tasks effectively.\\n- **Productivity Enhancement**: Effective task management is directly linked to increased productivity, with studies indicating up to a 30% increase in productiv...\\n==================================================\\n\\n**Executive Report: Task Management Analysis**\\n\\n### 1. Executive Summary\\nThis report presents the findings of an analysis on task management, highlighting the importance of adapting to technological advancements, enhancing productivity, and promoting adaptability and innovation. The rise of digital task management tools and the shift towards remote work underscore the need for effective task management strategies. Our analysis reveals that effective task management can lead to up to a 30% increase in productivity, making it a critical component of personal, academic, and professional success.\\n\\n### 2. Key Findings\\nOur research identified the following key facts and trends:\\n- The concept of tasks has evolved over time, influenced by technological advancements and changes in workplace dynamics.\\n- Digital task management tools, such as Trello, Asana, and Todoist, have become essential for organizing and prioritizing tasks.\\n- Remote work has become increasingly prevalent, necessitating the use of digital tools for task management.\\n- Effective task management is directly linked to increased productivity, with potential gains of up to 30%.\\n\\n### 3. Analysis & Insights\\nOur analysis revealed several key insights and patterns:\\n- **Digital Transformation**: The rise of digital task management tools and remote work underscores the importance of adapting to technological advancements.\\n- **Productivity Enhancement**: Effective task management is directly linked to increased productivity, with potential gains of up to 30%.\\n- **Adaptability and Innovation**: Flexible and innovative approaches to task management, such as Google's 20% Time policy and agile methodologies, can drive success.\\n- **Educational Implications**: Implementing task management skills in educational settings can improve student organization and time management, suggesting a lifelong benefit.\\n\\n### 4. Recommendations\\nBased on our analysis, we recommend the following:\\n- **Invest in Digital Tools**: Organizations should consider investing in digital task management tools to enhance productivity and adapt to technological advancements.\\n- **Develop Flexible Work Arrangements**: Companies should consider implementing flexible work arrangements, such as remote work options, to accommodate changing workplace dynamics.\\n- **Integrate Task Management into Education**: Educational institutions should incorporate task management skills into their curricula to promote lifelong benefits.\\n- **Encourage Innovation and Adaptability**: Organizations should foster a culture of innovation and adaptability, encouraging employees to experiment with new approaches to task management.\\n\\n### 5. Conclusion\\nEffective task management is critical for achieving success in various fields, including project management, psychology, and education. By adapting to technological advancements, enhancing productivity, and promoting adaptability and innovation, individuals and organizations can unlock their full potential. We believe that our recommendations will provide a foundation for improving task management practices, leading to increased productivity and success.\\n\\n==================================================\\nReport compiled by Multi-Agent AI System powered by Groq\\n\",\n",
       " 'task_complete': True,\n",
       " 'current_task': 'Writer: Report complete! See below for the full document.'}"
      ]
     },
     "execution_count": 46,
     "metadata": {},
     "output_type": "execute_result"
    }
   ],
   "source": [
    "response"
   ]
  },
  {
   "cell_type": "code",
   "execution_count": 47,
   "id": "92a974f6",
   "metadata": {},
   "outputs": [
    {
     "name": "stdout",
     "output_type": "stream",
     "text": [
      "\n",
      "    FINAL REPORT\n",
      "==================================================\n",
      "Generated: 2025-10-08 02:25\n",
      "Topic: Analyst: I've completed the analysis.\n",
      "\n",
      "Top insights:\n",
      "### 1. Key Insights and Patterns\n",
      "\n",
      "- **Digital Transformation**: The rise of digital task management tools and the shift towards remote work underscore the importance of adapting to technological advancements in managing tasks effectively.\n",
      "- **Productivity Enhancement**: Effective task management is directly linked to increased productivity, with studies indicating up to a 30% increase in productiv...\n",
      "==================================================\n",
      "\n",
      "**Executive Report: Task Management Analysis**\n",
      "\n",
      "### 1. Executive Summary\n",
      "This report presents the findings of an analysis on task management, highlighting the importance of adapting to technological advancements, enhancing productivity, and promoting adaptability and innovation. The rise of digital task management tools and the shift towards remote work underscore the need for effective task management strategies. Our analysis reveals that effective task management can lead to up to a 30% increase in productivity, making it a critical component of personal, academic, and professional success.\n",
      "\n",
      "### 2. Key Findings\n",
      "Our research identified the following key facts and trends:\n",
      "- The concept of tasks has evolved over time, influenced by technological advancements and changes in workplace dynamics.\n",
      "- Digital task management tools, such as Trello, Asana, and Todoist, have become essential for organizing and prioritizing tasks.\n",
      "- Remote work has become increasingly prevalent, necessitating the use of digital tools for task management.\n",
      "- Effective task management is directly linked to increased productivity, with potential gains of up to 30%.\n",
      "\n",
      "### 3. Analysis & Insights\n",
      "Our analysis revealed several key insights and patterns:\n",
      "- **Digital Transformation**: The rise of digital task management tools and remote work underscores the importance of adapting to technological advancements.\n",
      "- **Productivity Enhancement**: Effective task management is directly linked to increased productivity, with potential gains of up to 30%.\n",
      "- **Adaptability and Innovation**: Flexible and innovative approaches to task management, such as Google's 20% Time policy and agile methodologies, can drive success.\n",
      "- **Educational Implications**: Implementing task management skills in educational settings can improve student organization and time management, suggesting a lifelong benefit.\n",
      "\n",
      "### 4. Recommendations\n",
      "Based on our analysis, we recommend the following:\n",
      "- **Invest in Digital Tools**: Organizations should consider investing in digital task management tools to enhance productivity and adapt to technological advancements.\n",
      "- **Develop Flexible Work Arrangements**: Companies should consider implementing flexible work arrangements, such as remote work options, to accommodate changing workplace dynamics.\n",
      "- **Integrate Task Management into Education**: Educational institutions should incorporate task management skills into their curricula to promote lifelong benefits.\n",
      "- **Encourage Innovation and Adaptability**: Organizations should foster a culture of innovation and adaptability, encouraging employees to experiment with new approaches to task management.\n",
      "\n",
      "### 5. Conclusion\n",
      "Effective task management is critical for achieving success in various fields, including project management, psychology, and education. By adapting to technological advancements, enhancing productivity, and promoting adaptability and innovation, individuals and organizations can unlock their full potential. We believe that our recommendations will provide a foundation for improving task management practices, leading to increased productivity and success.\n",
      "\n",
      "==================================================\n",
      "Report compiled by Multi-Agent AI System powered by Groq\n",
      "\n"
     ]
    }
   ],
   "source": [
    "print(response[\"final_report\"])"
   ]
  }
 ],
 "metadata": {
  "kernelspec": {
   "display_name": "Python 3",
   "language": "python",
   "name": "python3"
  },
  "language_info": {
   "codemirror_mode": {
    "name": "ipython",
    "version": 3
   },
   "file_extension": ".py",
   "mimetype": "text/x-python",
   "name": "python",
   "nbconvert_exporter": "python",
   "pygments_lexer": "ipython3",
   "version": "3.11.13"
  }
 },
 "nbformat": 4,
 "nbformat_minor": 5
}
