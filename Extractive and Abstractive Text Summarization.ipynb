{
 "cells": [
  {
   "cell_type": "code",
   "execution_count": 82,
   "id": "1ec7efc4",
   "metadata": {},
   "outputs": [],
   "source": [
    "import spacy\n",
    "from spacy.lang.en.stop_words import STOP_WORDS\n",
    "from string import punctuation\n",
    "from collections import Counter\n",
    "import pandas as pd\n",
    "from heapq import nlargest\n",
    "from transformers import pipeline"
   ]
  },
  {
   "cell_type": "markdown",
   "id": "cbea6296",
   "metadata": {},
   "source": [
    "# Extractive Text Summarization"
   ]
  },
  {
   "cell_type": "code",
   "execution_count": 17,
   "id": "e3ac3f72",
   "metadata": {},
   "outputs": [],
   "source": [
    "text = \"\"\"keen young bachelor had finished his studies at the university. As soon as he had received his diploma, he asserted to everyone he met that he was the smartest person in town. “I excel at everything I study,” he said, bragging about his knowledge. “I’ve mastered calculus and physiology. I even understand the great theoretical teachings of science, such as relativity. There is nothing that I don’t know. Whether it’s the movements of celestial objects, like planets and stars, or how to harness the power of radioactive substances, I know everything.” But actually, there was something the bachelor did not know. Though his analytic abilities were great, he failed to notice he was missing something very important in his life. One day while walking through town, the bachelor witnessed a collision between two cars. Both drivers appeared to be injured, but the scholar only stood and watched. He thought to himself, “Those idiots should have been more alert. They really must not be very competent.” He never thought the drivers needed help. “Please help me,” said the female driver in a weak voice. “Help me, too,” said the male driver. “I’m hurt and can’t move.” Suddenly the bachelor realized he was the only person near the accident. He quit thinking and ran to help the drivers. He carefully helped them out of their vehicles and then called an ambulance. The drivers were saved, and the bachelor felt the best he had in his entire life. Studying mythology, sociology, and geology didn’t give him this wonderful feeling. It was the act of helping others, not his cognitive skills, that gave him this great feeling. He had learned an important lesson. He learned that intellect isn’t everything; being helpful is just as important. “Having only a brain is not enough,” he thought. “You must also have a heart.”\"\"\""
   ]
  },
  {
   "cell_type": "code",
   "execution_count": 18,
   "id": "4f51f4ef",
   "metadata": {},
   "outputs": [
    {
     "data": {
      "text/plain": [
       "1817"
      ]
     },
     "execution_count": 18,
     "metadata": {},
     "output_type": "execute_result"
    }
   ],
   "source": [
    "len(text)"
   ]
  },
  {
   "cell_type": "code",
   "execution_count": 19,
   "id": "94c38aba",
   "metadata": {},
   "outputs": [],
   "source": [
    "nlp = spacy.load('en_core_web_sm')"
   ]
  },
  {
   "cell_type": "code",
   "execution_count": 20,
   "id": "06380095",
   "metadata": {},
   "outputs": [],
   "source": [
    "doc = nlp(text)"
   ]
  },
  {
   "cell_type": "code",
   "execution_count": 21,
   "id": "b5c4f78c",
   "metadata": {},
   "outputs": [],
   "source": [
    "tokens = [token.text.lower() for token in doc\n",
    "         if not token.is_stop and \n",
    "          not token.is_punct and\n",
    "         token.text != '\\n']"
   ]
  },
  {
   "cell_type": "code",
   "execution_count": 24,
   "id": "a65afe09",
   "metadata": {},
   "outputs": [
    {
     "data": {
      "text/plain": [
       "['keen',\n",
       " 'young',\n",
       " 'bachelor',\n",
       " 'finished',\n",
       " 'studies',\n",
       " 'university',\n",
       " 'soon',\n",
       " 'received',\n",
       " 'diploma',\n",
       " 'asserted',\n",
       " 'met',\n",
       " 'smartest',\n",
       " 'person',\n",
       " 'town',\n",
       " 'excel',\n",
       " 'study',\n",
       " 'said',\n",
       " 'bragging',\n",
       " 'knowledge',\n",
       " 'mastered']"
      ]
     },
     "execution_count": 24,
     "metadata": {},
     "output_type": "execute_result"
    }
   ],
   "source": [
    "tokens[:20]"
   ]
  },
  {
   "cell_type": "code",
   "execution_count": 25,
   "id": "cb03b275",
   "metadata": {},
   "outputs": [],
   "source": [
    "tokens1 = []\n",
    "stopwords = list(STOP_WORDS)\n",
    "allowed_pos = ['ADJ', 'PROPN', 'VERB', 'NOUN']\n",
    "for token in doc:\n",
    "    if token.text in stopwords or token.text in punctuation:\n",
    "        continue\n",
    "    if token.pos_ in allowed_pos:\n",
    "        tokens1.append(token.text)"
   ]
  },
  {
   "cell_type": "code",
   "execution_count": 26,
   "id": "1a7ae1f0",
   "metadata": {},
   "outputs": [
    {
     "data": {
      "text/plain": [
       "['keen',\n",
       " 'young',\n",
       " 'bachelor',\n",
       " 'finished',\n",
       " 'studies',\n",
       " 'university',\n",
       " 'received',\n",
       " 'diploma',\n",
       " 'asserted',\n",
       " 'met',\n",
       " 'smartest',\n",
       " 'person',\n",
       " 'town',\n",
       " 'excel',\n",
       " 'study',\n",
       " 'said',\n",
       " 'bragging',\n",
       " 'knowledge',\n",
       " 'mastered',\n",
       " 'calculus']"
      ]
     },
     "execution_count": 26,
     "metadata": {},
     "output_type": "execute_result"
    }
   ],
   "source": [
    "tokens1[:20]"
   ]
  },
  {
   "cell_type": "code",
   "execution_count": 28,
   "id": "b86da5e3",
   "metadata": {},
   "outputs": [],
   "source": [
    "word_freq = Counter(tokens)"
   ]
  },
  {
   "cell_type": "code",
   "execution_count": 33,
   "id": "3d341a16",
   "metadata": {},
   "outputs": [
    {
     "data": {
      "text/plain": [
       "Counter({'keen': 1,\n",
       "         'young': 1,\n",
       "         'bachelor': 5,\n",
       "         'finished': 1,\n",
       "         'studies': 1,\n",
       "         'university': 1,\n",
       "         'soon': 1,\n",
       "         'received': 1,\n",
       "         'diploma': 1,\n",
       "         'asserted': 1,\n",
       "         'met': 1,\n",
       "         'smartest': 1,\n",
       "         'person': 2,\n",
       "         'town': 2,\n",
       "         'excel': 1,\n",
       "         'study': 1,\n",
       "         'said': 3,\n",
       "         'bragging': 1,\n",
       "         'knowledge': 1,\n",
       "         'mastered': 1,\n",
       "         'calculus': 1,\n",
       "         'physiology': 1,\n",
       "         'understand': 1,\n",
       "         'great': 3,\n",
       "         'theoretical': 1,\n",
       "         'teachings': 1,\n",
       "         'science': 1,\n",
       "         'relativity': 1,\n",
       "         'know': 3,\n",
       "         'movements': 1,\n",
       "         'celestial': 1,\n",
       "         'objects': 1,\n",
       "         'like': 1,\n",
       "         'planets': 1,\n",
       "         'stars': 1,\n",
       "         'harness': 1,\n",
       "         'power': 1,\n",
       "         'radioactive': 1,\n",
       "         'substances': 1,\n",
       "         'actually': 1,\n",
       "         'analytic': 1,\n",
       "         'abilities': 1,\n",
       "         'failed': 1,\n",
       "         'notice': 1,\n",
       "         'missing': 1,\n",
       "         'important': 3,\n",
       "         'life': 2,\n",
       "         'day': 1,\n",
       "         'walking': 1,\n",
       "         'witnessed': 1,\n",
       "         'collision': 1,\n",
       "         'cars': 1,\n",
       "         'drivers': 4,\n",
       "         'appeared': 1,\n",
       "         'injured': 1,\n",
       "         'scholar': 1,\n",
       "         'stood': 1,\n",
       "         'watched': 1,\n",
       "         'thought': 3,\n",
       "         'idiots': 1,\n",
       "         'alert': 1,\n",
       "         'competent': 1,\n",
       "         'needed': 1,\n",
       "         'help': 4,\n",
       "         'female': 1,\n",
       "         'driver': 2,\n",
       "         'weak': 1,\n",
       "         'voice': 1,\n",
       "         'male': 1,\n",
       "         'hurt': 1,\n",
       "         'suddenly': 1,\n",
       "         'realized': 1,\n",
       "         'near': 1,\n",
       "         'accident': 1,\n",
       "         'quit': 1,\n",
       "         'thinking': 1,\n",
       "         'ran': 1,\n",
       "         'carefully': 1,\n",
       "         'helped': 1,\n",
       "         'vehicles': 1,\n",
       "         'called': 1,\n",
       "         'ambulance': 1,\n",
       "         'saved': 1,\n",
       "         'felt': 1,\n",
       "         'best': 1,\n",
       "         'entire': 1,\n",
       "         'studying': 1,\n",
       "         'mythology': 1,\n",
       "         'sociology': 1,\n",
       "         'geology': 1,\n",
       "         'wonderful': 1,\n",
       "         'feeling': 2,\n",
       "         'act': 1,\n",
       "         'helping': 1,\n",
       "         'cognitive': 1,\n",
       "         'skills': 1,\n",
       "         'gave': 1,\n",
       "         'learned': 2,\n",
       "         'lesson': 1,\n",
       "         'intellect': 1,\n",
       "         'helpful': 1,\n",
       "         'having': 1,\n",
       "         'brain': 1,\n",
       "         'heart': 1})"
      ]
     },
     "execution_count": 33,
     "metadata": {},
     "output_type": "execute_result"
    }
   ],
   "source": [
    "word_freq"
   ]
  },
  {
   "cell_type": "code",
   "execution_count": 35,
   "id": "d9a8bfab",
   "metadata": {},
   "outputs": [],
   "source": [
    "max_freq = max(word_freq.values())"
   ]
  },
  {
   "cell_type": "code",
   "execution_count": 36,
   "id": "a6e73e49",
   "metadata": {},
   "outputs": [
    {
     "data": {
      "text/plain": [
       "5"
      ]
     },
     "execution_count": 36,
     "metadata": {},
     "output_type": "execute_result"
    }
   ],
   "source": [
    "max_freq"
   ]
  },
  {
   "cell_type": "code",
   "execution_count": 37,
   "id": "6e28e12b",
   "metadata": {},
   "outputs": [],
   "source": [
    "for word in word_freq.keys():\n",
    "    word_freq[word] = word_freq[word] / max_freq"
   ]
  },
  {
   "cell_type": "code",
   "execution_count": 38,
   "id": "e80d4762",
   "metadata": {},
   "outputs": [
    {
     "data": {
      "text/plain": [
       "Counter({'keen': 0.2,\n",
       "         'young': 0.2,\n",
       "         'bachelor': 1.0,\n",
       "         'finished': 0.2,\n",
       "         'studies': 0.2,\n",
       "         'university': 0.2,\n",
       "         'soon': 0.2,\n",
       "         'received': 0.2,\n",
       "         'diploma': 0.2,\n",
       "         'asserted': 0.2,\n",
       "         'met': 0.2,\n",
       "         'smartest': 0.2,\n",
       "         'person': 0.4,\n",
       "         'town': 0.4,\n",
       "         'excel': 0.2,\n",
       "         'study': 0.2,\n",
       "         'said': 0.6,\n",
       "         'bragging': 0.2,\n",
       "         'knowledge': 0.2,\n",
       "         'mastered': 0.2,\n",
       "         'calculus': 0.2,\n",
       "         'physiology': 0.2,\n",
       "         'understand': 0.2,\n",
       "         'great': 0.6,\n",
       "         'theoretical': 0.2,\n",
       "         'teachings': 0.2,\n",
       "         'science': 0.2,\n",
       "         'relativity': 0.2,\n",
       "         'know': 0.6,\n",
       "         'movements': 0.2,\n",
       "         'celestial': 0.2,\n",
       "         'objects': 0.2,\n",
       "         'like': 0.2,\n",
       "         'planets': 0.2,\n",
       "         'stars': 0.2,\n",
       "         'harness': 0.2,\n",
       "         'power': 0.2,\n",
       "         'radioactive': 0.2,\n",
       "         'substances': 0.2,\n",
       "         'actually': 0.2,\n",
       "         'analytic': 0.2,\n",
       "         'abilities': 0.2,\n",
       "         'failed': 0.2,\n",
       "         'notice': 0.2,\n",
       "         'missing': 0.2,\n",
       "         'important': 0.6,\n",
       "         'life': 0.4,\n",
       "         'day': 0.2,\n",
       "         'walking': 0.2,\n",
       "         'witnessed': 0.2,\n",
       "         'collision': 0.2,\n",
       "         'cars': 0.2,\n",
       "         'drivers': 0.8,\n",
       "         'appeared': 0.2,\n",
       "         'injured': 0.2,\n",
       "         'scholar': 0.2,\n",
       "         'stood': 0.2,\n",
       "         'watched': 0.2,\n",
       "         'thought': 0.6,\n",
       "         'idiots': 0.2,\n",
       "         'alert': 0.2,\n",
       "         'competent': 0.2,\n",
       "         'needed': 0.2,\n",
       "         'help': 0.8,\n",
       "         'female': 0.2,\n",
       "         'driver': 0.4,\n",
       "         'weak': 0.2,\n",
       "         'voice': 0.2,\n",
       "         'male': 0.2,\n",
       "         'hurt': 0.2,\n",
       "         'suddenly': 0.2,\n",
       "         'realized': 0.2,\n",
       "         'near': 0.2,\n",
       "         'accident': 0.2,\n",
       "         'quit': 0.2,\n",
       "         'thinking': 0.2,\n",
       "         'ran': 0.2,\n",
       "         'carefully': 0.2,\n",
       "         'helped': 0.2,\n",
       "         'vehicles': 0.2,\n",
       "         'called': 0.2,\n",
       "         'ambulance': 0.2,\n",
       "         'saved': 0.2,\n",
       "         'felt': 0.2,\n",
       "         'best': 0.2,\n",
       "         'entire': 0.2,\n",
       "         'studying': 0.2,\n",
       "         'mythology': 0.2,\n",
       "         'sociology': 0.2,\n",
       "         'geology': 0.2,\n",
       "         'wonderful': 0.2,\n",
       "         'feeling': 0.4,\n",
       "         'act': 0.2,\n",
       "         'helping': 0.2,\n",
       "         'cognitive': 0.2,\n",
       "         'skills': 0.2,\n",
       "         'gave': 0.2,\n",
       "         'learned': 0.4,\n",
       "         'lesson': 0.2,\n",
       "         'intellect': 0.2,\n",
       "         'helpful': 0.2,\n",
       "         'having': 0.2,\n",
       "         'brain': 0.2,\n",
       "         'heart': 0.2})"
      ]
     },
     "execution_count": 38,
     "metadata": {},
     "output_type": "execute_result"
    }
   ],
   "source": [
    "word_freq"
   ]
  },
  {
   "cell_type": "code",
   "execution_count": 40,
   "id": "bc28f5d8",
   "metadata": {},
   "outputs": [],
   "source": [
    "sent_token = [sent.text for sent in doc.sents]"
   ]
  },
  {
   "cell_type": "code",
   "execution_count": 41,
   "id": "7f0ea673",
   "metadata": {},
   "outputs": [
    {
     "data": {
      "text/plain": [
       "['keen young bachelor had finished his studies at the university.',\n",
       " 'As soon as he had received his diploma, he asserted to everyone he met that he was the smartest person in town.',\n",
       " '“I excel at everything I study,” he said, bragging about his knowledge.',\n",
       " '“I’ve mastered calculus and physiology.',\n",
       " 'I even understand the great theoretical teachings of science, such as relativity.',\n",
       " 'There is nothing that I don’t know.',\n",
       " 'Whether it’s the movements of celestial objects, like planets and stars, or how to harness the power of radioactive substances, I know everything.”',\n",
       " 'But actually, there was something the bachelor did not know.',\n",
       " 'Though his analytic abilities were great, he failed to notice he was missing something very important in his life.',\n",
       " 'One day while walking through town, the bachelor witnessed a collision between two cars.',\n",
       " 'Both drivers appeared to be injured, but the scholar only stood and watched.',\n",
       " 'He thought to himself, “Those idiots should have been more alert.',\n",
       " 'They really must not be very competent.”',\n",
       " 'He never thought the drivers needed help.',\n",
       " '“Please help me,” said the female driver in a weak voice.',\n",
       " '“Help me, too,” said the male driver.',\n",
       " '“I’m hurt and can’t move.”',\n",
       " 'Suddenly the bachelor realized he was the only person near the accident.',\n",
       " 'He quit thinking and ran to help the drivers.',\n",
       " 'He carefully helped them out of their vehicles and then called an ambulance.',\n",
       " 'The drivers were saved, and the bachelor felt the best he had in his entire life.',\n",
       " 'Studying mythology, sociology, and geology didn’t give him this wonderful feeling.',\n",
       " 'It was the act of helping others, not his cognitive skills, that gave him this great feeling.',\n",
       " 'He had learned an important lesson.',\n",
       " 'He learned that intellect isn’t everything; being helpful is just as important.',\n",
       " '“Having only a brain is not enough,” he thought.',\n",
       " '“You must also have a heart.”']"
      ]
     },
     "execution_count": 41,
     "metadata": {},
     "output_type": "execute_result"
    }
   ],
   "source": [
    "sent_token"
   ]
  },
  {
   "cell_type": "code",
   "execution_count": 43,
   "id": "9bd89835",
   "metadata": {
    "scrolled": false
   },
   "outputs": [
    {
     "name": "stdout",
     "output_type": "stream",
     "text": [
      "keen\n",
      "young\n",
      "bachelor\n",
      "had\n",
      "finished\n",
      "his\n",
      "studies\n",
      "at\n",
      "the\n",
      "university.\n",
      "As\n",
      "soon\n",
      "as\n",
      "he\n",
      "had\n",
      "received\n",
      "his\n",
      "diploma,\n",
      "he\n",
      "asserted\n",
      "to\n",
      "everyone\n",
      "he\n",
      "met\n",
      "that\n",
      "he\n",
      "was\n",
      "the\n",
      "smartest\n",
      "person\n",
      "in\n",
      "town.\n",
      "“I\n",
      "excel\n",
      "at\n",
      "everything\n",
      "I\n",
      "study,”\n",
      "he\n",
      "said,\n",
      "bragging\n",
      "about\n",
      "his\n",
      "knowledge.\n",
      "“I’ve\n",
      "mastered\n",
      "calculus\n",
      "and\n",
      "physiology.\n",
      "I\n",
      "even\n",
      "understand\n",
      "the\n",
      "great\n",
      "theoretical\n",
      "teachings\n",
      "of\n",
      "science,\n",
      "such\n",
      "as\n",
      "relativity.\n",
      "There\n",
      "is\n",
      "nothing\n",
      "that\n",
      "I\n",
      "don’t\n",
      "know.\n",
      "Whether\n",
      "it’s\n",
      "the\n",
      "movements\n",
      "of\n",
      "celestial\n",
      "objects,\n",
      "like\n",
      "planets\n",
      "and\n",
      "stars,\n",
      "or\n",
      "how\n",
      "to\n",
      "harness\n",
      "the\n",
      "power\n",
      "of\n",
      "radioactive\n",
      "substances,\n",
      "I\n",
      "know\n",
      "everything.”\n",
      "But\n",
      "actually,\n",
      "there\n",
      "was\n",
      "something\n",
      "the\n",
      "bachelor\n",
      "did\n",
      "not\n",
      "know.\n",
      "Though\n",
      "his\n",
      "analytic\n",
      "abilities\n",
      "were\n",
      "great,\n",
      "he\n",
      "failed\n",
      "to\n",
      "notice\n",
      "he\n",
      "was\n",
      "missing\n",
      "something\n",
      "very\n",
      "important\n",
      "in\n",
      "his\n",
      "life.\n",
      "One\n",
      "day\n",
      "while\n",
      "walking\n",
      "through\n",
      "town,\n",
      "the\n",
      "bachelor\n",
      "witnessed\n",
      "a\n",
      "collision\n",
      "between\n",
      "two\n",
      "cars.\n",
      "Both\n",
      "drivers\n",
      "appeared\n",
      "to\n",
      "be\n",
      "injured,\n",
      "but\n",
      "the\n",
      "scholar\n",
      "only\n",
      "stood\n",
      "and\n",
      "watched.\n",
      "He\n",
      "thought\n",
      "to\n",
      "himself,\n",
      "“Those\n",
      "idiots\n",
      "should\n",
      "have\n",
      "been\n",
      "more\n",
      "alert.\n",
      "They\n",
      "really\n",
      "must\n",
      "not\n",
      "be\n",
      "very\n",
      "competent.”\n",
      "He\n",
      "never\n",
      "thought\n",
      "the\n",
      "drivers\n",
      "needed\n",
      "help.\n",
      "“Please\n",
      "help\n",
      "me,”\n",
      "said\n",
      "the\n",
      "female\n",
      "driver\n",
      "in\n",
      "a\n",
      "weak\n",
      "voice.\n",
      "“Help\n",
      "me,\n",
      "too,”\n",
      "said\n",
      "the\n",
      "male\n",
      "driver.\n",
      "“I’m\n",
      "hurt\n",
      "and\n",
      "can’t\n",
      "move.”\n",
      "Suddenly\n",
      "the\n",
      "bachelor\n",
      "realized\n",
      "he\n",
      "was\n",
      "the\n",
      "only\n",
      "person\n",
      "near\n",
      "the\n",
      "accident.\n",
      "He\n",
      "quit\n",
      "thinking\n",
      "and\n",
      "ran\n",
      "to\n",
      "help\n",
      "the\n",
      "drivers.\n",
      "He\n",
      "carefully\n",
      "helped\n",
      "them\n",
      "out\n",
      "of\n",
      "their\n",
      "vehicles\n",
      "and\n",
      "then\n",
      "called\n",
      "an\n",
      "ambulance.\n",
      "The\n",
      "drivers\n",
      "were\n",
      "saved,\n",
      "and\n",
      "the\n",
      "bachelor\n",
      "felt\n",
      "the\n",
      "best\n",
      "he\n",
      "had\n",
      "in\n",
      "his\n",
      "entire\n",
      "life.\n",
      "Studying\n",
      "mythology,\n",
      "sociology,\n",
      "and\n",
      "geology\n",
      "didn’t\n",
      "give\n",
      "him\n",
      "this\n",
      "wonderful\n",
      "feeling.\n",
      "It\n",
      "was\n",
      "the\n",
      "act\n",
      "of\n",
      "helping\n",
      "others,\n",
      "not\n",
      "his\n",
      "cognitive\n",
      "skills,\n",
      "that\n",
      "gave\n",
      "him\n",
      "this\n",
      "great\n",
      "feeling.\n",
      "He\n",
      "had\n",
      "learned\n",
      "an\n",
      "important\n",
      "lesson.\n",
      "He\n",
      "learned\n",
      "that\n",
      "intellect\n",
      "isn’t\n",
      "everything;\n",
      "being\n",
      "helpful\n",
      "is\n",
      "just\n",
      "as\n",
      "important.\n",
      "“Having\n",
      "only\n",
      "a\n",
      "brain\n",
      "is\n",
      "not\n",
      "enough,”\n",
      "he\n",
      "thought.\n",
      "“You\n",
      "must\n",
      "also\n",
      "have\n",
      "a\n",
      "heart.”\n"
     ]
    }
   ],
   "source": [
    "sent_score = {}\n",
    "for sent in sent_token:\n",
    "    for word in sent.split():\n",
    "        if word.lower() in word_freq.keys():\n",
    "            if sent not in sent_score.keys():\n",
    "                sent_score[sent] = word_freq[word]\n",
    "            else:\n",
    "                sent_score[sent] += word_freq[word]\n",
    "        print(word)"
   ]
  },
  {
   "cell_type": "code",
   "execution_count": 44,
   "id": "a59bd173",
   "metadata": {},
   "outputs": [
    {
     "data": {
      "text/plain": [
       "{'keen young bachelor had finished his studies at the university.': 1.7999999999999998,\n",
       " 'As soon as he had received his diploma, he asserted to everyone he met that he was the smartest person in town.': 1.4,\n",
       " '“I excel at everything I study,” he said, bragging about his knowledge.': 0.4,\n",
       " '“I’ve mastered calculus and physiology.': 0.4,\n",
       " 'I even understand the great theoretical teachings of science, such as relativity.': 1.2,\n",
       " 'Whether it’s the movements of celestial objects, like planets and stars, or how to harness the power of radioactive substances, I know everything.”': 2.0,\n",
       " 'But actually, there was something the bachelor did not know.': 1.0,\n",
       " 'Though his analytic abilities were great, he failed to notice he was missing something very important in his life.': 1.6,\n",
       " 'One day while walking through town, the bachelor witnessed a collision between two cars.': 1.7999999999999998,\n",
       " 'Both drivers appeared to be injured, but the scholar only stood and watched.': 1.4,\n",
       " 'He thought to himself, “Those idiots should have been more alert.': 0.8,\n",
       " 'He never thought the drivers needed help.': 1.5999999999999999,\n",
       " '“Please help me,” said the female driver in a weak voice.': 2.2,\n",
       " '“Help me, too,” said the male driver.': 0.8,\n",
       " '“I’m hurt and can’t move.”': 0.2,\n",
       " 'Suddenly the bachelor realized he was the only person near the accident.': 1.8,\n",
       " 'He quit thinking and ran to help the drivers.': 1.4000000000000001,\n",
       " 'He carefully helped them out of their vehicles and then called an ambulance.': 0.8,\n",
       " 'The drivers were saved, and the bachelor felt the best he had in his entire life.': 2.4000000000000004,\n",
       " 'Studying mythology, sociology, and geology didn’t give him this wonderful feeling.': 0.4,\n",
       " 'It was the act of helping others, not his cognitive skills, that gave him this great feeling.': 1.4,\n",
       " 'He had learned an important lesson.': 1.0,\n",
       " 'He learned that intellect isn’t everything; being helpful is just as important.': 0.8,\n",
       " '“Having only a brain is not enough,” he thought.': 0.2}"
      ]
     },
     "execution_count": 44,
     "metadata": {},
     "output_type": "execute_result"
    }
   ],
   "source": [
    "sent_score"
   ]
  },
  {
   "cell_type": "code",
   "execution_count": 47,
   "id": "018adb19",
   "metadata": {},
   "outputs": [],
   "source": [
    "df = pd.DataFrame(list(sent_score.items()), columns = ['Sentence', 'Score'])"
   ]
  },
  {
   "cell_type": "code",
   "execution_count": 48,
   "id": "679f9957",
   "metadata": {},
   "outputs": [
    {
     "data": {
      "text/html": [
       "<div>\n",
       "<style scoped>\n",
       "    .dataframe tbody tr th:only-of-type {\n",
       "        vertical-align: middle;\n",
       "    }\n",
       "\n",
       "    .dataframe tbody tr th {\n",
       "        vertical-align: top;\n",
       "    }\n",
       "\n",
       "    .dataframe thead th {\n",
       "        text-align: right;\n",
       "    }\n",
       "</style>\n",
       "<table border=\"1\" class=\"dataframe\">\n",
       "  <thead>\n",
       "    <tr style=\"text-align: right;\">\n",
       "      <th></th>\n",
       "      <th>Sentence</th>\n",
       "      <th>Score</th>\n",
       "    </tr>\n",
       "  </thead>\n",
       "  <tbody>\n",
       "    <tr>\n",
       "      <th>0</th>\n",
       "      <td>keen young bachelor had finished his studies a...</td>\n",
       "      <td>1.8</td>\n",
       "    </tr>\n",
       "    <tr>\n",
       "      <th>1</th>\n",
       "      <td>As soon as he had received his diploma, he ass...</td>\n",
       "      <td>1.4</td>\n",
       "    </tr>\n",
       "    <tr>\n",
       "      <th>2</th>\n",
       "      <td>“I excel at everything I study,” he said, brag...</td>\n",
       "      <td>0.4</td>\n",
       "    </tr>\n",
       "    <tr>\n",
       "      <th>3</th>\n",
       "      <td>“I’ve mastered calculus and physiology.</td>\n",
       "      <td>0.4</td>\n",
       "    </tr>\n",
       "    <tr>\n",
       "      <th>4</th>\n",
       "      <td>I even understand the great theoretical teachi...</td>\n",
       "      <td>1.2</td>\n",
       "    </tr>\n",
       "    <tr>\n",
       "      <th>5</th>\n",
       "      <td>Whether it’s the movements of celestial object...</td>\n",
       "      <td>2.0</td>\n",
       "    </tr>\n",
       "    <tr>\n",
       "      <th>6</th>\n",
       "      <td>But actually, there was something the bachelor...</td>\n",
       "      <td>1.0</td>\n",
       "    </tr>\n",
       "    <tr>\n",
       "      <th>7</th>\n",
       "      <td>Though his analytic abilities were great, he f...</td>\n",
       "      <td>1.6</td>\n",
       "    </tr>\n",
       "    <tr>\n",
       "      <th>8</th>\n",
       "      <td>One day while walking through town, the bachel...</td>\n",
       "      <td>1.8</td>\n",
       "    </tr>\n",
       "    <tr>\n",
       "      <th>9</th>\n",
       "      <td>Both drivers appeared to be injured, but the s...</td>\n",
       "      <td>1.4</td>\n",
       "    </tr>\n",
       "    <tr>\n",
       "      <th>10</th>\n",
       "      <td>He thought to himself, “Those idiots should ha...</td>\n",
       "      <td>0.8</td>\n",
       "    </tr>\n",
       "    <tr>\n",
       "      <th>11</th>\n",
       "      <td>He never thought the drivers needed help.</td>\n",
       "      <td>1.6</td>\n",
       "    </tr>\n",
       "    <tr>\n",
       "      <th>12</th>\n",
       "      <td>“Please help me,” said the female driver in a ...</td>\n",
       "      <td>2.2</td>\n",
       "    </tr>\n",
       "    <tr>\n",
       "      <th>13</th>\n",
       "      <td>“Help me, too,” said the male driver.</td>\n",
       "      <td>0.8</td>\n",
       "    </tr>\n",
       "    <tr>\n",
       "      <th>14</th>\n",
       "      <td>“I’m hurt and can’t move.”</td>\n",
       "      <td>0.2</td>\n",
       "    </tr>\n",
       "    <tr>\n",
       "      <th>15</th>\n",
       "      <td>Suddenly the bachelor realized he was the only...</td>\n",
       "      <td>1.8</td>\n",
       "    </tr>\n",
       "    <tr>\n",
       "      <th>16</th>\n",
       "      <td>He quit thinking and ran to help the drivers.</td>\n",
       "      <td>1.4</td>\n",
       "    </tr>\n",
       "    <tr>\n",
       "      <th>17</th>\n",
       "      <td>He carefully helped them out of their vehicles...</td>\n",
       "      <td>0.8</td>\n",
       "    </tr>\n",
       "    <tr>\n",
       "      <th>18</th>\n",
       "      <td>The drivers were saved, and the bachelor felt ...</td>\n",
       "      <td>2.4</td>\n",
       "    </tr>\n",
       "    <tr>\n",
       "      <th>19</th>\n",
       "      <td>Studying mythology, sociology, and geology did...</td>\n",
       "      <td>0.4</td>\n",
       "    </tr>\n",
       "    <tr>\n",
       "      <th>20</th>\n",
       "      <td>It was the act of helping others, not his cogn...</td>\n",
       "      <td>1.4</td>\n",
       "    </tr>\n",
       "    <tr>\n",
       "      <th>21</th>\n",
       "      <td>He had learned an important lesson.</td>\n",
       "      <td>1.0</td>\n",
       "    </tr>\n",
       "    <tr>\n",
       "      <th>22</th>\n",
       "      <td>He learned that intellect isn’t everything; be...</td>\n",
       "      <td>0.8</td>\n",
       "    </tr>\n",
       "    <tr>\n",
       "      <th>23</th>\n",
       "      <td>“Having only a brain is not enough,” he thought.</td>\n",
       "      <td>0.2</td>\n",
       "    </tr>\n",
       "  </tbody>\n",
       "</table>\n",
       "</div>"
      ],
      "text/plain": [
       "                                             Sentence  Score\n",
       "0   keen young bachelor had finished his studies a...    1.8\n",
       "1   As soon as he had received his diploma, he ass...    1.4\n",
       "2   “I excel at everything I study,” he said, brag...    0.4\n",
       "3             “I’ve mastered calculus and physiology.    0.4\n",
       "4   I even understand the great theoretical teachi...    1.2\n",
       "5   Whether it’s the movements of celestial object...    2.0\n",
       "6   But actually, there was something the bachelor...    1.0\n",
       "7   Though his analytic abilities were great, he f...    1.6\n",
       "8   One day while walking through town, the bachel...    1.8\n",
       "9   Both drivers appeared to be injured, but the s...    1.4\n",
       "10  He thought to himself, “Those idiots should ha...    0.8\n",
       "11          He never thought the drivers needed help.    1.6\n",
       "12  “Please help me,” said the female driver in a ...    2.2\n",
       "13              “Help me, too,” said the male driver.    0.8\n",
       "14                         “I’m hurt and can’t move.”    0.2\n",
       "15  Suddenly the bachelor realized he was the only...    1.8\n",
       "16      He quit thinking and ran to help the drivers.    1.4\n",
       "17  He carefully helped them out of their vehicles...    0.8\n",
       "18  The drivers were saved, and the bachelor felt ...    2.4\n",
       "19  Studying mythology, sociology, and geology did...    0.4\n",
       "20  It was the act of helping others, not his cogn...    1.4\n",
       "21                He had learned an important lesson.    1.0\n",
       "22  He learned that intellect isn’t everything; be...    0.8\n",
       "23   “Having only a brain is not enough,” he thought.    0.2"
      ]
     },
     "execution_count": 48,
     "metadata": {},
     "output_type": "execute_result"
    }
   ],
   "source": [
    "df"
   ]
  },
  {
   "cell_type": "code",
   "execution_count": 50,
   "id": "99d0f99d",
   "metadata": {},
   "outputs": [],
   "source": [
    "num_sentences = 3\n",
    "n = nlargest(num_sentences, sent_score, key = sent_score.get)"
   ]
  },
  {
   "cell_type": "code",
   "execution_count": 51,
   "id": "4d46386d",
   "metadata": {},
   "outputs": [
    {
     "data": {
      "text/plain": [
       "['The drivers were saved, and the bachelor felt the best he had in his entire life.',\n",
       " '“Please help me,” said the female driver in a weak voice.',\n",
       " 'Whether it’s the movements of celestial objects, like planets and stars, or how to harness the power of radioactive substances, I know everything.”']"
      ]
     },
     "execution_count": 51,
     "metadata": {},
     "output_type": "execute_result"
    }
   ],
   "source": [
    "n"
   ]
  },
  {
   "cell_type": "code",
   "execution_count": 52,
   "id": "c021ee51",
   "metadata": {},
   "outputs": [],
   "source": [
    "s_text = ' '.join(n)"
   ]
  },
  {
   "cell_type": "code",
   "execution_count": 53,
   "id": "42a51c4a",
   "metadata": {},
   "outputs": [
    {
     "data": {
      "text/plain": [
       "'The drivers were saved, and the bachelor felt the best he had in his entire life. “Please help me,” said the female driver in a weak voice. Whether it’s the movements of celestial objects, like planets and stars, or how to harness the power of radioactive substances, I know everything.”'"
      ]
     },
     "execution_count": 53,
     "metadata": {},
     "output_type": "execute_result"
    }
   ],
   "source": [
    "s_text"
   ]
  },
  {
   "cell_type": "code",
   "execution_count": 78,
   "id": "16aec176",
   "metadata": {},
   "outputs": [],
   "source": [
    "g = []\n",
    "for sent, score in sent_score.items():\n",
    "    for item in n:\n",
    "        if sent == item:\n",
    "            g.append(sent)"
   ]
  },
  {
   "cell_type": "code",
   "execution_count": 79,
   "id": "1c253744",
   "metadata": {},
   "outputs": [
    {
     "data": {
      "text/plain": [
       "['Whether it’s the movements of celestial objects, like planets and stars, or how to harness the power of radioactive substances, I know everything.”',\n",
       " '“Please help me,” said the female driver in a weak voice.',\n",
       " 'The drivers were saved, and the bachelor felt the best he had in his entire life.']"
      ]
     },
     "execution_count": 79,
     "metadata": {},
     "output_type": "execute_result"
    }
   ],
   "source": [
    "g"
   ]
  },
  {
   "cell_type": "code",
   "execution_count": 80,
   "id": "c7169b55",
   "metadata": {},
   "outputs": [],
   "source": [
    "order_summarize = ' '.join(g)"
   ]
  },
  {
   "cell_type": "code",
   "execution_count": 81,
   "id": "799bea79",
   "metadata": {},
   "outputs": [
    {
     "data": {
      "text/plain": [
       "'Whether it’s the movements of celestial objects, like planets and stars, or how to harness the power of radioactive substances, I know everything.” “Please help me,” said the female driver in a weak voice. The drivers were saved, and the bachelor felt the best he had in his entire life.'"
      ]
     },
     "execution_count": 81,
     "metadata": {},
     "output_type": "execute_result"
    }
   ],
   "source": [
    "order_summarize"
   ]
  },
  {
   "cell_type": "markdown",
   "id": "9dafea8a",
   "metadata": {},
   "source": [
    "# Abstracting Text Summarization"
   ]
  },
  {
   "cell_type": "code",
   "execution_count": 84,
   "id": "9171bf19",
   "metadata": {},
   "outputs": [
    {
     "data": {
      "application/vnd.jupyter.widget-view+json": {
       "model_id": "f1aec69b6c3c430d8da7ea00ce19b9a5",
       "version_major": 2,
       "version_minor": 0
      },
      "text/plain": [
       "config.json:   0%|          | 0.00/1.21k [00:00<?, ?B/s]"
      ]
     },
     "metadata": {},
     "output_type": "display_data"
    },
    {
     "name": "stderr",
     "output_type": "stream",
     "text": [
      "C:\\Users\\power\\AppData\\Local\\Programs\\Python\\Python310\\lib\\site-packages\\huggingface_hub\\file_download.py:159: UserWarning: `huggingface_hub` cache-system uses symlinks by default to efficiently store duplicated files but your machine does not support them in C:\\Users\\power\\.cache\\huggingface\\hub\\models--t5-base. Caching files will still work but in a degraded version that might require more space on your disk. This warning can be disabled by setting the `HF_HUB_DISABLE_SYMLINKS_WARNING` environment variable. For more details, see https://huggingface.co/docs/huggingface_hub/how-to-cache#limitations.\n",
      "To support symlinks on Windows, you either need to activate Developer Mode or to run Python as an administrator. In order to see activate developer mode, see this article: https://docs.microsoft.com/en-us/windows/apps/get-started/enable-your-device-for-development\n",
      "  warnings.warn(message)\n"
     ]
    },
    {
     "data": {
      "application/vnd.jupyter.widget-view+json": {
       "model_id": "354fca1755654b2486a3b23055d2bde6",
       "version_major": 2,
       "version_minor": 0
      },
      "text/plain": [
       "model.safetensors:   0%|          | 0.00/892M [00:00<?, ?B/s]"
      ]
     },
     "metadata": {},
     "output_type": "display_data"
    },
    {
     "data": {
      "application/vnd.jupyter.widget-view+json": {
       "model_id": "adb258bc44114cd8a181fdc4f0db13f7",
       "version_major": 2,
       "version_minor": 0
      },
      "text/plain": [
       "generation_config.json:   0%|          | 0.00/147 [00:00<?, ?B/s]"
      ]
     },
     "metadata": {},
     "output_type": "display_data"
    },
    {
     "data": {
      "application/vnd.jupyter.widget-view+json": {
       "model_id": "31a30d91055f4fbca17d6060fbfc4a0c",
       "version_major": 2,
       "version_minor": 0
      },
      "text/plain": [
       "spiece.model:   0%|          | 0.00/792k [00:00<?, ?B/s]"
      ]
     },
     "metadata": {},
     "output_type": "display_data"
    },
    {
     "data": {
      "application/vnd.jupyter.widget-view+json": {
       "model_id": "ef61aff484254a52a209850d7a6abe1e",
       "version_major": 2,
       "version_minor": 0
      },
      "text/plain": [
       "tokenizer.json:   0%|          | 0.00/1.39M [00:00<?, ?B/s]"
      ]
     },
     "metadata": {},
     "output_type": "display_data"
    },
    {
     "name": "stderr",
     "output_type": "stream",
     "text": [
      "C:\\Users\\power\\AppData\\Local\\Programs\\Python\\Python310\\lib\\site-packages\\transformers\\tokenization_utils_base.py:1601: FutureWarning: `clean_up_tokenization_spaces` was not set. It will be set to `True` by default. This behavior will be depracted in transformers v4.45, and will be then set to `False` by default. For more details check this issue: https://github.com/huggingface/transformers/issues/31884\n",
      "  warnings.warn(\n"
     ]
    }
   ],
   "source": [
    "summarizer = pipeline('summarization', model = 't5-base', tokenizer = 't5-base', framework = 'pt')"
   ]
  },
  {
   "cell_type": "code",
   "execution_count": 85,
   "id": "a3913d12",
   "metadata": {},
   "outputs": [],
   "source": [
    "summary = summarizer(text, max_length = 100, min_length = 10, do_sample = False)"
   ]
  },
  {
   "cell_type": "code",
   "execution_count": 86,
   "id": "519bdacb",
   "metadata": {},
   "outputs": [
    {
     "data": {
      "text/plain": [
       "[{'summary_text': 'a young bachelor witnessed a collision between two cars while walking through town . he thought to himself, \"Those idiots should have been more alert,\" he said . the bachelor realized he was the only person near the accident .'}]"
      ]
     },
     "execution_count": 86,
     "metadata": {},
     "output_type": "execute_result"
    }
   ],
   "source": [
    "summary"
   ]
  },
  {
   "cell_type": "code",
   "execution_count": 87,
   "id": "639a1ae6",
   "metadata": {},
   "outputs": [
    {
     "name": "stdout",
     "output_type": "stream",
     "text": [
      "a young bachelor witnessed a collision between two cars while walking through town . he thought to himself, \"Those idiots should have been more alert,\" he said . the bachelor realized he was the only person near the accident .\n"
     ]
    }
   ],
   "source": [
    "print(summary[0]['summary_text'])"
   ]
  }
 ],
 "metadata": {
  "kernelspec": {
   "display_name": "Python 3 (ipykernel)",
   "language": "python",
   "name": "python3"
  },
  "language_info": {
   "codemirror_mode": {
    "name": "ipython",
    "version": 3
   },
   "file_extension": ".py",
   "mimetype": "text/x-python",
   "name": "python",
   "nbconvert_exporter": "python",
   "pygments_lexer": "ipython3",
   "version": "3.10.5"
  }
 },
 "nbformat": 4,
 "nbformat_minor": 5
}
